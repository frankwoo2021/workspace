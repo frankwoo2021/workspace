{
 "cells": [
  {
   "cell_type": "code",
   "execution_count": null,
   "metadata": {},
   "outputs": [],
   "source": [
    "import tensorflow as tf \n",
    "print(tf.__version__)\n",
    "# print(tf.__path__)\n",
    "print(tf.test.is_built_with_cuda())\n",
    "print(tf.config.list_physical_devices('GPU'))"
   ]
  },
  {
   "cell_type": "code",
   "execution_count": null,
   "metadata": {},
   "outputs": [],
   "source": [
    "from matplotlib import pyplot as plt \n",
    "\n",
    "def f(x):\n",
    "    return -10*(x**2)+100*x+5\n",
    "\n",
    "def fd(x):\n",
    "    return -20*x+100\n",
    "\n",
    "x = list(range(0,11))\n",
    "y = [f(i) for i in x]\n",
    "yd = [fd(i) for i in x]\n",
    "\n",
    "plt.plot(x, y, color='green', linewidth=1)\n",
    "plt.plot(x, yd, color='purple', linewidth=1)\n",
    "\n",
    "x1=2; x2=5; x3=8\n",
    "plt.plot([x1-1,x1+1], [f(x1)-fd(x1),f(x1)+fd(x1)], color='red', linewidth=1)\n",
    "plt.plot([x2-1,x2+1], [f(x2)-fd(x2),f(x2)+fd(x2)], color='red', linewidth=1)\n",
    "plt.plot([x3-1,x3+1], [f(x3)-fd(x3),f(x3)+fd(x3)], color='red', linewidth=1)\n",
    "\n",
    "plt.axvline(5)\n",
    "plt.grid()\n",
    "plt.show()"
   ]
  },
  {
   "cell_type": "code",
   "execution_count": null,
   "metadata": {},
   "outputs": [],
   "source": [
    "from sympy import *\n",
    "from sympy.solvers import solve \n",
    "\n",
    "x = Symbol('x')\n",
    "y = x**2 - 2*x + 7\n",
    "yprime = y.diff(x)  # calc differential func where y is expr and x is diff obj\n",
    "print(yprime)\n",
    "print()\n",
    "\n",
    "dict1 = solve([yprime])  # \"solve\" func is to compute var in its expr=0\n",
    "print(dict1)  # solve's result is a diction e.g. {x:1, y:2, ...} where x, y are index labels\n",
    "x1 = dict1[x]  # so, dict1[x] is the value\n",
    "print(f'x={x1}时，最小值={x1**2 + 2*x1 +7}')  # print(f'...{x}...{expr}') where f is formatter, {expr} being evaluated\n",
    "print()\n"
   ]
  },
  {
   "cell_type": "code",
   "execution_count": null,
   "metadata": {},
   "outputs": [],
   "source": [
    "from sympy import *\n",
    "x = Symbol('x')\n",
    "# d[f(g(x))]/dx\n",
    "g = x**3\n",
    "f = g**2\n",
    "yprime1 = f.diff(x)\n",
    "print(yprime1)\n",
    "print()\n",
    "\n",
    "# f'(g(x))*g'(x)\n",
    "g = Symbol('g')\n",
    "f = g**2\n",
    "g1 = x**3\n",
    "yprime2 = f.diff(g)*g1.diff(x)\n",
    "print(f'复合函数f(g(x))的导数={yprime2.subs({g:x**3})}')\n",
    "print()\n",
    "\n"
   ]
  },
  {
   "cell_type": "code",
   "execution_count": null,
   "metadata": {},
   "outputs": [],
   "source": [
    "from sympy import *\n",
    "# f(x,y) = x^2 + y^2\n",
    "x, y = symbols('x y')\n",
    "f = x**2 + y**2\n",
    "fx = f.diff(x)\n",
    "fy = f.diff(y)\n",
    "print(f'diff_x is: {fx}; diff_y is: {fy}\\n')\n"
   ]
  },
  {
   "cell_type": "code",
   "execution_count": null,
   "metadata": {},
   "outputs": [],
   "source": [
    "import numpy as np\n",
    "import matplotlib.pyplot as plt\n",
    "\n",
    "# f(x)=x^2\n",
    "def f(x): return x**2\n",
    "\n",
    "def fd(x): return 2*x \n",
    "\n",
    "def GD(x_start, df, epochs, lr):\n",
    "    xs = np.zeros(epochs+1)\n",
    "    w = x_start\n",
    "    xs[0] = w\n",
    "    for i in range(epochs):\n",
    "        dx = df(w)\n",
    "        w += - lr*dx\n",
    "        xs[i+1] = w \n",
    "    return xs\n",
    "\n",
    "x_satrt = -5\n",
    "epochs = 25\n",
    "lr = 0.01\n",
    "\n",
    "w = GD(x_satrt, fd, epochs, lr=lr)\n",
    "print(np.around(w,2))\n",
    "\n",
    "from numpy import arange\n",
    "t = arange(-6.0, 6.0, 0.01)\n",
    "plt.plot(t, f(t), c='b')\n",
    "plt.plot(w, f(w), c='r', label='lr={}'.format(lr))\n",
    "plt.scatter(w, f(w), c='r')\n",
    "\n",
    "plt.xlabel('w')\n",
    "plt.ylabel('Loss')\n",
    "plt.rcParams['axes.unicode_minus'] = False\n",
    "plt.show()\n",
    "\n",
    "\n",
    "\n",
    "\n",
    "\n",
    "\n",
    "        "
   ]
  }
 ],
 "metadata": {
  "kernelspec": {
   "display_name": "Python 3",
   "language": "python",
   "name": "python3"
  },
  "language_info": {
   "codemirror_mode": {
    "name": "ipython",
    "version": 3
   },
   "file_extension": ".py",
   "mimetype": "text/x-python",
   "name": "python",
   "nbconvert_exporter": "python",
   "pygments_lexer": "ipython3",
   "version": "3.9.0"
  },
  "orig_nbformat": 4,
  "vscode": {
   "interpreter": {
    "hash": "767d51c1340bd893661ea55ea3124f6de3c7a262a8b4abca0554b478b1e2ff90"
   }
  }
 },
 "nbformat": 4,
 "nbformat_minor": 2
}
