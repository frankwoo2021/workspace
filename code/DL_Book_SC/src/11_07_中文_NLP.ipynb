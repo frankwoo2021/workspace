{
 "cells": [
  {
   "cell_type": "markdown",
   "metadata": {},
   "source": [
    "# 中文 NLP"
   ]
  },
  {
   "cell_type": "markdown",
   "metadata": {},
   "source": [
    "## 简体字分词"
   ]
  },
  {
   "cell_type": "code",
   "execution_count": 33,
   "metadata": {},
   "outputs": [
    {
     "name": "stdout",
     "output_type": "stream",
     "text": [
      "Requirement already satisfied: jieba in c:\\users\\ariel\\anaconda3\\lib\\site-packages (0.42.1)\n"
     ]
    }
   ],
   "source": [
    "!pip install jieba"
   ]
  },
  {
   "cell_type": "code",
   "execution_count": 34,
   "metadata": {},
   "outputs": [
    {
     "name": "stdout",
     "output_type": "stream",
     "text": [
      "全模式: 增加/ 用/ 户/ 数量/ 和/ 使用/ 黏性/ ，/ 提升/ 平台/ 活/ 跃/ 度/ ，/ 提高/ 高平/ 平台/ 在/ 广/ 告/ 谈/ 判中/ 的/ 议/ 价/ 能力\n",
      "精确模式: 增加/ 用户/ 数量/ 和/ 使用/ 黏性/ ，/ 提升/ 平台/ 活跃度/ ，/ 提高/ 平台/ 在/ 广告/ 谈判/ 中/ 的/ 议价/ 能力\n",
      "搜索引擎模式:  增加, 用户, 数量, 和, 使用, 黏性, ，, 提升, 平台, 活跃度, ，, 提高, 平台, 在, 广告, 谈判, 中, 的, 议价, 能力\n"
     ]
    }
   ],
   "source": [
    "# 测试语句来自新闻 http://finance.people.com.cn/n1/2021/0902/c1004-32215242.html\n",
    "# 载入相关套件\n",
    "import numpy as np\n",
    "import jieba\n",
    "\n",
    "# 分词\n",
    "text = \"增加用户数量和使用黏性，提升平台活跃度，提高平台在广告谈判中的议价能力\"\n",
    "# cut_all=True：全模式\n",
    "seg_list = jieba.cut(text, cut_all=True)\n",
    "print(\"全模式: \" + \"/ \".join(seg_list))  \n",
    "\n",
    "# cut_all=False：精确模式\n",
    "seg_list = jieba.cut(text, cut_all=False)\n",
    "print(\"精确模式: \" + \"/ \".join(seg_list))  \n",
    "\n",
    "# cut_for_search：搜索引擎模式\n",
    "seg_list = jieba.cut_for_search(text)  \n",
    "print('搜索引擎模式: ', ', '.join(seg_list))"
   ]
  },
  {
   "cell_type": "markdown",
   "metadata": {},
   "source": [
    "## 繁体字分词"
   ]
  },
  {
   "cell_type": "code",
   "execution_count": 35,
   "metadata": {},
   "outputs": [
    {
     "name": "stderr",
     "output_type": "stream",
     "text": [
      "Building prefix dict from D:\\編書\\簡體版\\src_S\\jieba\\dict.txt ...\n",
      "Loading model from cache C:\\Users\\Ariel\\AppData\\Local\\Temp\\jieba.u04883f32edfe54b4952c7a2a2ed9b00c.cache\n",
      "Loading model cost 0.553 seconds.\n",
      "Prefix dict has been built successfully.\n"
     ]
    },
    {
     "name": "stdout",
     "output_type": "stream",
     "text": [
      "全模式: 新竹/ 的/ 交通/ 交通大/ 大學/ 在/ 新竹/ 的/ 大學/ 大學路/ 學路/ 路上\n",
      "精确模式: 新竹/ 的/ 交通/ 大學/ 在/ 新竹/ 的/ 大學路/ 上\n",
      "搜索引擎模式:  新竹, 的, 交通, 大學, 在, 新竹, 的, 大學, 學路, 大學路, 上\n"
     ]
    }
   ],
   "source": [
    "# 设定繁体字典\n",
    "jieba.set_dictionary('./jieba/dict.txt')\n",
    "\n",
    "# 分词\n",
    "text = \"新竹的交通大學在新竹的大學路上\"\n",
    "\n",
    "# cut_all=True：全模式\n",
    "seg_list = jieba.cut(text, cut_all=True)\n",
    "print(\"全模式: \" + \"/ \".join(seg_list))  \n",
    "\n",
    "# cut_all=False：精确模式\n",
    "seg_list = jieba.cut(text, cut_all=False)\n",
    "print(\"精确模式: \" + \"/ \".join(seg_list))  \n",
    "\n",
    "# cut_for_search：搜索引擎模式\n",
    "seg_list = jieba.cut_for_search(text)  \n",
    "print('搜索引擎模式: ', ', '.join(seg_list))"
   ]
  },
  {
   "cell_type": "markdown",
   "metadata": {},
   "source": [
    "## 分词，并显示字词位置"
   ]
  },
  {
   "cell_type": "code",
   "execution_count": 36,
   "metadata": {
    "scrolled": true
   },
   "outputs": [
    {
     "name": "stdout",
     "output_type": "stream",
     "text": [
      "单字\t开始位置\t结束位置\n",
      "新竹\t 0\t 2\n",
      "的\t 2\t 3\n",
      "交通\t 3\t 5\n",
      "大学\t 5\t 7\n",
      "在\t 7\t 8\n",
      "新竹\t 8\t10\n",
      "的\t10\t11\n",
      "大学路\t11\t14\n",
      "上\t14\t15\n"
     ]
    }
   ],
   "source": [
    "text = \"新竹的交通大学在新竹的大学路上\"\n",
    "result = jieba.tokenize(text)\n",
    "print(\"单字\\t开始位置\\t结束位置\")\n",
    "for tk in result:\n",
    "    print(f\"{tk[0]}\\t{tk[1]:-2d}\\t{tk[2]:-2d}\")"
   ]
  },
  {
   "cell_type": "markdown",
   "metadata": {},
   "source": [
    "## 加词"
   ]
  },
  {
   "cell_type": "code",
   "execution_count": 37,
   "metadata": {
    "scrolled": true
   },
   "outputs": [
    {
     "name": "stdout",
     "output_type": "stream",
     "text": [
      "加词前的分词: 张/ 惠妹/ 在/ 演唱/ 会/ 演唱/ 三天三/ 夜\n",
      "加词后的分词: 张惠妹/ 在/ 演唱会/ 演唱/ 三天三夜\n"
     ]
    }
   ],
   "source": [
    "# 测试语句\n",
    "text = \"张惠妹在演唱会演唱三天三夜\"\n",
    "\n",
    "# 加词前的分词\n",
    "seg_list = jieba.cut(text, cut_all=False)\n",
    "print(\"加词前的分词: \" + \"/ \".join(seg_list))  \n",
    "\n",
    "# 加词\n",
    "jieba.add_word('张惠妹')\n",
    "jieba.add_word('演唱会')\n",
    "jieba.add_word('三天三夜')\n",
    "\n",
    "seg_list = jieba.cut(text, cut_all=False)\n",
    "print(\"加词后的分词: \" + \"/ \".join(seg_list))  "
   ]
  },
  {
   "cell_type": "markdown",
   "metadata": {},
   "source": [
    "## 关键字萃取"
   ]
  },
  {
   "cell_type": "code",
   "execution_count": 38,
   "metadata": {},
   "outputs": [
    {
     "data": {
      "text/plain": [
       "['平台', '用户', '互联网', '算法', '推送', '信息', '推荐', '这本来', '知用户', '过分读']"
      ]
     },
     "execution_count": 38,
     "metadata": {},
     "output_type": "execute_result"
    }
   ],
   "source": [
    "# 测试语句来自新闻 http://finance.people.com.cn/n1/2021/0902/c1004-32215242.html5\n",
    "with open('./jieba/news_s.txt', encoding='utf8') as f:\n",
    "    text = f.read()\n",
    "\n",
    "# 加词前的分词\n",
    "import jieba.analyse\n",
    "\n",
    "jieba.analyse.extract_tags(text, topK=10)  "
   ]
  },
  {
   "cell_type": "markdown",
   "metadata": {},
   "source": [
    "## 关键字萃取"
   ]
  },
  {
   "cell_type": "code",
   "execution_count": 41,
   "metadata": {},
   "outputs": [
    {
     "data": {
      "text/plain": [
       "['平台', '用户', '互联网', '算法', '推送', '信息', '推荐', '户数据', '这无疑', '工具人']"
      ]
     },
     "execution_count": 41,
     "metadata": {},
     "output_type": "execute_result"
    }
   ],
   "source": [
    "# 测试语句来自新闻 http://finance.people.com.cn/n1/2021/0902/c1004-32215242.html\n",
    "with open('./jieba/news_s.txt', encoding='utf8') as f:\n",
    "    text = f.read()\n",
    "\n",
    "import jieba.analyse\n",
    "\n",
    "# 设定停用词\n",
    "jieba.analyse.set_stop_words('./jieba/stop_words_s.txt')     \n",
    "    \n",
    "# 加词前的分词\n",
    "jieba.analyse.extract_tags(text, topK=10)  "
   ]
  },
  {
   "cell_type": "markdown",
   "metadata": {},
   "source": [
    "## 词性(POS)标注"
   ]
  },
  {
   "cell_type": "code",
   "execution_count": 40,
   "metadata": {},
   "outputs": [
    {
     "name": "stdout",
     "output_type": "stream",
     "text": [
      "张惠妹 x\n",
      "在 P\n",
      "演唱会 x\n",
      "演唱 Vt\n",
      "三天三夜 x\n"
     ]
    }
   ],
   "source": [
    "# 测试语句\n",
    "text = \"张惠妹在演唱会演唱三天三夜\"\n",
    "\n",
    "# 加词\n",
    "jieba.add_word('张惠妹')\n",
    "jieba.add_word('演唱会')\n",
    "jieba.add_word('三天三夜')\n",
    "\n",
    "# 词性(POS)标注\n",
    "words = jieba.posseg.cut(text)     \n",
    "for word, flag in words:\n",
    "    print(f'{word} {flag}')"
   ]
  },
  {
   "cell_type": "code",
   "execution_count": null,
   "metadata": {},
   "outputs": [],
   "source": []
  }
 ],
 "metadata": {
  "kernelspec": {
   "display_name": "Python 3",
   "language": "python",
   "name": "python3"
  },
  "language_info": {
   "codemirror_mode": {
    "name": "ipython",
    "version": 3
   },
   "file_extension": ".py",
   "mimetype": "text/x-python",
   "name": "python",
   "nbconvert_exporter": "python",
   "pygments_lexer": "ipython3",
   "version": "3.8.5"
  }
 },
 "nbformat": 4,
 "nbformat_minor": 2
}
