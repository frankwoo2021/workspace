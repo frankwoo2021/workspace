{
 "cells": [
  {
   "cell_type": "markdown",
   "metadata": {},
   "source": [
    "## 自动微分(Automatic Differentiation)"
   ]
  },
  {
   "cell_type": "code",
   "execution_count": 1,
   "metadata": {},
   "outputs": [
    {
     "name": "stdout",
     "output_type": "stream",
     "text": [
      "6.0\n"
     ]
    }
   ],
   "source": [
    "import numpy as np \n",
    "import tensorflow as tf \n",
    "\n",
    "x = tf.Variable(3.0)         # 宣告 TensorFlow 变数(Variable)\n",
    "\n",
    "with tf.GradientTape() as g: # 自动微分\n",
    "    y = x * x                # y = x^2\n",
    "    \n",
    "dy_dx = g.gradient(y, x)     # 取得梯度， f'(x) = 2x, x=3 ==> 6\n",
    "\n",
    "print(dy_dx.numpy())         # 转换为 NumPy array 格式"
   ]
  },
  {
   "cell_type": "code",
   "execution_count": 2,
   "metadata": {},
   "outputs": [
    {
     "name": "stdout",
     "output_type": "stream",
     "text": [
      "6.0\n"
     ]
    }
   ],
   "source": [
    "import numpy as np \n",
    "import tensorflow as tf \n",
    "\n",
    "x = tf.constant(3.0)         # 宣告 TensorFlow 常数\n",
    "\n",
    "with tf.GradientTape() as g: # 自动微分\n",
    "    g.watch(x)               # 设定常数参与自动微分\n",
    "    y = x * x                # y = x^2\n",
    "    \n",
    "dy_dx = g.gradient(y, x)     # 取得梯度， f'(x) = 2x, x=3 ==> 6\n",
    "\n",
    "print(dy_dx.numpy())         # 转换为 NumPy array 格式"
   ]
  },
  {
   "cell_type": "markdown",
   "metadata": {},
   "source": [
    "## 二阶导数计算"
   ]
  },
  {
   "cell_type": "code",
   "execution_count": 3,
   "metadata": {},
   "outputs": [
    {
     "name": "stdout",
     "output_type": "stream",
     "text": [
      "一阶导数=6.0, 二阶导数=2.0\n"
     ]
    }
   ],
   "source": [
    "x = tf.constant(3.0)              # 宣告 TensorFlow 常数\n",
    "with tf.GradientTape() as g:      # 自动微分\n",
    "    g.watch(x)\n",
    "    with tf.GradientTape() as gg: # 自动微分\n",
    "        gg.watch(x)               # 设定常数参与自动微分\n",
    "        y = x * x                 # y = x^2\n",
    "        \n",
    "    dy_dx = gg.gradient(y, x)     # 一阶导数\n",
    "d2y_dx2 = g.gradient(dy_dx, x)    # 二阶导数\n",
    "\n",
    "print(f'一阶导数={dy_dx.numpy()}, 二阶导数={d2y_dx2.numpy()}') "
   ]
  },
  {
   "cell_type": "markdown",
   "metadata": {},
   "source": [
    "## 多变数导数计算"
   ]
  },
  {
   "cell_type": "code",
   "execution_count": 4,
   "metadata": {},
   "outputs": [
    {
     "name": "stdout",
     "output_type": "stream",
     "text": [
      "dy/dx=6.0, dz/dx=108.0\n"
     ]
    }
   ],
   "source": [
    "x = tf.Variable(3.0)          # 宣告 TensorFlow 常数\n",
    "with tf.GradientTape(persistent=True) as g:  # 自动微分\n",
    "    y = x * x                 # y = x^2\n",
    "    z = y * y                 # z = y^2\n",
    "    \n",
    "dz_dx = g.gradient(z, x)      # 4*x^3\n",
    "dy_dx = g.gradient(y, x)      # 2*x\n",
    "\n",
    "del g                         # 不用时可删除 GradientTape 物件\n",
    "\n",
    "print(f'dy/dx={dy_dx.numpy()}, dz/dx={dz_dx.numpy()}') "
   ]
  },
  {
   "cell_type": "markdown",
   "metadata": {},
   "source": [
    "## PyTorch自动微分的语法"
   ]
  },
  {
   "cell_type": "code",
   "execution_count": 5,
   "metadata": {},
   "outputs": [
    {
     "name": "stdout",
     "output_type": "stream",
     "text": [
      "Collecting torch\n",
      "  Downloading torch-1.9.0-cp38-cp38-win_amd64.whl (222.0 MB)\n",
      "Collecting torchvision\n",
      "  Downloading torchvision-0.10.0-cp38-cp38-win_amd64.whl (920 kB)\n",
      "Collecting torchaudio\n",
      "  Downloading torchaudio-0.9.0-cp38-cp38-win_amd64.whl (215 kB)\n",
      "Requirement already satisfied: typing-extensions in c:\\users\\ariel\\anaconda3\\lib\\site-packages (from torch) (3.7.4.3)\n",
      "Requirement already satisfied: pillow>=5.3.0 in c:\\users\\ariel\\anaconda3\\lib\\site-packages (from torchvision) (8.0.1)\n",
      "Requirement already satisfied: numpy in c:\\users\\ariel\\anaconda3\\lib\\site-packages (from torchvision) (1.19.2)\n",
      "Installing collected packages: torch, torchvision, torchaudio\n",
      "Successfully installed torch-1.9.0 torchaudio-0.9.0 torchvision-0.10.0\n"
     ]
    }
   ],
   "source": [
    "!pip install torch torchvision torchaudio"
   ]
  },
  {
   "cell_type": "code",
   "execution_count": 6,
   "metadata": {},
   "outputs": [
    {
     "name": "stdout",
     "output_type": "stream",
     "text": [
      "tensor(6.)\n"
     ]
    }
   ],
   "source": [
    "import torch       # 载入套件\n",
    "\n",
    "x = torch.tensor(3.0, requires_grad=True)  # 设定 x 参与自动微分\n",
    "y=x*x              # y = x^2\n",
    "\n",
    "y.backward()       # 反向传导\n",
    "\n",
    "print(x.grad)      # 取得梯度"
   ]
  },
  {
   "cell_type": "code",
   "execution_count": null,
   "metadata": {},
   "outputs": [],
   "source": []
  }
 ],
 "metadata": {
  "kernelspec": {
   "display_name": "Python 3",
   "language": "python",
   "name": "python3"
  },
  "language_info": {
   "codemirror_mode": {
    "name": "ipython",
    "version": 3
   },
   "file_extension": ".py",
   "mimetype": "text/x-python",
   "name": "python",
   "nbconvert_exporter": "python",
   "pygments_lexer": "ipython3",
   "version": "3.8.5"
  }
 },
 "nbformat": 4,
 "nbformat_minor": 4
}
