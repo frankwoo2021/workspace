{
 "cells": [
  {
   "cell_type": "markdown",
   "metadata": {},
   "source": [
    "# 范例1. 使用自动微分估算简单线性回归的参数(w、b)\n",
    "## $ y = wx + b$"
   ]
  },
  {
   "cell_type": "markdown",
   "metadata": {},
   "source": [
    "## 产生随机资料"
   ]
  },
  {
   "cell_type": "code",
   "execution_count": 13,
   "metadata": {},
   "outputs": [],
   "source": [
    "# 载入套件\n",
    "import numpy as np \n",
    "import tensorflow as tf \n",
    "\n",
    "# 产生线性随机资料100笔，介于 0-50\n",
    "n = 100\n",
    "X = np.linspace(0, 50, n) \n",
    "y = np.linspace(0, 50, n) \n",
    "  \n",
    "# 资料加一点杂讯(noise)\n",
    "X += np.random.uniform(-10, 10, n) \n",
    "y += np.random.uniform(-10, 10, n) "
   ]
  },
  {
   "cell_type": "markdown",
   "metadata": {},
   "source": [
    "## 建立模型"
   ]
  },
  {
   "cell_type": "code",
   "execution_count": 14,
   "metadata": {},
   "outputs": [],
   "source": [
    "# 定义完全连接层(Dense)\n",
    "# units：输出神经元个数，input_shape：输入神经元个数\n",
    "layer1 = tf.keras.layers.Dense(units=1, input_shape=[1]) \n",
    "\n",
    "# 神经网路包含一层完全连接层\n",
    "model = tf.keras.Sequential([layer1])"
   ]
  },
  {
   "cell_type": "code",
   "execution_count": 15,
   "metadata": {},
   "outputs": [],
   "source": [
    "# 定义模型的损失函数(loss)为 MSE，优化器(optimizer)为 adam\n",
    "model.compile(loss='mean_squared_error',\n",
    "              optimizer=tf.keras.optimizers.Adam())"
   ]
  },
  {
   "cell_type": "markdown",
   "metadata": {},
   "source": [
    "## 模型训练"
   ]
  },
  {
   "cell_type": "code",
   "execution_count": 16,
   "metadata": {
    "scrolled": true
   },
   "outputs": [],
   "source": [
    "history = model.fit(X, y, epochs=500, verbose=False)"
   ]
  },
  {
   "cell_type": "markdown",
   "metadata": {},
   "source": [
    "## 训练过程绘图"
   ]
  },
  {
   "cell_type": "code",
   "execution_count": 17,
   "metadata": {
    "scrolled": false
   },
   "outputs": [
    {
     "data": {
      "text/plain": [
       "[<matplotlib.lines.Line2D at 0x16a3be6a0d0>]"
      ]
     },
     "execution_count": 17,
     "metadata": {},
     "output_type": "execute_result"
    },
    {
     "data": {
      "image/png": "[encoded data removed]",
      "text/plain": [
       "<Figure size 432x288 with 1 Axes>"
      ]
     },
     "metadata": {
      "needs_background": "light"
     },
     "output_type": "display_data"
    }
   ],
   "source": [
    "import matplotlib.pyplot as plt\n",
    "plt.rcParams['font.sans-serif'] = ['Microsoft JhengHei'] \n",
    "plt.rcParams['axes.unicode_minus'] = False\n",
    "\n",
    "\n",
    "plt.xlabel('训练周期', fontsize=20)\n",
    "plt.ylabel(\"损失函数(loss)\", fontsize=20)\n",
    "plt.plot(history.history['loss'])"
   ]
  },
  {
   "cell_type": "markdown",
   "metadata": {},
   "source": [
    "## 取得模型参数"
   ]
  },
  {
   "cell_type": "code",
   "execution_count": 18,
   "metadata": {},
   "outputs": [
    {
     "name": "stdout",
     "output_type": "stream",
     "text": [
      "w：0.9478 , b：0.9781\n"
     ]
    }
   ],
   "source": [
    "w = layer1.get_weights()[0][0][0]\n",
    "b = layer1.get_weights()[1][0]\n",
    "\n",
    "print(f\"w：{w:.4f} , b：{b:.4f}\")"
   ]
  },
  {
   "cell_type": "markdown",
   "metadata": {},
   "source": [
    "## 绘图显示回归线"
   ]
  },
  {
   "cell_type": "code",
   "execution_count": 19,
   "metadata": {},
   "outputs": [
    {
     "data": {
      "text/plain": [
       "<matplotlib.legend.Legend at 0x16a3bd48640>"
      ]
     },
     "execution_count": 19,
     "metadata": {},
     "output_type": "execute_result"
    },
    {
     "data": {
      "image/png": "[encoded data removed]",
      "text/plain": [
       "<Figure size 432x288 with 1 Axes>"
      ]
     },
     "metadata": {
      "needs_background": "light"
     },
     "output_type": "display_data"
    }
   ],
   "source": [
    "import matplotlib.pyplot as plt \n",
    "\n",
    "plt.scatter(X, y, label='data')\n",
    "plt.plot(X, X * w + b, 'r-', label='predicted')\n",
    "plt.legend()"
   ]
  },
  {
   "cell_type": "code",
   "execution_count": null,
   "metadata": {},
   "outputs": [],
   "source": []
  },
  {
   "cell_type": "markdown",
   "metadata": {},
   "source": [
    "# 范例2. 使用完全连接层推算华氏与摄氏温度的换算公式"
   ]
  },
  {
   "cell_type": "markdown",
   "metadata": {},
   "source": [
    "## 产生随机资料"
   ]
  },
  {
   "cell_type": "code",
   "execution_count": 20,
   "metadata": {
    "scrolled": true
   },
   "outputs": [
    {
     "name": "stdout",
     "output_type": "stream",
     "text": [
      "华氏(F)：-58.00 , 摄氏(C)：-50\n",
      "华氏(F)：-56.20 , 摄氏(C)：-49\n",
      "华氏(F)：-54.40 , 摄氏(C)：-48\n",
      "华氏(F)：-52.60 , 摄氏(C)：-47\n",
      "华氏(F)：-50.80 , 摄氏(C)：-46\n",
      "华氏(F)：-49.00 , 摄氏(C)：-45\n",
      "华氏(F)：-47.20 , 摄氏(C)：-44\n",
      "华氏(F)：-45.40 , 摄氏(C)：-43\n",
      "华氏(F)：-43.60 , 摄氏(C)：-42\n",
      "华氏(F)：-41.80 , 摄氏(C)：-41\n",
      "华氏(F)：-40.00 , 摄氏(C)：-40\n",
      "华氏(F)：-38.20 , 摄氏(C)：-39\n",
      "华氏(F)：-36.40 , 摄氏(C)：-38\n",
      "华氏(F)：-34.60 , 摄氏(C)：-37\n",
      "华氏(F)：-32.80 , 摄氏(C)：-36\n",
      "华氏(F)：-31.00 , 摄氏(C)：-35\n",
      "华氏(F)：-29.20 , 摄氏(C)：-34\n",
      "华氏(F)：-27.40 , 摄氏(C)：-33\n",
      "华氏(F)：-25.60 , 摄氏(C)：-32\n",
      "华氏(F)：-23.80 , 摄氏(C)：-31\n",
      "华氏(F)：-22.00 , 摄氏(C)：-30\n",
      "华氏(F)：-20.20 , 摄氏(C)：-29\n",
      "华氏(F)：-18.40 , 摄氏(C)：-28\n",
      "华氏(F)：-16.60 , 摄氏(C)：-27\n",
      "华氏(F)：-14.80 , 摄氏(C)：-26\n",
      "华氏(F)：-13.00 , 摄氏(C)：-25\n",
      "华氏(F)：-11.20 , 摄氏(C)：-24\n",
      "华氏(F)：-9.40 , 摄氏(C)：-23\n",
      "华氏(F)：-7.60 , 摄氏(C)：-22\n",
      "华氏(F)：-5.80 , 摄氏(C)：-21\n",
      "华氏(F)：-4.00 , 摄氏(C)：-20\n",
      "华氏(F)：-2.20 , 摄氏(C)：-19\n",
      "华氏(F)：-0.40 , 摄氏(C)：-18\n",
      "华氏(F)：1.40 , 摄氏(C)：-17\n",
      "华氏(F)：3.20 , 摄氏(C)：-16\n",
      "华氏(F)：5.00 , 摄氏(C)：-15\n",
      "华氏(F)：6.80 , 摄氏(C)：-14\n",
      "华氏(F)：8.60 , 摄氏(C)：-13\n",
      "华氏(F)：10.40 , 摄氏(C)：-12\n",
      "华氏(F)：12.20 , 摄氏(C)：-11\n",
      "华氏(F)：14.00 , 摄氏(C)：-10\n",
      "华氏(F)：15.80 , 摄氏(C)：-9\n",
      "华氏(F)：17.60 , 摄氏(C)：-8\n",
      "华氏(F)：19.40 , 摄氏(C)：-7\n",
      "华氏(F)：21.20 , 摄氏(C)：-6\n",
      "华氏(F)：23.00 , 摄氏(C)：-5\n",
      "华氏(F)：24.80 , 摄氏(C)：-4\n",
      "华氏(F)：26.60 , 摄氏(C)：-3\n",
      "华氏(F)：28.40 , 摄氏(C)：-2\n",
      "华氏(F)：30.20 , 摄氏(C)：-1\n",
      "华氏(F)：32.00 , 摄氏(C)：0\n",
      "华氏(F)：33.80 , 摄氏(C)：1\n",
      "华氏(F)：35.60 , 摄氏(C)：2\n",
      "华氏(F)：37.40 , 摄氏(C)：3\n",
      "华氏(F)：39.20 , 摄氏(C)：4\n",
      "华氏(F)：41.00 , 摄氏(C)：5\n",
      "华氏(F)：42.80 , 摄氏(C)：6\n",
      "华氏(F)：44.60 , 摄氏(C)：7\n",
      "华氏(F)：46.40 , 摄氏(C)：8\n",
      "华氏(F)：48.20 , 摄氏(C)：9\n",
      "华氏(F)：50.00 , 摄氏(C)：10\n",
      "华氏(F)：51.80 , 摄氏(C)：11\n",
      "华氏(F)：53.60 , 摄氏(C)：12\n",
      "华氏(F)：55.40 , 摄氏(C)：13\n",
      "华氏(F)：57.20 , 摄氏(C)：14\n",
      "华氏(F)：59.00 , 摄氏(C)：15\n",
      "华氏(F)：60.80 , 摄氏(C)：16\n",
      "华氏(F)：62.60 , 摄氏(C)：17\n",
      "华氏(F)：64.40 , 摄氏(C)：18\n",
      "华氏(F)：66.20 , 摄氏(C)：19\n",
      "华氏(F)：68.00 , 摄氏(C)：20\n",
      "华氏(F)：69.80 , 摄氏(C)：21\n",
      "华氏(F)：71.60 , 摄氏(C)：22\n",
      "华氏(F)：73.40 , 摄氏(C)：23\n",
      "华氏(F)：75.20 , 摄氏(C)：24\n",
      "华氏(F)：77.00 , 摄氏(C)：25\n",
      "华氏(F)：78.80 , 摄氏(C)：26\n",
      "华氏(F)：80.60 , 摄氏(C)：27\n",
      "华氏(F)：82.40 , 摄氏(C)：28\n",
      "华氏(F)：84.20 , 摄氏(C)：29\n",
      "华氏(F)：86.00 , 摄氏(C)：30\n",
      "华氏(F)：87.80 , 摄氏(C)：31\n",
      "华氏(F)：89.60 , 摄氏(C)：32\n",
      "华氏(F)：91.40 , 摄氏(C)：33\n",
      "华氏(F)：93.20 , 摄氏(C)：34\n",
      "华氏(F)：95.00 , 摄氏(C)：35\n",
      "华氏(F)：96.80 , 摄氏(C)：36\n",
      "华氏(F)：98.60 , 摄氏(C)：37\n",
      "华氏(F)：100.40 , 摄氏(C)：38\n",
      "华氏(F)：102.20 , 摄氏(C)：39\n",
      "华氏(F)：104.00 , 摄氏(C)：40\n",
      "华氏(F)：105.80 , 摄氏(C)：41\n",
      "华氏(F)：107.60 , 摄氏(C)：42\n",
      "华氏(F)：109.40 , 摄氏(C)：43\n",
      "华氏(F)：111.20 , 摄氏(C)：44\n",
      "华氏(F)：113.00 , 摄氏(C)：45\n",
      "华氏(F)：114.80 , 摄氏(C)：46\n",
      "华氏(F)：116.60 , 摄氏(C)：47\n",
      "华氏(F)：118.40 , 摄氏(C)：48\n",
      "华氏(F)：120.20 , 摄氏(C)：49\n",
      "华氏(F)：122.00 , 摄氏(C)：50\n",
      "华氏(F)：123.80 , 摄氏(C)：51\n",
      "华氏(F)：125.60 , 摄氏(C)：52\n",
      "华氏(F)：127.40 , 摄氏(C)：53\n",
      "华氏(F)：129.20 , 摄氏(C)：54\n",
      "华氏(F)：131.00 , 摄氏(C)：55\n",
      "华氏(F)：132.80 , 摄氏(C)：56\n",
      "华氏(F)：134.60 , 摄氏(C)：57\n",
      "华氏(F)：136.40 , 摄氏(C)：58\n",
      "华氏(F)：138.20 , 摄氏(C)：59\n",
      "华氏(F)：140.00 , 摄氏(C)：60\n",
      "华氏(F)：141.80 , 摄氏(C)：61\n",
      "华氏(F)：143.60 , 摄氏(C)：62\n",
      "华氏(F)：145.40 , 摄氏(C)：63\n",
      "华氏(F)：147.20 , 摄氏(C)：64\n",
      "华氏(F)：149.00 , 摄氏(C)：65\n",
      "华氏(F)：150.80 , 摄氏(C)：66\n",
      "华氏(F)：152.60 , 摄氏(C)：67\n",
      "华氏(F)：154.40 , 摄氏(C)：68\n",
      "华氏(F)：156.20 , 摄氏(C)：69\n",
      "华氏(F)：158.00 , 摄氏(C)：70\n",
      "华氏(F)：159.80 , 摄氏(C)：71\n",
      "华氏(F)：161.60 , 摄氏(C)：72\n",
      "华氏(F)：163.40 , 摄氏(C)：73\n",
      "华氏(F)：165.20 , 摄氏(C)：74\n",
      "华氏(F)：167.00 , 摄氏(C)：75\n",
      "华氏(F)：168.80 , 摄氏(C)：76\n",
      "华氏(F)：170.60 , 摄氏(C)：77\n",
      "华氏(F)：172.40 , 摄氏(C)：78\n",
      "华氏(F)：174.20 , 摄氏(C)：79\n",
      "华氏(F)：176.00 , 摄氏(C)：80\n",
      "华氏(F)：177.80 , 摄氏(C)：81\n",
      "华氏(F)：179.60 , 摄氏(C)：82\n",
      "华氏(F)：181.40 , 摄氏(C)：83\n",
      "华氏(F)：183.20 , 摄氏(C)：84\n",
      "华氏(F)：185.00 , 摄氏(C)：85\n",
      "华氏(F)：186.80 , 摄氏(C)：86\n",
      "华氏(F)：188.60 , 摄氏(C)：87\n",
      "华氏(F)：190.40 , 摄氏(C)：88\n",
      "华氏(F)：192.20 , 摄氏(C)：89\n",
      "华氏(F)：194.00 , 摄氏(C)：90\n",
      "华氏(F)：195.80 , 摄氏(C)：91\n",
      "华氏(F)：197.60 , 摄氏(C)：92\n",
      "华氏(F)：199.40 , 摄氏(C)：93\n",
      "华氏(F)：201.20 , 摄氏(C)：94\n",
      "华氏(F)：203.00 , 摄氏(C)：95\n",
      "华氏(F)：204.80 , 摄氏(C)：96\n",
      "华氏(F)：206.60 , 摄氏(C)：97\n",
      "华氏(F)：208.40 , 摄氏(C)：98\n",
      "华氏(F)：210.20 , 摄氏(C)：99\n",
      "华氏(F)：212.00 , 摄氏(C)：100\n"
     ]
    }
   ],
   "source": [
    "# 载入套件\n",
    "import numpy as np \n",
    "import tensorflow as tf \n",
    "\n",
    "# 随机产生151笔资料\n",
    "n = 151\n",
    "C = np.linspace(-50, 100, n) \n",
    "F = C * (9/5) + 32\n",
    "\n",
    "for i, x in enumerate(C):\n",
    "    print(f\"华氏(F)：{F[i]:.2f} , 摄氏(C)：{x:.0f}\")"
   ]
  },
  {
   "cell_type": "markdown",
   "metadata": {},
   "source": [
    "## 建立模型"
   ]
  },
  {
   "cell_type": "code",
   "execution_count": 21,
   "metadata": {},
   "outputs": [],
   "source": [
    "# 定义完全连接层(Dense)\n",
    "# units：输出神经元个数，input_shape：输入神经元个数\n",
    "layer1 = tf.keras.layers.Dense(units=1, input_shape=[1]) \n",
    "\n",
    "# 神经网路包含一层完全连接层\n",
    "model = tf.keras.Sequential([layer1])\n",
    "\n",
    "# 定义模型的损失函数(loss)为 MSE，优化器(optimizer)为 adam\n",
    "model.compile(loss='mean_squared_error',\n",
    "              optimizer=tf.keras.optimizers.Adam(0.1))"
   ]
  },
  {
   "cell_type": "markdown",
   "metadata": {},
   "source": [
    "## 模型训练"
   ]
  },
  {
   "cell_type": "code",
   "execution_count": 22,
   "metadata": {
    "scrolled": true
   },
   "outputs": [],
   "source": [
    "history = model.fit(C, F, epochs=500, verbose=False)"
   ]
  },
  {
   "cell_type": "markdown",
   "metadata": {},
   "source": [
    "## 训练过程绘图"
   ]
  },
  {
   "cell_type": "code",
   "execution_count": 23,
   "metadata": {
    "scrolled": true
   },
   "outputs": [
    {
     "data": {
      "text/plain": [
       "[<matplotlib.lines.Line2D at 0x16a3d54e190>]"
      ]
     },
     "execution_count": 23,
     "metadata": {},
     "output_type": "execute_result"
    },
    {
     "data": {
      "image/png": "[encoded data removed]",
      "text/plain": [
       "<Figure size 432x288 with 1 Axes>"
      ]
     },
     "metadata": {
      "needs_background": "light"
     },
     "output_type": "display_data"
    }
   ],
   "source": [
    "import matplotlib.pyplot as plt\n",
    "plt.rcParams['font.sans-serif'] = ['Microsoft JhengHei'] \n",
    "plt.rcParams['axes.unicode_minus'] = False\n",
    "\n",
    "plt.xlabel('训练周期', fontsize=20)\n",
    "plt.ylabel(\"损失函数(loss)\", fontsize=20)\n",
    "plt.plot(history.history['loss'])"
   ]
  },
  {
   "cell_type": "markdown",
   "metadata": {},
   "source": [
    "## 测试"
   ]
  },
  {
   "cell_type": "code",
   "execution_count": 24,
   "metadata": {},
   "outputs": [
    {
     "name": "stdout",
     "output_type": "stream",
     "text": [
      "华氏(F)：212.00 , 摄氏(C)：100\n",
      "华氏(F)：32.00 , 摄氏(C)：0\n"
     ]
    }
   ],
   "source": [
    "y_pred = model.predict([100.0])[0][0]\n",
    "print(f\"华氏(F)：{y_pred:.2f} , 摄氏(C)：100\")\n",
    "\n",
    "y_pred = model.predict([0.0])[0][0]\n",
    "print(f\"华氏(F)：{y_pred:.2f} , 摄氏(C)：0\")"
   ]
  },
  {
   "cell_type": "markdown",
   "metadata": {},
   "source": [
    "## 取得模型参数"
   ]
  },
  {
   "cell_type": "code",
   "execution_count": 25,
   "metadata": {},
   "outputs": [
    {
     "name": "stdout",
     "output_type": "stream",
     "text": [
      "w：1.8000 , b：31.9999\n"
     ]
    }
   ],
   "source": [
    "w = layer1.get_weights()[0][0][0]\n",
    "b = layer1.get_weights()[1][0]\n",
    "\n",
    "print(f\"w：{w:.4f} , b：{b:.4f}\")"
   ]
  },
  {
   "cell_type": "code",
   "execution_count": null,
   "metadata": {},
   "outputs": [],
   "source": []
  }
 ],
 "metadata": {
  "kernelspec": {
   "display_name": "Python 3",
   "language": "python",
   "name": "python3"
  },
  "language_info": {
   "codemirror_mode": {
    "name": "ipython",
    "version": 3
   },
   "file_extension": ".py",
   "mimetype": "text/x-python",
   "name": "python",
   "nbconvert_exporter": "python",
   "pygments_lexer": "ipython3",
   "version": "3.8.5"
  }
 },
 "nbformat": 4,
 "nbformat_minor": 4
}
