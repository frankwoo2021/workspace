{
 "cells": [
  {
   "cell_type": "markdown",
   "metadata": {},
   "source": [
    "# Tensorflow Object Detection API 视讯测试"
   ]
  },
  {
   "cell_type": "code",
   "execution_count": 1,
   "metadata": {},
   "outputs": [],
   "source": [
    "# 载入套件\n",
    "import os\n",
    "import pathlib\n",
    "import tensorflow as tf\n",
    "import pathlib"
   ]
  },
  {
   "cell_type": "markdown",
   "metadata": {},
   "source": [
    "## GPU 记忆体配置设定"
   ]
  },
  {
   "cell_type": "code",
   "execution_count": 2,
   "metadata": {},
   "outputs": [],
   "source": [
    "# GPU 设定为 记忆体动态调整 (dynamic memory allocation)\n",
    "gpus = tf.config.experimental.list_physical_devices('GPU')\n",
    "for gpu in gpus:\n",
    "    tf.config.experimental.set_memory_growth(gpu, True)"
   ]
  },
  {
   "cell_type": "code",
   "execution_count": 3,
   "metadata": {},
   "outputs": [],
   "source": [
    "#  GPU 设定为固定为 2GB \n",
    "# gpus = tf.config.experimental.list_physical_devices('GPU')\n",
    "# if gpus:\n",
    "#     tf.config.experimental.set_virtual_device_configuration(gpus[0], [tf.config.experimental.VirtualDeviceConfiguration(memory_limit=1024*2)])\n"
   ]
  },
  {
   "cell_type": "markdown",
   "metadata": {},
   "source": [
    "## 载入模型"
   ]
  },
  {
   "cell_type": "code",
   "execution_count": 4,
   "metadata": {},
   "outputs": [
    {
     "name": "stdout",
     "output_type": "stream",
     "text": [
      "Downloading data from http://download.tensorflow.org/models/object_detection/tf2/20200711/centernet_hg104_1024x1024_coco17_tpu-32.tar.gz\n",
      "1426464768/1426460092 [==============================] - 723s 1us/step\n"
     ]
    },
    {
     "data": {
      "text/plain": [
       "'C:\\\\Users\\\\Ariel\\\\.keras\\\\datasets\\\\centernet_hg104_1024x1024_coco17_tpu-32'"
      ]
     },
     "execution_count": 4,
     "metadata": {},
     "output_type": "execute_result"
    }
   ],
   "source": [
    "# 下载模型，并解压缩\n",
    "def download_model(model_name, model_date):\n",
    "    base_url = 'http://download.tensorflow.org/models/object_detection/tf2/'\n",
    "    model_file = model_name + '.tar.gz'\n",
    "    # 解压缩\n",
    "    model_dir = tf.keras.utils.get_file(fname=model_name,\n",
    "                            origin=base_url + model_date + '/' + model_file,\n",
    "                            untar=True)\n",
    "    return str(model_dir)\n",
    "\n",
    "MODEL_DATE = '20200711'\n",
    "MODEL_NAME = 'centernet_hg104_1024x1024_coco17_tpu-32'\n",
    "PATH_TO_MODEL_DIR = download_model(MODEL_NAME, MODEL_DATE)\n",
    "PATH_TO_MODEL_DIR"
   ]
  },
  {
   "cell_type": "markdown",
   "metadata": {},
   "source": [
    "## 载入模型"
   ]
  },
  {
   "cell_type": "code",
   "execution_count": 5,
   "metadata": {},
   "outputs": [
    {
     "ename": "ModuleNotFoundError",
     "evalue": "No module named 'object_detection'",
     "output_type": "error",
     "traceback": [
      "\u001b[1;31m---------------------------------------------------------------------------\u001b[0m",
      "\u001b[1;31mModuleNotFoundError\u001b[0m                       Traceback (most recent call last)",
      "\u001b[1;32m<ipython-input-5-4fe2ddb2911e>\u001b[0m in \u001b[0;36m<module>\u001b[1;34m\u001b[0m\n\u001b[0;32m      1\u001b[0m \u001b[1;31m# 快速从下载的目录载入模型\u001b[0m\u001b[1;33m\u001b[0m\u001b[1;33m\u001b[0m\u001b[1;33m\u001b[0m\u001b[0m\n\u001b[0;32m      2\u001b[0m \u001b[1;32mimport\u001b[0m \u001b[0mtime\u001b[0m\u001b[1;33m\u001b[0m\u001b[1;33m\u001b[0m\u001b[0m\n\u001b[1;32m----> 3\u001b[1;33m \u001b[1;32mfrom\u001b[0m \u001b[0mobject_detection\u001b[0m\u001b[1;33m.\u001b[0m\u001b[0mutils\u001b[0m \u001b[1;32mimport\u001b[0m \u001b[0mlabel_map_util\u001b[0m\u001b[1;33m,\u001b[0m \u001b[0mconfig_util\u001b[0m\u001b[1;33m\u001b[0m\u001b[1;33m\u001b[0m\u001b[0m\n\u001b[0m\u001b[0;32m      4\u001b[0m \u001b[1;32mfrom\u001b[0m \u001b[0mobject_detection\u001b[0m\u001b[1;33m.\u001b[0m\u001b[0mutils\u001b[0m \u001b[1;32mimport\u001b[0m \u001b[0mvisualization_utils\u001b[0m \u001b[1;32mas\u001b[0m \u001b[0mviz_utils\u001b[0m\u001b[1;33m\u001b[0m\u001b[1;33m\u001b[0m\u001b[0m\n\u001b[0;32m      5\u001b[0m \u001b[1;32mfrom\u001b[0m \u001b[0mobject_detection\u001b[0m\u001b[1;33m.\u001b[0m\u001b[0mbuilders\u001b[0m \u001b[1;32mimport\u001b[0m \u001b[0mmodel_builder\u001b[0m\u001b[1;33m\u001b[0m\u001b[1;33m\u001b[0m\u001b[0m\n",
      "\u001b[1;31mModuleNotFoundError\u001b[0m: No module named 'object_detection'"
     ]
    }
   ],
   "source": [
    "# 快速从下载的目录载入模型\n",
    "import time\n",
    "from object_detection.utils import label_map_util, config_util\n",
    "from object_detection.utils import visualization_utils as viz_utils\n",
    "from object_detection.builders import model_builder\n",
    "\n",
    "# 组态档及模型档路径\n",
    "PATH_TO_CFG = PATH_TO_MODEL_DIR + \"/pipeline.config\"\n",
    "PATH_TO_CKPT = PATH_TO_MODEL_DIR + \"/checkpoint\"\n",
    "\n",
    "# 计时开始\n",
    "print('Loading model... ', end='')\n",
    "start_time = time.time()\n",
    "\n",
    "# 载入组态档，再建置模型\n",
    "configs = config_util.get_configs_from_pipeline_file(PATH_TO_CFG)\n",
    "model_config = configs['model']\n",
    "detection_model = model_builder.build(model_config=model_config, \n",
    "                                      is_training=False)\n",
    "\n",
    "# 还原模型\n",
    "ckpt = tf.compat.v2.train.Checkpoint(model=detection_model)\n",
    "ckpt.restore(os.path.join(PATH_TO_CKPT, 'ckpt-0')).expect_partial()\n",
    "\n",
    "# 计时完成\n",
    "end_time = time.time()\n",
    "elapsed_time = end_time - start_time\n",
    "print(f'共花费 {elapsed_time} 秒.')"
   ]
  },
  {
   "cell_type": "markdown",
   "metadata": {},
   "source": [
    "## 建立 Label 的对照表"
   ]
  },
  {
   "cell_type": "code",
   "execution_count": null,
   "metadata": {},
   "outputs": [],
   "source": [
    "# 下载 labels file\n",
    "def download_labels(filename):\n",
    "    base_url = 'https://raw.githubusercontent.com/tensorflow/models'\n",
    "    base_url += '/master/research/object_detection/data/'\n",
    "    label_dir = tf.keras.utils.get_file(fname=filename,\n",
    "                                        origin=base_url + filename,\n",
    "                                        untar=False)\n",
    "    label_dir = pathlib.Path(label_dir)\n",
    "    return str(label_dir)\n",
    "\n",
    "LABEL_FILENAME = 'mscoco_label_map.pbtxt'\n",
    "PATH_TO_LABELS = download_labels(LABEL_FILENAME)\n",
    "PATH_TO_LABELS"
   ]
  },
  {
   "cell_type": "code",
   "execution_count": null,
   "metadata": {},
   "outputs": [],
   "source": [
    "# 建立 Label 的对照表 (代码与名称)\n",
    "category_index = label_map_util.create_category_index_from_labelmap(PATH_TO_LABELS, use_display_name=True)"
   ]
  },
  {
   "cell_type": "markdown",
   "metadata": {},
   "source": [
    "## 视讯物件侦测"
   ]
  },
  {
   "cell_type": "code",
   "execution_count": null,
   "metadata": {},
   "outputs": [],
   "source": [
    "@tf.function\n",
    "def detect_fn(image):\n",
    "    image, shapes = detection_model.preprocess(image)\n",
    "    prediction_dict = detection_model.predict(image, shapes)\n",
    "    detections = detection_model.postprocess(prediction_dict, shapes)\n",
    "\n",
    "    return detections"
   ]
  },
  {
   "cell_type": "code",
   "execution_count": null,
   "metadata": {},
   "outputs": [],
   "source": [
    "import numpy as np\n",
    "import cv2\n",
    "\n",
    "# 使用 webcam\n",
    "#cap = cv2.VideoCapture(0)\n",
    "\n",
    "# 读取视讯档案\n",
    "cap = cv2.VideoCapture('./images_Object_Detection/pedestrians.mp4')\n",
    "i=0\n",
    "while True:\n",
    "    # 读取一帧(frame) from camera or mp4\n",
    "    ret, image_np = cap.read()\n",
    "\n",
    "    # 加一维，变为 (笔数, 宽, 高, 颜色)\n",
    "    image_np_expanded = np.expand_dims(image_np, axis=0)\n",
    "\n",
    "    # 可测试水平翻转\n",
    "    # image_np = np.fliplr(image_np).copy()\n",
    "\n",
    "    # 可测试灰阶\n",
    "    # image_np = np.tile(\n",
    "    #     np.mean(image_np, 2, keepdims=True), (1, 1, 3)).astype(np.uint8)\n",
    "\n",
    "    # 转为 TensorFlow tensor 资料型态\n",
    "    input_tensor = tf.convert_to_tensor(np.expand_dims(image_np, 0), dtype=tf.float32)\n",
    "    \n",
    "    # detections：物件资讯 内含 (候选框, 类别, 机率)\n",
    "    detections = detect_fn(input_tensor)    \n",
    "    num_detections = int(detections.pop('num_detections'))\n",
    "\n",
    "    # 第一帧(Frame)才显示物件个数\n",
    "    if i==0:\n",
    "        print(f'物件个数：{num_detections}')\n",
    "        \n",
    "    # 结果存入 detections 变数\n",
    "    detections = {key: value[0, :num_detections].numpy()\n",
    "                   for key, value in detections.items()}\n",
    "    detections['detection_classes'] = detections['detection_classes'].astype(int)\n",
    "\n",
    "    # 将物件框起来\n",
    "    label_id_offset = 1    \n",
    "    image_np_with_detections = image_np.copy()\n",
    "    viz_utils.visualize_boxes_and_labels_on_image_array(\n",
    "          image_np_with_detections,\n",
    "          detections['detection_boxes'],\n",
    "          detections['detection_classes'] + label_id_offset,\n",
    "          detections['detection_scores'],\n",
    "          category_index,\n",
    "          use_normalized_coordinates=True,\n",
    "          max_boxes_to_draw=200,\n",
    "          min_score_thresh=.30,\n",
    "          agnostic_mode=False)\n",
    "\n",
    "    # 显示侦测结果\n",
    "    img = cv2.resize(image_np_with_detections, (800, 600))\n",
    "    cv2.imshow('object detection', img)\n",
    "\n",
    "    # 存档\n",
    "    i+=1\n",
    "    if i==30:\n",
    "        cv2.imwrite('./images_Object_Detection/pedestrians.png', img)\n",
    "    \n",
    "    # 按 q 可以结束\n",
    "    if cv2.waitKey(25) & 0xFF == ord('q'):\n",
    "        break\n",
    "\n",
    "cap.release()\n",
    "cv2.destroyAllWindows()"
   ]
  },
  {
   "cell_type": "markdown",
   "metadata": {},
   "source": [
    "## 夜晚物件侦测"
   ]
  },
  {
   "cell_type": "code",
   "execution_count": null,
   "metadata": {},
   "outputs": [],
   "source": [
    "import numpy as np\n",
    "import cv2\n",
    "\n",
    "# 使用 webcam\n",
    "#cap = cv2.VideoCapture(0)\n",
    "\n",
    "# 读取视讯档案\n",
    "cap = cv2.VideoCapture('./images_Object_Detection/night.mp4')\n",
    "i=0\n",
    "while True:\n",
    "    # 读取一帧(frame) from camera or mp4\n",
    "    ret, image_np = cap.read()\n",
    "\n",
    "    # 加一维，变为 (笔数, 宽, 高, 颜色)\n",
    "    image_np_expanded = np.expand_dims(image_np, axis=0)\n",
    "\n",
    "    # 可测试水平翻转\n",
    "    # image_np = np.fliplr(image_np).copy()\n",
    "\n",
    "    # 可测试灰阶\n",
    "    # image_np = np.tile(\n",
    "    #     np.mean(image_np, 2, keepdims=True), (1, 1, 3)).astype(np.uint8)\n",
    "\n",
    "    # 转为 TensorFlow tensor 资料型态\n",
    "    input_tensor = tf.convert_to_tensor(np.expand_dims(image_np, 0), dtype=tf.float32)\n",
    "    \n",
    "    # detections：物件资讯 内含 (候选框, 类别, 机率)\n",
    "    detections = detect_fn(input_tensor)    \n",
    "    num_detections = int(detections.pop('num_detections'))\n",
    "\n",
    "    # 第一帧(Frame)才显示物件个数\n",
    "    if i==0:\n",
    "        print(f'物件个数：{num_detections}')\n",
    "        \n",
    "    # 结果存入 detections 变数\n",
    "    detections = {key: value[0, :num_detections].numpy()\n",
    "                   for key, value in detections.items()}\n",
    "    detections['detection_classes'] = detections['detection_classes'].astype(int)\n",
    "\n",
    "    # 将物件框起来\n",
    "    label_id_offset = 1    \n",
    "    image_np_with_detections = image_np.copy()\n",
    "    viz_utils.visualize_boxes_and_labels_on_image_array(\n",
    "          image_np_with_detections,\n",
    "          detections['detection_boxes'],\n",
    "          detections['detection_classes'] + label_id_offset,\n",
    "          detections['detection_scores'],\n",
    "          category_index,\n",
    "          use_normalized_coordinates=True,\n",
    "          max_boxes_to_draw=200,\n",
    "          min_score_thresh=.30,\n",
    "          agnostic_mode=False)\n",
    "\n",
    "    # 显示侦测结果\n",
    "    img = cv2.resize(image_np_with_detections, (800, 600))\n",
    "    cv2.imshow('object detection', img)\n",
    "\n",
    "    # 存档\n",
    "    i+=1\n",
    "    if i==30:\n",
    "        cv2.imwrite('./images_Object_Detection/pedestrians.png', img)\n",
    "    \n",
    "    # 按 q 可以结束\n",
    "    if cv2.waitKey(25) & 0xFF == ord('q'):\n",
    "        break\n",
    "\n",
    "cap.release()\n",
    "cv2.destroyAllWindows()"
   ]
  },
  {
   "cell_type": "code",
   "execution_count": null,
   "metadata": {},
   "outputs": [],
   "source": [
    "# plt.show()\n",
    "from IPython.display import Image\n",
    "Image('./images_Object_Detection/night.png')"
   ]
  },
  {
   "cell_type": "code",
   "execution_count": null,
   "metadata": {},
   "outputs": [],
   "source": []
  }
 ],
 "metadata": {
  "kernelspec": {
   "display_name": "Python 3",
   "language": "python",
   "name": "python3"
  },
  "language_info": {
   "codemirror_mode": {
    "name": "ipython",
    "version": 3
   },
   "file_extension": ".py",
   "mimetype": "text/x-python",
   "name": "python",
   "nbconvert_exporter": "python",
   "pygments_lexer": "ipython3",
   "version": "3.8.5"
  }
 },
 "nbformat": 4,
 "nbformat_minor": 1
}
