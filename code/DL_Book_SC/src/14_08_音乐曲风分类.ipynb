{
 "cells": [
  {
   "cell_type": "markdown",
   "metadata": {},
   "source": [
    "# 音乐曲风分类\n",
    "### 程式源自: https://www.kdnuggets.com/2020/02/audio-data-analysis-deep-learning-python-part-2.html"
   ]
  },
  {
   "cell_type": "markdown",
   "metadata": {},
   "source": [
    "## 载入相关套件"
   ]
  },
  {
   "cell_type": "code",
   "execution_count": 1,
   "metadata": {},
   "outputs": [],
   "source": [
    "# 载入相关套件\n",
    "import pandas as pd\n",
    "import numpy as np\n",
    "import matplotlib.pyplot as plt\n",
    "import librosa\n",
    "import librosa.display\n",
    "import os\n",
    "import pathlib\n",
    "import csv\n",
    "import tensorflow as tf\n",
    "from tensorflow.keras import layers"
   ]
  },
  {
   "cell_type": "code",
   "execution_count": 2,
   "metadata": {},
   "outputs": [],
   "source": [
    "# 不显示警告讯息\n",
    "import warnings\n",
    "warnings.filterwarnings('ignore')"
   ]
  },
  {
   "cell_type": "markdown",
   "metadata": {},
   "source": [
    "## 载入档案"
   ]
  },
  {
   "cell_type": "code",
   "execution_count": 25,
   "metadata": {},
   "outputs": [
    {
     "name": "stdout",
     "output_type": "stream",
     "text": [
      "(1000, 40, 1077, 1) 1000\n"
     ]
    }
   ],
   "source": [
    "# 载入音乐档案\n",
    "genres = 'blues classical country disco hiphop jazz metal pop reggae rock'.split()\n",
    "\n",
    "X = None\n",
    "y = []\n",
    "for i, g in enumerate(genres):\n",
    "    pathlib.Path(f'./GTZAN/genres//{g}').mkdir(parents=True, exist_ok=True)\n",
    "    for filename in os.listdir(f'./GTZAN/genres/{g}'):\n",
    "        songname = f'./GTZAN/genres/{g}/{filename}'\n",
    "        data, sr = librosa.load(songname, mono=True, duration=25)\n",
    "        mfcc = librosa.feature.mfcc(y=data, sr=sr, n_mfcc=40)\n",
    "        # print(data.shape, mfcc.shape)\n",
    "        if X is None:\n",
    "            X = mfcc.reshape(1, 40, -1, 1)\n",
    "        else:\n",
    "            X = np.concatenate((X, mfcc.reshape(1, 40, -1, 1)), axis=0)\n",
    "        y.append(i)\n",
    "        \n",
    "print(X.shape, len(y))"
   ]
  },
  {
   "cell_type": "code",
   "execution_count": 29,
   "metadata": {},
   "outputs": [
    {
     "data": {
      "text/plain": [
       "array([[[-211.48465   ],\n",
       "        [-208.94481   ],\n",
       "        [-193.90889   ],\n",
       "        ...,\n",
       "        [-153.68745   ],\n",
       "        [-114.75746   ],\n",
       "        [ -92.81227   ]],\n",
       "\n",
       "       [[  99.022964  ],\n",
       "        [ 101.24678   ],\n",
       "        [ 102.24396   ],\n",
       "        ...,\n",
       "        [  94.26633   ],\n",
       "        [  73.02428   ],\n",
       "        [  62.57588   ]],\n",
       "\n",
       "       [[ -10.634697  ],\n",
       "        [  -9.346699  ],\n",
       "        [   1.9154348 ],\n",
       "        ...,\n",
       "        [   9.260414  ],\n",
       "        [  19.25284   ],\n",
       "        [  12.586103  ]],\n",
       "\n",
       "       ...,\n",
       "\n",
       "       [[   7.1240273 ],\n",
       "        [   3.1041088 ],\n",
       "        [  -3.0628586 ],\n",
       "        ...,\n",
       "        [  -3.839465  ],\n",
       "        [  -3.0830624 ],\n",
       "        [   0.40250283]],\n",
       "\n",
       "       [[  -1.8689755 ],\n",
       "        [  -1.3740795 ],\n",
       "        [  -4.71682   ],\n",
       "        ...,\n",
       "        [  -2.7694275 ],\n",
       "        [  -3.720017  ],\n",
       "        [  -7.677967  ]],\n",
       "\n",
       "       [[   4.0560246 ],\n",
       "        [   2.3471432 ],\n",
       "        [  -1.6581439 ],\n",
       "        ...,\n",
       "        [   1.7598417 ],\n",
       "        [   0.9894233 ],\n",
       "        [  -4.795616  ]]], dtype=float32)"
      ]
     },
     "execution_count": 29,
     "metadata": {},
     "output_type": "execute_result"
    }
   ],
   "source": [
    "X[0]"
   ]
  },
  {
   "cell_type": "code",
   "execution_count": 35,
   "metadata": {},
   "outputs": [
    {
     "data": {
      "text/plain": [
       "(40, 1077, 1)"
      ]
     },
     "execution_count": 35,
     "metadata": {},
     "output_type": "execute_result"
    }
   ],
   "source": [
    "X.min(axis=0).shape"
   ]
  },
  {
   "cell_type": "code",
   "execution_count": 36,
   "metadata": {
    "scrolled": true
   },
   "outputs": [],
   "source": [
    "# 常态化\n",
    "X_norm = (X - X.min(axis=0)) / (X.max(axis=0) - X.min(axis=0))"
   ]
  },
  {
   "cell_type": "code",
   "execution_count": 37,
   "metadata": {},
   "outputs": [
    {
     "data": {
      "text/plain": [
       "((800, 40, 1077, 1), (200, 40, 1077, 1))"
      ]
     },
     "execution_count": 37,
     "metadata": {},
     "output_type": "execute_result"
    }
   ],
   "source": [
    "# 资料切割\n",
    "from sklearn.model_selection import train_test_split\n",
    "y = np.array(y)\n",
    "X_train, X_test, y_train, y_test = train_test_split(X_norm, y, test_size=.2)\n",
    "X_train.shape, X_test.shape"
   ]
  },
  {
   "cell_type": "code",
   "execution_count": 45,
   "metadata": {},
   "outputs": [],
   "source": [
    "# CNN 模型\n",
    "input_shape = X_train.shape[1:]\n",
    "model = tf.keras.Sequential(\n",
    "    [\n",
    "        tf.keras.Input(shape=input_shape),\n",
    "        layers.Conv2D(32, kernel_size=(3, 3), activation=\"relu\"),\n",
    "        layers.MaxPooling2D(pool_size=(2, 2)),\n",
    "        layers.Conv2D(64, kernel_size=(3, 3), activation=\"relu\"),\n",
    "        layers.MaxPooling2D(pool_size=(2, 2)),\n",
    "        layers.Flatten(),\n",
    "        layers.Dropout(0.5),\n",
    "        layers.Dense(10, activation=\"softmax\"),\n",
    "    ]\n",
    ")"
   ]
  },
  {
   "cell_type": "code",
   "execution_count": 43,
   "metadata": {},
   "outputs": [],
   "source": [
    "# CNN 模型\n",
    "input_shape = X_train.shape[1:]\n",
    "model = tf.keras.Sequential(\n",
    "    [\n",
    "        tf.keras.Input(shape=input_shape),\n",
    "        layers.Conv2D(32, kernel_size=(3, 3), strides=(2, 2), activation=\"relu\"),\n",
    "        layers.AveragePooling2D(pool_size=(2, 2)),\n",
    "        layers.Conv2D(64, kernel_size=(3, 3), strides=(2, 2), activation=\"relu\"),\n",
    "        layers.AveragePooling2D(pool_size=(2, 2)),\n",
    "        layers.Conv2D(64, kernel_size=(3, 3), padding='same'),\n",
    "        layers.AveragePooling2D(pool_size=(2, 2)),\n",
    "        layers.Flatten(),\n",
    "        layers.Dropout(0.5),\n",
    "        layers.Dense(64, activation=\"relu\"),\n",
    "        layers.Dropout(0.5),\n",
    "        layers.Dense(10, activation=\"softmax\"),\n",
    "    ]\n",
    ")"
   ]
  },
  {
   "cell_type": "code",
   "execution_count": 46,
   "metadata": {},
   "outputs": [
    {
     "name": "stdout",
     "output_type": "stream",
     "text": [
      "Epoch 1/20\n",
      "20/20 [==============================] - 2s 87ms/step - loss: 2.8207 - accuracy: 0.1217 - val_loss: 2.2746 - val_accuracy: 0.1813\n",
      "Epoch 2/20\n",
      "20/20 [==============================] - 2s 79ms/step - loss: 2.2356 - accuracy: 0.2121 - val_loss: 2.1707 - val_accuracy: 0.2000\n",
      "Epoch 3/20\n",
      "20/20 [==============================] - 2s 79ms/step - loss: 2.0159 - accuracy: 0.3565 - val_loss: 1.9702 - val_accuracy: 0.2313\n",
      "Epoch 4/20\n",
      "20/20 [==============================] - 2s 79ms/step - loss: 1.6560 - accuracy: 0.4448 - val_loss: 1.7706 - val_accuracy: 0.3562\n",
      "Epoch 5/20\n",
      "20/20 [==============================] - 2s 79ms/step - loss: 1.3787 - accuracy: 0.5731 - val_loss: 1.7377 - val_accuracy: 0.3625\n",
      "Epoch 6/20\n",
      "20/20 [==============================] - 2s 79ms/step - loss: 1.1295 - accuracy: 0.6587 - val_loss: 1.4760 - val_accuracy: 0.4812\n",
      "Epoch 7/20\n",
      "20/20 [==============================] - 2s 80ms/step - loss: 0.8118 - accuracy: 0.7710 - val_loss: 1.5183 - val_accuracy: 0.4812\n",
      "Epoch 8/20\n",
      "20/20 [==============================] - 2s 79ms/step - loss: 0.6161 - accuracy: 0.8492 - val_loss: 1.4565 - val_accuracy: 0.5375\n",
      "Epoch 9/20\n",
      "20/20 [==============================] - 2s 79ms/step - loss: 0.4713 - accuracy: 0.8970 - val_loss: 1.4534 - val_accuracy: 0.5000\n",
      "Epoch 10/20\n",
      "20/20 [==============================] - 2s 79ms/step - loss: 0.3289 - accuracy: 0.9509 - val_loss: 1.4115 - val_accuracy: 0.5063\n",
      "Epoch 11/20\n",
      "20/20 [==============================] - 2s 79ms/step - loss: 0.2430 - accuracy: 0.9858 - val_loss: 1.4970 - val_accuracy: 0.5250\n",
      "Epoch 12/20\n",
      "20/20 [==============================] - 2s 79ms/step - loss: 0.1676 - accuracy: 0.9920 - val_loss: 1.4208 - val_accuracy: 0.5188\n",
      "Epoch 13/20\n",
      "20/20 [==============================] - 2s 80ms/step - loss: 0.1198 - accuracy: 0.9890 - val_loss: 1.4753 - val_accuracy: 0.4938\n",
      "Epoch 14/20\n",
      "20/20 [==============================] - 2s 79ms/step - loss: 0.0886 - accuracy: 0.9897 - val_loss: 1.5181 - val_accuracy: 0.5312\n",
      "Epoch 15/20\n",
      "20/20 [==============================] - 2s 79ms/step - loss: 0.0785 - accuracy: 0.9938 - val_loss: 1.5143 - val_accuracy: 0.5063\n",
      "Epoch 16/20\n",
      "20/20 [==============================] - 2s 81ms/step - loss: 0.0674 - accuracy: 0.9905 - val_loss: 1.5856 - val_accuracy: 0.5125\n",
      "Epoch 17/20\n",
      "20/20 [==============================] - 2s 79ms/step - loss: 0.0475 - accuracy: 0.9986 - val_loss: 1.5945 - val_accuracy: 0.5188\n",
      "Epoch 18/20\n",
      "20/20 [==============================] - 2s 79ms/step - loss: 0.0373 - accuracy: 0.9995 - val_loss: 1.6008 - val_accuracy: 0.4938\n",
      "Epoch 19/20\n",
      "20/20 [==============================] - 2s 79ms/step - loss: 0.0306 - accuracy: 0.9999 - val_loss: 1.5388 - val_accuracy: 0.5250\n",
      "Epoch 20/20\n",
      "20/20 [==============================] - 2s 79ms/step - loss: 0.0248 - accuracy: 0.9989 - val_loss: 1.6033 - val_accuracy: 0.5250\n",
      "loss: 1.9521\n",
      "accuracy: 0.4600\n"
     ]
    }
   ],
   "source": [
    "# 设定优化器(optimizer)、损失函数(loss)、效能衡量指标(metrics)的类别\n",
    "model.compile(optimizer='adam',\n",
    "              loss='sparse_categorical_crossentropy',\n",
    "              metrics=['accuracy'])\n",
    "\n",
    "# 模型训练\n",
    "history = model.fit(X_train, y_train, epochs=20, validation_split=0.2)\n",
    "\n",
    "# 评分(Score Model)\n",
    "score=model.evaluate(X_test, y_test, verbose=0)\n",
    "\n",
    "for i, x in enumerate(score):\n",
    "    print(f'{model.metrics_names[i]}: {score[i]:.4f}')"
   ]
  },
  {
   "cell_type": "markdown",
   "metadata": {},
   "source": [
    "## 准确率绘图"
   ]
  },
  {
   "cell_type": "code",
   "execution_count": 48,
   "metadata": {
    "scrolled": false
   },
   "outputs": [
    {
     "data": {
      "text/plain": [
       "<matplotlib.legend.Legend at 0x21fd9ca9310>"
      ]
     },
     "execution_count": 48,
     "metadata": {},
     "output_type": "execute_result"
    },
    {
     "data": {
      "image/png": "[encoded data removed]",
      "text/plain": [
       "<Figure size 576x432 with 1 Axes>"
      ]
     },
     "metadata": {
      "needs_background": "light"
     },
     "output_type": "display_data"
    }
   ],
   "source": [
    "# 对训练过程的准确率绘图\n",
    "plt.rcParams['font.sans-serif'] = ['Microsoft JhengHei'] \n",
    "plt.rcParams['axes.unicode_minus'] = False\n",
    "\n",
    "plt.figure(figsize=(8, 6))\n",
    "plt.plot(history.history['accuracy'], 'r', label='训练准确率')\n",
    "plt.plot(history.history['val_accuracy'], 'g', label='验证准确率')\n",
    "plt.legend()"
   ]
  },
  {
   "cell_type": "markdown",
   "metadata": {},
   "source": [
    "## 训练准确率高达99.89%，而验证准确率只有52.50%，表示模型有过度拟合(Overfitting)的现象。"
   ]
  },
  {
   "cell_type": "markdown",
   "metadata": {},
   "source": [
    "## 载入档案"
   ]
  },
  {
   "cell_type": "code",
   "execution_count": 56,
   "metadata": {},
   "outputs": [
    {
     "name": "stdout",
     "output_type": "stream",
     "text": [
      "(10000, 40, 108, 1) 10000\n"
     ]
    }
   ],
   "source": [
    "# 载入音乐档案\n",
    "X = None\n",
    "y = []\n",
    "for i, g in enumerate(genres):\n",
    "    pathlib.Path(f'./GTZAN/genres//{g}').mkdir(parents=True, exist_ok=True)\n",
    "    for filename in os.listdir(f'./GTZAN/genres/{g}'):\n",
    "        songname = f'./GTZAN/genres/{g}/{filename}'\n",
    "        data, sr = librosa.load(songname, mono=True, duration=25)\n",
    "        try:\n",
    "            if i == 0:\n",
    "                segment_length = int(data.shape[0] / 10)\n",
    "            for j in range(10):\n",
    "                segment = data[j * segment_length: (j+1) * segment_length]\n",
    "                # print(segment.shape)\n",
    "                mfcc = librosa.feature.mfcc(y=segment, sr=sr, n_mfcc=40)\n",
    "                # print(data.shape, mfcc.shape)\n",
    "                if X is None:\n",
    "                    X = mfcc.reshape(1, 40, -1, 1)\n",
    "                else:\n",
    "                    X = np.concatenate((X, mfcc.reshape(1, 40, -1, 1)), axis=0)\n",
    "                y.append(i)\n",
    "        except:\n",
    "            print(i)\n",
    "            raise Exception('')\n",
    "print(X.shape, len(y))"
   ]
  },
  {
   "cell_type": "code",
   "execution_count": 57,
   "metadata": {
    "scrolled": true
   },
   "outputs": [],
   "source": [
    "# 常态化\n",
    "X_norm = (X - X.min(axis=0)) / (X.max(axis=0) - X.min(axis=0))"
   ]
  },
  {
   "cell_type": "code",
   "execution_count": 58,
   "metadata": {},
   "outputs": [
    {
     "data": {
      "text/plain": [
       "((8000, 40, 108, 1), (2000, 40, 108, 1))"
      ]
     },
     "execution_count": 58,
     "metadata": {},
     "output_type": "execute_result"
    }
   ],
   "source": [
    "# 资料切割\n",
    "from sklearn.model_selection import train_test_split\n",
    "y = np.array(y)\n",
    "X_train, X_test, y_train, y_test = train_test_split(X_norm, y, test_size=.2)\n",
    "X_train.shape, X_test.shape"
   ]
  },
  {
   "cell_type": "code",
   "execution_count": 59,
   "metadata": {},
   "outputs": [],
   "source": [
    "# CNN 模型\n",
    "input_shape = X_train.shape[1:]\n",
    "model = tf.keras.Sequential(\n",
    "    [\n",
    "        tf.keras.Input(shape=input_shape),\n",
    "        layers.Conv2D(32, kernel_size=(3, 3), activation=\"relu\"),\n",
    "        layers.MaxPooling2D(pool_size=(2, 2)),\n",
    "        layers.Conv2D(64, kernel_size=(3, 3), activation=\"relu\"),\n",
    "        layers.MaxPooling2D(pool_size=(2, 2)),\n",
    "        layers.Flatten(),\n",
    "        layers.Dropout(0.5),\n",
    "        layers.Dense(10, activation=\"softmax\"),\n",
    "    ]\n",
    ")"
   ]
  },
  {
   "cell_type": "code",
   "execution_count": 60,
   "metadata": {},
   "outputs": [
    {
     "name": "stdout",
     "output_type": "stream",
     "text": [
      "Epoch 1/20\n",
      "200/200 [==============================] - 3s 11ms/step - loss: 2.1546 - accuracy: 0.2051 - val_loss: 1.4888 - val_accuracy: 0.4625\n",
      "Epoch 2/20\n",
      "200/200 [==============================] - 2s 11ms/step - loss: 1.3956 - accuracy: 0.4923 - val_loss: 1.3146 - val_accuracy: 0.5213\n",
      "Epoch 3/20\n",
      "200/200 [==============================] - 2s 11ms/step - loss: 1.1774 - accuracy: 0.5892 - val_loss: 1.1335 - val_accuracy: 0.6237\n",
      "Epoch 4/20\n",
      "200/200 [==============================] - 2s 11ms/step - loss: 1.0417 - accuracy: 0.6318 - val_loss: 1.1006 - val_accuracy: 0.6269\n",
      "Epoch 5/20\n",
      "200/200 [==============================] - 2s 11ms/step - loss: 0.9482 - accuracy: 0.6796 - val_loss: 1.0217 - val_accuracy: 0.6506\n",
      "Epoch 6/20\n",
      "200/200 [==============================] - 2s 11ms/step - loss: 0.8718 - accuracy: 0.6868 - val_loss: 1.0088 - val_accuracy: 0.6550\n",
      "Epoch 7/20\n",
      "200/200 [==============================] - 2s 11ms/step - loss: 0.8039 - accuracy: 0.7179 - val_loss: 0.9686 - val_accuracy: 0.6762\n",
      "Epoch 8/20\n",
      "200/200 [==============================] - 2s 11ms/step - loss: 0.7641 - accuracy: 0.7387 - val_loss: 0.9486 - val_accuracy: 0.6612\n",
      "Epoch 9/20\n",
      "200/200 [==============================] - 2s 11ms/step - loss: 0.6759 - accuracy: 0.7651 - val_loss: 0.9697 - val_accuracy: 0.6575\n",
      "Epoch 10/20\n",
      "200/200 [==============================] - 2s 11ms/step - loss: 0.6305 - accuracy: 0.7840 - val_loss: 0.9365 - val_accuracy: 0.6725\n",
      "Epoch 11/20\n",
      "200/200 [==============================] - 2s 11ms/step - loss: 0.5690 - accuracy: 0.8050 - val_loss: 0.9484 - val_accuracy: 0.6612\n",
      "Epoch 12/20\n",
      "200/200 [==============================] - 2s 11ms/step - loss: 0.5641 - accuracy: 0.8049 - val_loss: 0.9812 - val_accuracy: 0.6587\n",
      "Epoch 13/20\n",
      "200/200 [==============================] - 2s 11ms/step - loss: 0.5176 - accuracy: 0.8156 - val_loss: 0.8985 - val_accuracy: 0.6931\n",
      "Epoch 14/20\n",
      "200/200 [==============================] - 2s 11ms/step - loss: 0.5015 - accuracy: 0.8188 - val_loss: 1.0069 - val_accuracy: 0.6525\n",
      "Epoch 15/20\n",
      "200/200 [==============================] - 2s 11ms/step - loss: 0.4862 - accuracy: 0.8275 - val_loss: 0.9464 - val_accuracy: 0.6831\n",
      "Epoch 16/20\n",
      "200/200 [==============================] - 2s 11ms/step - loss: 0.4391 - accuracy: 0.8441 - val_loss: 0.9278 - val_accuracy: 0.6963\n",
      "Epoch 17/20\n",
      "200/200 [==============================] - 2s 11ms/step - loss: 0.4110 - accuracy: 0.8647 - val_loss: 0.9749 - val_accuracy: 0.6725\n",
      "Epoch 18/20\n",
      "200/200 [==============================] - 2s 11ms/step - loss: 0.4073 - accuracy: 0.8493 - val_loss: 0.9328 - val_accuracy: 0.6881\n",
      "Epoch 19/20\n",
      "200/200 [==============================] - 2s 11ms/step - loss: 0.3743 - accuracy: 0.8722 - val_loss: 0.9501 - val_accuracy: 0.6975\n",
      "Epoch 20/20\n",
      "200/200 [==============================] - 2s 11ms/step - loss: 0.3671 - accuracy: 0.8712 - val_loss: 0.9425 - val_accuracy: 0.6944\n",
      "loss: 1.0648\n",
      "accuracy: 0.6780\n"
     ]
    }
   ],
   "source": [
    "# 设定优化器(optimizer)、损失函数(loss)、效能衡量指标(metrics)的类别\n",
    "model.compile(optimizer='adam',\n",
    "              loss='sparse_categorical_crossentropy',\n",
    "              metrics=['accuracy'])\n",
    "\n",
    "# 模型训练\n",
    "history = model.fit(X_train, y_train, epochs=20, validation_split=0.2)\n",
    "\n",
    "# 评分(Score Model)\n",
    "score=model.evaluate(X_test, y_test, verbose=0)\n",
    "\n",
    "for i, x in enumerate(score):\n",
    "    print(f'{model.metrics_names[i]}: {score[i]:.4f}')"
   ]
  },
  {
   "cell_type": "markdown",
   "metadata": {},
   "source": [
    "## 准确率绘图"
   ]
  },
  {
   "cell_type": "code",
   "execution_count": 61,
   "metadata": {
    "scrolled": false
   },
   "outputs": [
    {
     "data": {
      "text/plain": [
       "<matplotlib.legend.Legend at 0x220d23f62b0>"
      ]
     },
     "execution_count": 61,
     "metadata": {},
     "output_type": "execute_result"
    },
    {
     "data": {
      "image/png": "[encoded data removed]",
      "text/plain": [
       "<Figure size 576x432 with 1 Axes>"
      ]
     },
     "metadata": {
      "needs_background": "light"
     },
     "output_type": "display_data"
    }
   ],
   "source": [
    "# 对训练过程的准确率绘图\n",
    "plt.rcParams['font.sans-serif'] = ['Microsoft JhengHei'] \n",
    "plt.rcParams['axes.unicode_minus'] = False\n",
    "\n",
    "plt.figure(figsize=(8, 6))\n",
    "plt.plot(history.history['accuracy'], 'r', label='训练准确率')\n",
    "plt.plot(history.history['val_accuracy'], 'g', label='验证准确率')\n",
    "plt.legend()"
   ]
  },
  {
   "cell_type": "code",
   "execution_count": null,
   "metadata": {},
   "outputs": [],
   "source": []
  }
 ],
 "metadata": {
  "kernelspec": {
   "display_name": "Python 3",
   "language": "python",
   "name": "python3"
  },
  "language_info": {
   "codemirror_mode": {
    "name": "ipython",
    "version": 3
   },
   "file_extension": ".py",
   "mimetype": "text/x-python",
   "name": "python",
   "nbconvert_exporter": "python",
   "pygments_lexer": "ipython3",
   "version": "3.8.5"
  }
 },
 "nbformat": 4,
 "nbformat_minor": 1
}
