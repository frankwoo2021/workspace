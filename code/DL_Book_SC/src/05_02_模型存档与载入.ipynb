{
 "cells": [
  {
   "cell_type": "markdown",
   "metadata": {},
   "source": [
    "# 模型存档与载入(Save and Loading)"
   ]
  },
  {
   "cell_type": "markdown",
   "metadata": {},
   "source": [
    "## MNIST 手写阿拉伯数字辨识"
   ]
  },
  {
   "cell_type": "code",
   "execution_count": 1,
   "metadata": {},
   "outputs": [
    {
     "name": "stdout",
     "output_type": "stream",
     "text": [
      "Epoch 1/5\n",
      "1500/1500 [==============================] - 5s 3ms/step - loss: 0.4529 - accuracy: 0.8667 - val_loss: 0.1329 - val_accuracy: 0.9622\n",
      "Epoch 2/5\n",
      "1500/1500 [==============================] - 2s 2ms/step - loss: 0.1339 - accuracy: 0.9605 - val_loss: 0.0999 - val_accuracy: 0.9700\n",
      "Epoch 3/5\n",
      "1500/1500 [==============================] - 2s 2ms/step - loss: 0.0913 - accuracy: 0.9732 - val_loss: 0.0885 - val_accuracy: 0.9732\n",
      "Epoch 4/5\n",
      "1500/1500 [==============================] - 3s 2ms/step - loss: 0.0680 - accuracy: 0.9787 - val_loss: 0.0808 - val_accuracy: 0.9751\n",
      "Epoch 5/5\n",
      "1500/1500 [==============================] - 3s 2ms/step - loss: 0.0548 - accuracy: 0.9823 - val_loss: 0.0843 - val_accuracy: 0.9747\n",
      "loss: 0.0701\n",
      "accuracy: 0.9782\n"
     ]
    }
   ],
   "source": [
    "import tensorflow as tf\n",
    "\n",
    "mnist = tf.keras.datasets.mnist\n",
    "\n",
    "# 载入 MNIST 手写阿拉伯数字资料\n",
    "(x_train, y_train),(x_test, y_test) = mnist.load_data()\n",
    "\n",
    "# 特征缩放，使用常态化(Normalization)，公式 = (x - min) / (max - min)\n",
    "x_train_norm, x_test_norm = x_train / 255.0, x_test / 255.0\n",
    "\n",
    "# 建立模型\n",
    "model = tf.keras.models.Sequential([\n",
    "    tf.keras.layers.Flatten(input_shape=(28, 28)),\n",
    "    tf.keras.layers.Dense(256, activation='relu'),\n",
    "    tf.keras.layers.Dropout(0.2),\n",
    "    tf.keras.layers.Dense(10, activation='softmax')\n",
    "])\n",
    "\n",
    "# 设定优化器(optimizer)、损失函数(loss)、效能衡量指标(metrics)的类别\n",
    "model.compile(optimizer='adam',\n",
    "              loss='sparse_categorical_crossentropy',\n",
    "              metrics=['accuracy'])\n",
    "\n",
    "# 模型训练\n",
    "history = model.fit(x_train_norm, y_train, epochs=5, validation_split=0.2)\n",
    "\n",
    "# 评分(Score Model)\n",
    "score=model.evaluate(x_test_norm, y_test, verbose=0)\n",
    "\n",
    "for i, x in enumerate(score):\n",
    "    print(f'{model.metrics_names[i]}: {score[i]:.4f}')"
   ]
  },
  {
   "cell_type": "markdown",
   "metadata": {},
   "source": [
    "## 模型存档(Save)"
   ]
  },
  {
   "cell_type": "code",
   "execution_count": 2,
   "metadata": {
    "scrolled": true
   },
   "outputs": [
    {
     "name": "stdout",
     "output_type": "stream",
     "text": [
      "INFO:tensorflow:Assets written to: my_model\\assets\n"
     ]
    }
   ],
   "source": [
    "model.save('my_model')"
   ]
  },
  {
   "cell_type": "markdown",
   "metadata": {},
   "source": [
    "## 模型载入(Loading)"
   ]
  },
  {
   "cell_type": "code",
   "execution_count": 3,
   "metadata": {
    "scrolled": true
   },
   "outputs": [
    {
     "name": "stdout",
     "output_type": "stream",
     "text": [
      "loss: 0.0701\n",
      "accuracy: 0.9782\n"
     ]
    }
   ],
   "source": [
    "# 模型载入\n",
    "model2 = tf.keras.models.load_model('my_model')\n",
    "\n",
    "# 评分(Score Model)\n",
    "score=model2.evaluate(x_test_norm, y_test, verbose=0)\n",
    "\n",
    "for i, x in enumerate(score):\n",
    "    print(f'{model2.metrics_names[i]}: {score[i]:.4f}')"
   ]
  },
  {
   "cell_type": "code",
   "execution_count": 4,
   "metadata": {},
   "outputs": [],
   "source": [
    "# 模型比较\n",
    "import numpy as np\n",
    "\n",
    "# 比较，若结果不同，会出现错误\n",
    "np.testing.assert_allclose(\n",
    "    model.predict(x_test_norm), model2.predict(x_test_norm)\n",
    ")"
   ]
  },
  {
   "cell_type": "markdown",
   "metadata": {},
   "source": [
    "## Keras h5 模型存档(Save)"
   ]
  },
  {
   "cell_type": "code",
   "execution_count": 5,
   "metadata": {
    "scrolled": true
   },
   "outputs": [],
   "source": [
    "model.save('my_h5_model.h5')"
   ]
  },
  {
   "cell_type": "code",
   "execution_count": 6,
   "metadata": {},
   "outputs": [],
   "source": [
    "# 模型载入\n",
    "model3 = tf.keras.models.load_model('my_h5_model.h5')"
   ]
  },
  {
   "cell_type": "markdown",
   "metadata": {},
   "source": [
    "## 取得模型结构"
   ]
  },
  {
   "cell_type": "code",
   "execution_count": 7,
   "metadata": {},
   "outputs": [],
   "source": [
    "# 取得模型结构\n",
    "config = model.get_config()\n",
    "\n",
    "# 载入模型结构\n",
    "# Sequential model\n",
    "new_model = tf.keras.Sequential.from_config(config)\n",
    "\n",
    "# function API\n",
    "# new_model = tf.keras.Model.from_config(config)"
   ]
  },
  {
   "cell_type": "markdown",
   "metadata": {},
   "source": [
    "## json 格式"
   ]
  },
  {
   "cell_type": "code",
   "execution_count": 8,
   "metadata": {},
   "outputs": [],
   "source": [
    "# 取得模型结构\n",
    "json_config = model.to_json()\n",
    "\n",
    "# 载入模型结构\n",
    "new_model = tf.keras.models.model_from_json(json_config)"
   ]
  },
  {
   "cell_type": "markdown",
   "metadata": {},
   "source": [
    "## 取得模型权重"
   ]
  },
  {
   "cell_type": "code",
   "execution_count": 9,
   "metadata": {},
   "outputs": [
    {
     "data": {
      "text/plain": [
       "[array([[-0.07456258,  0.06393789, -0.06428564, ..., -0.01037651,\n",
       "         -0.00075018,  0.02070208],\n",
       "        [-0.07116753, -0.0734145 ,  0.06361249, ...,  0.01945378,\n",
       "          0.02640199, -0.01401142],\n",
       "        [-0.07579142, -0.07441146,  0.01998896, ..., -0.00643145,\n",
       "          0.04564028, -0.06786995],\n",
       "        ...,\n",
       "        [ 0.0488726 , -0.01030109,  0.06306989, ..., -0.06392061,\n",
       "         -0.03373569, -0.05201003],\n",
       "        [-0.04656494, -0.02243511, -0.03304058, ..., -0.06787682,\n",
       "         -0.01773017,  0.07096189],\n",
       "        [ 0.06254293,  0.01443324,  0.05800903, ...,  0.04117959,\n",
       "         -0.05096102, -0.01709218]], dtype=float32),\n",
       " array([-0.09254983,  0.01622153, -0.0625335 ,  0.08666411,  0.10997227,\n",
       "         0.12771368, -0.02746079, -0.0087847 ,  0.04165375, -0.03454573,\n",
       "         0.03890204,  0.00739691, -0.01258934, -0.00979497, -0.09185535,\n",
       "         0.02082837,  0.05723752,  0.10199914, -0.02323096,  0.04471245,\n",
       "        -0.06626875, -0.09415329, -0.04521064,  0.0919965 ,  0.03913138,\n",
       "         0.03053075,  0.02849763, -0.07406817, -0.08401445,  0.04505835,\n",
       "         0.07717349,  0.01649404,  0.15117176, -0.07191611,  0.0078593 ,\n",
       "        -0.00259263,  0.10748626,  0.00257148, -0.10640821,  0.07280736,\n",
       "         0.00300056,  0.00581316, -0.0341205 , -0.04500446, -0.07394457,\n",
       "        -0.09875046,  0.02826636,  0.00645688, -0.01349663, -0.09819891,\n",
       "         0.02581549,  0.10136572, -0.02408341,  0.08262488,  0.01812781,\n",
       "        -0.02054109, -0.06915426,  0.02949506, -0.00190001, -0.08648017,\n",
       "        -0.02686373, -0.01683878, -0.03917242, -0.09970602,  0.08079918,\n",
       "        -0.00073182,  0.004655  ,  0.01930081,  0.06473105, -0.04263832,\n",
       "         0.00249763,  0.13326988, -0.02950569, -0.04581074,  0.02762574,\n",
       "         0.06958561,  0.07456397, -0.01494737, -0.02068246, -0.00277078,\n",
       "         0.11556666, -0.06412197,  0.07034638,  0.14870614, -0.01988943,\n",
       "        -0.06249516,  0.05538758, -0.07936893, -0.00717246,  0.03629821,\n",
       "         0.10471163,  0.0062601 , -0.08937924,  0.01672986,  0.0033006 ,\n",
       "         0.00164533,  0.12665358,  0.06348249,  0.00104459, -0.03034862,\n",
       "         0.07345921, -0.00597279, -0.02470557,  0.05769008,  0.00831538,\n",
       "        -0.04370273,  0.08135237,  0.09307285,  0.02260213,  0.02817714,\n",
       "        -0.00660023, -0.02638301, -0.02412465,  0.11908676, -0.08219514,\n",
       "         0.0608383 ,  0.02650563, -0.03942809, -0.01551349,  0.05892526,\n",
       "         0.05414858,  0.07620445,  0.07048582,  0.02426341,  0.01466307,\n",
       "         0.05061334,  0.06896327,  0.04573604, -0.04876534,  0.01500683,\n",
       "        -0.02918939, -0.05633261,  0.03450685,  0.0562721 , -0.03254366,\n",
       "        -0.08439846, -0.05285551, -0.08880753,  0.07603668,  0.05278768,\n",
       "         0.13735148,  0.1893749 ,  0.08211054,  0.01843499, -0.04972317,\n",
       "        -0.02919888, -0.06313684,  0.03926784,  0.08917805,  0.06853886,\n",
       "        -0.03715232,  0.07217696,  0.11201268,  0.05609207, -0.01467894,\n",
       "        -0.04931014, -0.04014594,  0.00470677,  0.01692097, -0.07962066,\n",
       "        -0.08957759, -0.00551082,  0.0879426 , -0.10336573,  0.00659894,\n",
       "         0.02134503,  0.00511065,  0.01259974,  0.06663741,  0.0368146 ,\n",
       "        -0.05370831,  0.06962257, -0.04056071, -0.04724114,  0.0143178 ,\n",
       "        -0.0477795 ,  0.08200474, -0.04835324,  0.06675727,  0.06928983,\n",
       "         0.0318015 , -0.00075458, -0.05357262,  0.02150036,  0.09719274,\n",
       "         0.09467399,  0.00103105,  0.05758337, -0.03944895,  0.16122435,\n",
       "         0.07893906,  0.07201121, -0.04624929, -0.00403766,  0.11698411,\n",
       "        -0.15660042,  0.02644243,  0.03355414, -0.05685681,  0.01383968,\n",
       "         0.02416322,  0.05250549,  0.07625825, -0.04423945,  0.0353104 ,\n",
       "         0.01627811, -0.04363356,  0.0459468 , -0.11424033,  0.12851325,\n",
       "        -0.05193925,  0.07638557,  0.07728626,  0.0399247 , -0.00058425,\n",
       "         0.04783892,  0.025686  ,  0.03701677,  0.0745362 , -0.06243384,\n",
       "        -0.08218135,  0.08910273,  0.03364467,  0.01117141, -0.04123192,\n",
       "        -0.01549875,  0.01779561, -0.03010698, -0.07735623, -0.0553431 ,\n",
       "        -0.02085527,  0.03166294,  0.10571583,  0.02930371,  0.02036686,\n",
       "         0.1282151 , -0.06956649, -0.10141321,  0.00206389, -0.00392569,\n",
       "        -0.02801515,  0.01420452,  0.02128126, -0.0539101 ,  0.04478328,\n",
       "        -0.02364383,  0.04114786, -0.01971024, -0.08789332, -0.07574333,\n",
       "         0.0042889 ,  0.02724284,  0.00758328,  0.07993221,  0.00689856,\n",
       "         0.08578797], dtype=float32),\n",
       " array([[-6.8845257e-02,  7.5298406e-02,  9.5205508e-02, ...,\n",
       "          7.7489220e-02,  9.3601808e-02,  5.6059200e-02],\n",
       "        [ 1.9641095e-01,  7.5829521e-02, -1.0396564e-01, ...,\n",
       "          1.1847507e-01, -4.0600279e-01, -6.9864482e-02],\n",
       "        [-1.4725035e-01,  1.0495263e-01,  9.9564008e-02, ...,\n",
       "         -2.1349917e-01,  1.1540024e-01, -1.6246701e-02],\n",
       "        ...,\n",
       "        [-2.6996738e-01, -2.3774134e-01, -8.0313213e-02, ...,\n",
       "          2.0551835e-01,  2.8455200e-02, -4.8716101e-01],\n",
       "        [-1.2334549e-01,  1.0389125e-01,  1.8367639e-01, ...,\n",
       "          1.4470471e-01,  8.0744371e-02, -4.5960119e-01],\n",
       "        [ 3.1229639e-01, -1.9623785e-01,  2.1130332e-01, ...,\n",
       "         -6.1348766e-02, -2.7204776e-01, -6.4746549e-05]], dtype=float32),\n",
       " array([-0.0616671 , -0.07575443, -0.13666661, -0.04058331,  0.06699481,\n",
       "         0.03689482, -0.01923661, -0.05876989,  0.19319968,  0.02506847],\n",
       "       dtype=float32)]"
      ]
     },
     "execution_count": 9,
     "metadata": {},
     "output_type": "execute_result"
    }
   ],
   "source": [
    "# 取得模型权重\n",
    "weights = model.get_weights()\n",
    "weights"
   ]
  },
  {
   "cell_type": "code",
   "execution_count": 10,
   "metadata": {},
   "outputs": [
    {
     "data": {
      "text/plain": [
       "[0.07007579505443573, 0.9782000184059143]"
      ]
     },
     "execution_count": 10,
     "metadata": {},
     "output_type": "execute_result"
    }
   ],
   "source": [
    "# 设定模型权重\n",
    "new_model.set_weights(weights)\n",
    "\n",
    "# 设定优化器(optimizer)、损失函数(loss)、效能衡量指标(metrics)的类别\n",
    "new_model.compile(optimizer='adam',\n",
    "              loss='sparse_categorical_crossentropy',\n",
    "              metrics=['accuracy'])\n",
    "\n",
    "# predict\n",
    "score=new_model.evaluate(x_test_norm, y_test, verbose=0)\n",
    "score"
   ]
  },
  {
   "cell_type": "markdown",
   "metadata": {},
   "source": [
    "## 取得模型结构时，Custom Layer 需注册"
   ]
  },
  {
   "cell_type": "code",
   "execution_count": 11,
   "metadata": {},
   "outputs": [],
   "source": [
    "class CustomLayer(tf.keras.layers.Layer):\n",
    "    def __init__(self, units=32, **kwargs):\n",
    "        super(CustomLayer, self).__init__(**kwargs)\n",
    "        self.units = units\n",
    "\n",
    "    def build(self, input_shape):\n",
    "        self.w = self.add_weight(\n",
    "            shape=(input_shape[-1], self.units),\n",
    "            initializer=\"random_normal\",\n",
    "            trainable=True,\n",
    "        )\n",
    "        self.b = self.add_weight(\n",
    "            shape=(self.units,), initializer=\"random_normal\", trainable=True\n",
    "        )\n",
    "\n",
    "    def call(self, inputs):\n",
    "        return tf.matmul(inputs, self.w) + self.b\n",
    "\n",
    "    def get_config(self):\n",
    "        config = super(CustomLayer, self).get_config()\n",
    "        config.update({\"units\": self.units})\n",
    "        return config\n",
    "\n",
    "\n",
    "def custom_activation(x):\n",
    "    return tf.nn.tanh(x) ** 2\n",
    "\n",
    "\n",
    "# Make a model with the CustomLayer and custom_activation\n",
    "inputs = tf.keras.Input((32,))\n",
    "x = CustomLayer(32)(inputs)\n",
    "outputs = tf.keras.layers.Activation(custom_activation)(x)\n",
    "model = tf.keras.Model(inputs, outputs)\n",
    "\n",
    "# Retrieve the config\n",
    "config = model.get_config()\n",
    "\n",
    "# Custom Layer 需注册\n",
    "custom_objects = {\"CustomLayer\": CustomLayer, \"custom_activation\": custom_activation}\n",
    "with tf.keras.utils.custom_object_scope(custom_objects):\n",
    "    new_model = tf.keras.Model.from_config(config)"
   ]
  },
  {
   "cell_type": "code",
   "execution_count": 12,
   "metadata": {},
   "outputs": [
    {
     "ename": "AttributeError",
     "evalue": "'NoneType' object has no attribute 'replace'",
     "output_type": "error",
     "traceback": [
      "\u001b[1;31m---------------------------------------------------------------------------\u001b[0m",
      "\u001b[1;31mAttributeError\u001b[0m                            Traceback (most recent call last)",
      "\u001b[1;32m<ipython-input-12-7cd1a1e22ce9>\u001b[0m in \u001b[0;36m<module>\u001b[1;34m\u001b[0m\n\u001b[0;32m      1\u001b[0m \u001b[1;31m# 模型权重存档\u001b[0m\u001b[1;33m\u001b[0m\u001b[1;33m\u001b[0m\u001b[1;33m\u001b[0m\u001b[0m\n\u001b[1;32m----> 2\u001b[1;33m \u001b[0mmodel\u001b[0m\u001b[1;33m.\u001b[0m\u001b[0msave_weights\u001b[0m\u001b[1;33m(\u001b[0m\u001b[1;34m'my_h5_model.weight'\u001b[0m\u001b[1;33m)\u001b[0m\u001b[1;33m\u001b[0m\u001b[1;33m\u001b[0m\u001b[0m\n\u001b[0m",
      "\u001b[1;32m~\\anaconda3\\lib\\site-packages\\tensorflow\\python\\keras\\engine\\training.py\u001b[0m in \u001b[0;36msave_weights\u001b[1;34m(self, filepath, overwrite, save_format, options)\u001b[0m\n\u001b[0;32m   2122\u001b[0m              'saved.\\n\\nConsider using a TensorFlow optimizer from `tf.train`.')\n\u001b[0;32m   2123\u001b[0m             % (optimizer,))\n\u001b[1;32m-> 2124\u001b[1;33m       \u001b[0mself\u001b[0m\u001b[1;33m.\u001b[0m\u001b[0m_trackable_saver\u001b[0m\u001b[1;33m.\u001b[0m\u001b[0msave\u001b[0m\u001b[1;33m(\u001b[0m\u001b[0mfilepath\u001b[0m\u001b[1;33m,\u001b[0m \u001b[0msession\u001b[0m\u001b[1;33m=\u001b[0m\u001b[0msession\u001b[0m\u001b[1;33m,\u001b[0m \u001b[0moptions\u001b[0m\u001b[1;33m=\u001b[0m\u001b[0moptions\u001b[0m\u001b[1;33m)\u001b[0m\u001b[1;33m\u001b[0m\u001b[1;33m\u001b[0m\u001b[0m\n\u001b[0m\u001b[0;32m   2125\u001b[0m       \u001b[1;31m# Record this checkpoint so it's visible from tf.train.latest_checkpoint.\u001b[0m\u001b[1;33m\u001b[0m\u001b[1;33m\u001b[0m\u001b[1;33m\u001b[0m\u001b[0m\n\u001b[0;32m   2126\u001b[0m       checkpoint_management.update_checkpoint_state_internal(\n",
      "\u001b[1;32m~\\anaconda3\\lib\\site-packages\\tensorflow\\python\\training\\tracking\\util.py\u001b[0m in \u001b[0;36msave\u001b[1;34m(self, file_prefix, checkpoint_number, session, options)\u001b[0m\n\u001b[0;32m   1214\u001b[0m \u001b[1;33m\u001b[0m\u001b[0m\n\u001b[0;32m   1215\u001b[0m     \u001b[0mfile_io\u001b[0m\u001b[1;33m.\u001b[0m\u001b[0mrecursive_create_dir\u001b[0m\u001b[1;33m(\u001b[0m\u001b[0mos\u001b[0m\u001b[1;33m.\u001b[0m\u001b[0mpath\u001b[0m\u001b[1;33m.\u001b[0m\u001b[0mdirname\u001b[0m\u001b[1;33m(\u001b[0m\u001b[0mfile_prefix\u001b[0m\u001b[1;33m)\u001b[0m\u001b[1;33m)\u001b[0m\u001b[1;33m\u001b[0m\u001b[1;33m\u001b[0m\u001b[0m\n\u001b[1;32m-> 1216\u001b[1;33m     save_path, new_feed_additions = self._save_cached_when_graph_building(\n\u001b[0m\u001b[0;32m   1217\u001b[0m         file_prefix_tensor, object_graph_tensor, options)\n\u001b[0;32m   1218\u001b[0m     \u001b[1;32mif\u001b[0m \u001b[0mnew_feed_additions\u001b[0m\u001b[1;33m:\u001b[0m\u001b[1;33m\u001b[0m\u001b[1;33m\u001b[0m\u001b[0m\n",
      "\u001b[1;32m~\\anaconda3\\lib\\site-packages\\tensorflow\\python\\training\\tracking\\util.py\u001b[0m in \u001b[0;36m_save_cached_when_graph_building\u001b[1;34m(self, file_prefix, object_graph_tensor, options)\u001b[0m\n\u001b[0;32m   1151\u001b[0m     \"\"\"\n\u001b[0;32m   1152\u001b[0m     (named_saveable_objects, graph_proto,\n\u001b[1;32m-> 1153\u001b[1;33m      \u001b[0mfeed_additions\u001b[0m\u001b[1;33m)\u001b[0m \u001b[1;33m=\u001b[0m \u001b[0mself\u001b[0m\u001b[1;33m.\u001b[0m\u001b[0m_gather_saveables\u001b[0m\u001b[1;33m(\u001b[0m\u001b[1;33m\u001b[0m\u001b[1;33m\u001b[0m\u001b[0m\n\u001b[0m\u001b[0;32m   1154\u001b[0m          object_graph_tensor=object_graph_tensor)\n\u001b[0;32m   1155\u001b[0m     if (self._last_save_object_graph != graph_proto\n",
      "\u001b[1;32m~\\anaconda3\\lib\\site-packages\\tensorflow\\python\\training\\tracking\\util.py\u001b[0m in \u001b[0;36m_gather_saveables\u001b[1;34m(self, object_graph_tensor)\u001b[0m\n\u001b[0;32m   1118\u001b[0m     \u001b[1;34m\"\"\"Wraps _serialize_object_graph to include the object graph proto.\"\"\"\u001b[0m\u001b[1;33m\u001b[0m\u001b[1;33m\u001b[0m\u001b[0m\n\u001b[0;32m   1119\u001b[0m     (named_saveable_objects, graph_proto,\n\u001b[1;32m-> 1120\u001b[1;33m      feed_additions) = self._graph_view.serialize_object_graph()\n\u001b[0m\u001b[0;32m   1121\u001b[0m     \u001b[1;32mif\u001b[0m \u001b[0mobject_graph_tensor\u001b[0m \u001b[1;32mis\u001b[0m \u001b[1;32mNone\u001b[0m\u001b[1;33m:\u001b[0m\u001b[1;33m\u001b[0m\u001b[1;33m\u001b[0m\u001b[0m\n\u001b[0;32m   1122\u001b[0m       \u001b[1;32mwith\u001b[0m \u001b[0mops\u001b[0m\u001b[1;33m.\u001b[0m\u001b[0mdevice\u001b[0m\u001b[1;33m(\u001b[0m\u001b[1;34m\"/cpu:0\"\u001b[0m\u001b[1;33m)\u001b[0m\u001b[1;33m:\u001b[0m\u001b[1;33m\u001b[0m\u001b[1;33m\u001b[0m\u001b[0m\n",
      "\u001b[1;32m~\\anaconda3\\lib\\site-packages\\tensorflow\\python\\training\\tracking\\graph_view.py\u001b[0m in \u001b[0;36mserialize_object_graph\u001b[1;34m(self)\u001b[0m\n\u001b[0;32m    405\u001b[0m     \"\"\"\n\u001b[0;32m    406\u001b[0m     \u001b[0mtrackable_objects\u001b[0m\u001b[1;33m,\u001b[0m \u001b[0mpath_to_root\u001b[0m \u001b[1;33m=\u001b[0m \u001b[0mself\u001b[0m\u001b[1;33m.\u001b[0m\u001b[0m_breadth_first_traversal\u001b[0m\u001b[1;33m(\u001b[0m\u001b[1;33m)\u001b[0m\u001b[1;33m\u001b[0m\u001b[1;33m\u001b[0m\u001b[0m\n\u001b[1;32m--> 407\u001b[1;33m     return self._serialize_gathered_objects(\n\u001b[0m\u001b[0;32m    408\u001b[0m         trackable_objects, path_to_root)\n\u001b[0;32m    409\u001b[0m \u001b[1;33m\u001b[0m\u001b[0m\n",
      "\u001b[1;32m~\\anaconda3\\lib\\site-packages\\tensorflow\\python\\training\\tracking\\graph_view.py\u001b[0m in \u001b[0;36m_serialize_gathered_objects\u001b[1;34m(self, trackable_objects, path_to_root, object_map, call_with_mapped_captures)\u001b[0m\n\u001b[0;32m    361\u001b[0m     \u001b[0mobject_names\u001b[0m \u001b[1;33m=\u001b[0m \u001b[0mobject_identity\u001b[0m\u001b[1;33m.\u001b[0m\u001b[0mObjectIdentityDictionary\u001b[0m\u001b[1;33m(\u001b[0m\u001b[1;33m)\u001b[0m\u001b[1;33m\u001b[0m\u001b[1;33m\u001b[0m\u001b[0m\n\u001b[0;32m    362\u001b[0m     \u001b[1;32mfor\u001b[0m \u001b[0mobj\u001b[0m\u001b[1;33m,\u001b[0m \u001b[0mpath\u001b[0m \u001b[1;32min\u001b[0m \u001b[0mpath_to_root\u001b[0m\u001b[1;33m.\u001b[0m\u001b[0mitems\u001b[0m\u001b[1;33m(\u001b[0m\u001b[1;33m)\u001b[0m\u001b[1;33m:\u001b[0m\u001b[1;33m\u001b[0m\u001b[1;33m\u001b[0m\u001b[0m\n\u001b[1;32m--> 363\u001b[1;33m       \u001b[0mobject_names\u001b[0m\u001b[1;33m[\u001b[0m\u001b[0mobj\u001b[0m\u001b[1;33m]\u001b[0m \u001b[1;33m=\u001b[0m \u001b[0m_object_prefix_from_path\u001b[0m\u001b[1;33m(\u001b[0m\u001b[0mpath\u001b[0m\u001b[1;33m)\u001b[0m\u001b[1;33m\u001b[0m\u001b[1;33m\u001b[0m\u001b[0m\n\u001b[0m\u001b[0;32m    364\u001b[0m     \u001b[0mnode_ids\u001b[0m \u001b[1;33m=\u001b[0m \u001b[0mobject_identity\u001b[0m\u001b[1;33m.\u001b[0m\u001b[0mObjectIdentityDictionary\u001b[0m\u001b[1;33m(\u001b[0m\u001b[1;33m)\u001b[0m\u001b[1;33m\u001b[0m\u001b[1;33m\u001b[0m\u001b[0m\n\u001b[0;32m    365\u001b[0m     \u001b[1;32mfor\u001b[0m \u001b[0mnode_id\u001b[0m\u001b[1;33m,\u001b[0m \u001b[0mnode\u001b[0m \u001b[1;32min\u001b[0m \u001b[0menumerate\u001b[0m\u001b[1;33m(\u001b[0m\u001b[0mtrackable_objects\u001b[0m\u001b[1;33m)\u001b[0m\u001b[1;33m:\u001b[0m\u001b[1;33m\u001b[0m\u001b[1;33m\u001b[0m\u001b[0m\n",
      "\u001b[1;32m~\\anaconda3\\lib\\site-packages\\tensorflow\\python\\training\\tracking\\graph_view.py\u001b[0m in \u001b[0;36m_object_prefix_from_path\u001b[1;34m(path_to_root)\u001b[0m\n\u001b[0;32m     60\u001b[0m \u001b[1;33m\u001b[0m\u001b[0m\n\u001b[0;32m     61\u001b[0m \u001b[1;32mdef\u001b[0m \u001b[0m_object_prefix_from_path\u001b[0m\u001b[1;33m(\u001b[0m\u001b[0mpath_to_root\u001b[0m\u001b[1;33m)\u001b[0m\u001b[1;33m:\u001b[0m\u001b[1;33m\u001b[0m\u001b[1;33m\u001b[0m\u001b[0m\n\u001b[1;32m---> 62\u001b[1;33m   return \"/\".join(\n\u001b[0m\u001b[0;32m     63\u001b[0m       (_escape_local_name(trackable.name)\n\u001b[0;32m     64\u001b[0m        for trackable in path_to_root))\n",
      "\u001b[1;32m~\\anaconda3\\lib\\site-packages\\tensorflow\\python\\training\\tracking\\graph_view.py\u001b[0m in \u001b[0;36m<genexpr>\u001b[1;34m(.0)\u001b[0m\n\u001b[0;32m     61\u001b[0m \u001b[1;32mdef\u001b[0m \u001b[0m_object_prefix_from_path\u001b[0m\u001b[1;33m(\u001b[0m\u001b[0mpath_to_root\u001b[0m\u001b[1;33m)\u001b[0m\u001b[1;33m:\u001b[0m\u001b[1;33m\u001b[0m\u001b[1;33m\u001b[0m\u001b[0m\n\u001b[0;32m     62\u001b[0m   return \"/\".join(\n\u001b[1;32m---> 63\u001b[1;33m       (_escape_local_name(trackable.name)\n\u001b[0m\u001b[0;32m     64\u001b[0m        for trackable in path_to_root))\n\u001b[0;32m     65\u001b[0m \u001b[1;33m\u001b[0m\u001b[0m\n",
      "\u001b[1;32m~\\anaconda3\\lib\\site-packages\\tensorflow\\python\\training\\tracking\\graph_view.py\u001b[0m in \u001b[0;36m_escape_local_name\u001b[1;34m(name)\u001b[0m\n\u001b[0;32m     55\u001b[0m   \u001b[1;31m# edges traversed to reach the variable, so we escape forward slashes in\u001b[0m\u001b[1;33m\u001b[0m\u001b[1;33m\u001b[0m\u001b[1;33m\u001b[0m\u001b[0m\n\u001b[0;32m     56\u001b[0m   \u001b[1;31m# names.\u001b[0m\u001b[1;33m\u001b[0m\u001b[1;33m\u001b[0m\u001b[1;33m\u001b[0m\u001b[0m\n\u001b[1;32m---> 57\u001b[1;33m   return (name.replace(_ESCAPE_CHAR, _ESCAPE_CHAR + _ESCAPE_CHAR)\n\u001b[0m\u001b[0;32m     58\u001b[0m           .replace(r\"/\", _ESCAPE_CHAR + \"S\"))\n\u001b[0;32m     59\u001b[0m \u001b[1;33m\u001b[0m\u001b[0m\n",
      "\u001b[1;31mAttributeError\u001b[0m: 'NoneType' object has no attribute 'replace'"
     ]
    }
   ],
   "source": [
    "# 模型权重存档，有 Custom Layer 会出现错误\n",
    "model.save_weights('my_h5_model.weight')"
   ]
  },
  {
   "cell_type": "code",
   "execution_count": null,
   "metadata": {},
   "outputs": [],
   "source": [
    "# 载入模型权重档\n",
    "model.load_weights('my_h5_model.weight')"
   ]
  },
  {
   "cell_type": "code",
   "execution_count": null,
   "metadata": {},
   "outputs": [],
   "source": []
  }
 ],
 "metadata": {
  "kernelspec": {
   "display_name": "Python 3",
   "language": "python",
   "name": "python3"
  },
  "language_info": {
   "codemirror_mode": {
    "name": "ipython",
    "version": 3
   },
   "file_extension": ".py",
   "mimetype": "text/x-python",
   "name": "python",
   "nbconvert_exporter": "python",
   "pygments_lexer": "ipython3",
   "version": "3.8.5"
  }
 },
 "nbformat": 4,
 "nbformat_minor": 4
}
