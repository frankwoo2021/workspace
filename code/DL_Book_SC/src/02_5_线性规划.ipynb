{
 "cells": [
  {
   "cell_type": "markdown",
   "metadata": {},
   "source": [
    "# 线性规划(Linear Programming)"
   ]
  },
  {
   "cell_type": "markdown",
   "metadata": {},
   "source": [
    "## 范例1. 最大化目标函数"
   ]
  },
  {
   "cell_type": "code",
   "execution_count": 1,
   "metadata": {},
   "outputs": [
    {
     "data": {
      "image/png": "[encoded data removed]",
      "text/plain": [
       "<Figure size 720x432 with 1 Axes>"
      ]
     },
     "metadata": {
      "needs_background": "light"
     },
     "output_type": "display_data"
    }
   ],
   "source": [
    "import numpy as np\n",
    "import matplotlib.pyplot as plt\n",
    "\n",
    "plt.figure(figsize=(10,6))\n",
    "\n",
    "# 限制式 2x+y = 100\n",
    "x = np.arange(0,80)\n",
    "y = 100 - 2 * x\n",
    "\n",
    "# 限制式 x+y = 80\n",
    "y_2 = 80 - x\n",
    "plt.plot(x, y, 'black', x, y_2, 'g')\n",
    "\n",
    "# 限制式 x = 40\n",
    "plt.axvline(40)\n",
    "\n",
    "# 座标轴范围\n",
    "plt.xlim(0,80)\n",
    "plt.ylim(0,100)\n",
    "\n",
    "# 限制式 x+y = 80 取边界线样本点\n",
    "x1 = np.arange(0,21)\n",
    "y1 = 80 - x1\n",
    "\n",
    "# 限制式 2x+y = 100 取边界线样本点\n",
    "x2 = np.arange(20,41)\n",
    "y2 = 100 - 2 * x2\n",
    "\n",
    "# 限制式 x = 40 取边界线样本点\n",
    "x3 = np.array([40]*20)\n",
    "y3 = np.arange(0,20)\n",
    "\n",
    "# 整合边界线样本点\n",
    "x1 = np.concatenate((x1, x2, x3))\n",
    "y1 = np.concatenate((y1, y2, y3))\n",
    "\n",
    "# 可行解(Feasible Solutions)\n",
    "plt.fill_between(x1, y1, color='yellow')\n",
    "\n",
    "plt.show()"
   ]
  },
  {
   "cell_type": "markdown",
   "metadata": {},
   "source": [
    "## 以套件 pulp 求解。"
   ]
  },
  {
   "cell_type": "code",
   "execution_count": 2,
   "metadata": {},
   "outputs": [
    {
     "name": "stdout",
     "output_type": "stream",
     "text": [
      "Collecting pulp\n",
      "  Downloading PuLP-2.5.0-py3-none-any.whl (41.2 MB)\n",
      "Installing collected packages: pulp\n",
      "Successfully installed pulp-2.5.0\n"
     ]
    }
   ],
   "source": [
    "!pip install pulp"
   ]
  },
  {
   "cell_type": "code",
   "execution_count": 3,
   "metadata": {},
   "outputs": [
    {
     "name": "stderr",
     "output_type": "stream",
     "text": [
      "C:\\Users\\Ariel\\anaconda3\\lib\\site-packages\\pulp\\pulp.py:1316: UserWarning: Spaces are not permitted in the name. Converted to '_'\n",
      "  warnings.warn(\"Spaces are not permitted in the name. Converted to '_'\")\n"
     ]
    },
    {
     "data": {
      "text/plain": [
       "范例1._最大化目标函数:\n",
       "MAXIMIZE\n",
       "3*x + 2*y + 0\n",
       "SUBJECT TO\n",
       "限制式1: 2 x + y <= 100\n",
       "\n",
       "限制式2: x + y <= 80\n",
       "\n",
       "限制式3: x <= 40\n",
       "\n",
       "VARIABLES\n",
       "x Continuous\n",
       "y Continuous"
      ]
     },
     "execution_count": 3,
     "metadata": {},
     "output_type": "execute_result"
    }
   ],
   "source": [
    "from pulp import LpMaximize, LpProblem, LpStatus, lpSum, LpVariable\n",
    "\n",
    "# 设定题目名称及最大化(LpMaximize)或最小化(LpMinimize)\n",
    "model  = LpProblem(\"范例1. 最大化目标函数\", LpMaximize)\n",
    "\n",
    "# 变数初始化， x >= 0, y >= 0\n",
    "x = LpVariable(name=\"x\", lowBound=0)\n",
    "y = LpVariable(name=\"y\", lowBound=0)\n",
    "\n",
    "# 目标函数\n",
    "objective_function = 3 * x + 2 * y\n",
    "\n",
    "# 限制条件\n",
    "constraint = 2 * x + 4 * y >= 8\n",
    "model += (2 * x + y <= 100, \"限制式1\")\n",
    "model += (x + y <= 80, \"限制式2\")\n",
    "model += (x <= 40, \"限制式3\")\n",
    "\n",
    "model += objective_function\n",
    "model"
   ]
  },
  {
   "cell_type": "code",
   "execution_count": 4,
   "metadata": {
    "scrolled": true
   },
   "outputs": [
    {
     "name": "stdout",
     "output_type": "stream",
     "text": [
      "有解吗? yes\n",
      "目标函数: 180.0\n",
      "x: 20.0\n",
      "y: 60.0\n",
      "\n",
      "限制式的值(不太重要)\n",
      "限制式1: 0.0\n",
      "限制式2: 0.0\n",
      "限制式3: -20.0\n"
     ]
    }
   ],
   "source": [
    "status = model.solve()\n",
    "status = 'yes' if status == 1 else 'no'\n",
    "print(f'有解吗? {status}')\n",
    "\n",
    "print(f\"目标函数: {model.objective.value()}\")\n",
    "for var in model.variables():\n",
    "    print(f\"{var.name}: {var.value()}\")\n",
    "    \n",
    "print(f'\\n限制式的值(不太重要)')\n",
    "for name, constraint in model.constraints.items():\n",
    "    print(f\"{name}: {constraint.value()}\")    "
   ]
  },
  {
   "cell_type": "code",
   "execution_count": null,
   "metadata": {},
   "outputs": [],
   "source": []
  }
 ],
 "metadata": {
  "kernelspec": {
   "display_name": "Python 3",
   "language": "python",
   "name": "python3"
  },
  "language_info": {
   "codemirror_mode": {
    "name": "ipython",
    "version": 3
   },
   "file_extension": ".py",
   "mimetype": "text/x-python",
   "name": "python",
   "nbconvert_exporter": "python",
   "pygments_lexer": "ipython3",
   "version": "3.8.5"
  }
 },
 "nbformat": 4,
 "nbformat_minor": 2
}
