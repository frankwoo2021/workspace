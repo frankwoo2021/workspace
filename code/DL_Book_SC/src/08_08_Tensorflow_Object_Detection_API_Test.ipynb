{
 "cells": [
  {
   "cell_type": "markdown",
   "metadata": {},
   "source": [
    "## Tensorflow Object Detection API 简单测试"
   ]
  },
  {
   "cell_type": "code",
   "execution_count": 1,
   "metadata": {},
   "outputs": [],
   "source": [
    "# 载入套件\n",
    "import os\n",
    "import pathlib\n",
    "import tensorflow as tf\n",
    "import pathlib"
   ]
  },
  {
   "cell_type": "markdown",
   "metadata": {},
   "source": [
    "## GPU 记忆体配置设定"
   ]
  },
  {
   "cell_type": "code",
   "execution_count": 2,
   "metadata": {},
   "outputs": [],
   "source": [
    "# GPU 设定为 记忆体动态调整 (dynamic memory allocation)\n",
    "gpus = tf.config.experimental.list_physical_devices('GPU')\n",
    "for gpu in gpus:\n",
    "    tf.config.experimental.set_memory_growth(gpu, True)"
   ]
  },
  {
   "cell_type": "code",
   "execution_count": 3,
   "metadata": {},
   "outputs": [
    {
     "ename": "SyntaxError",
     "evalue": "invalid syntax (<ipython-input-3-618820cbc86d>, line 1)",
     "output_type": "error",
     "traceback": [
      "\u001b[1;36m  File \u001b[1;32m\"<ipython-input-3-618820cbc86d>\"\u001b[1;36m, line \u001b[1;32m1\u001b[0m\n\u001b[1;33m    GPU 设定为固定为 2GB\u001b[0m\n\u001b[1;37m        ^\u001b[0m\n\u001b[1;31mSyntaxError\u001b[0m\u001b[1;31m:\u001b[0m invalid syntax\n"
     ]
    }
   ],
   "source": [
    " GPU 设定为固定为 2GB \n",
    "gpus = tf.config.experimental.list_physical_devices('GPU')\n",
    "if gpus:  # 1024*2：2048MB = 2GB\n",
    "    tf.config.experimental.set_virtual_device_configuration(gpus[0], \n",
    "        [tf.config.experimental.VirtualDeviceConfiguration(memory_limit=1024*2)])"
   ]
  },
  {
   "cell_type": "markdown",
   "metadata": {},
   "source": [
    "## 下载模型"
   ]
  },
  {
   "cell_type": "code",
   "execution_count": null,
   "metadata": {},
   "outputs": [],
   "source": [
    "# 下载模型，并解压缩\n",
    "def download_model(model_name, model_date):\n",
    "    base_url = 'http://download.tensorflow.org/models/object_detection/tf2/'\n",
    "    model_file = model_name + '.tar.gz'\n",
    "    # 解压缩\n",
    "    model_dir = tf.keras.utils.get_file(fname=model_name,\n",
    "                            origin=base_url + model_date + '/' + model_file,\n",
    "                            untar=True)\n",
    "    return str(model_dir)\n",
    "\n",
    "MODEL_DATE = '20200711'\n",
    "MODEL_NAME = 'centernet_hg104_1024x1024_coco17_tpu-32'\n",
    "PATH_TO_MODEL_DIR = download_model(MODEL_NAME, MODEL_DATE)\n",
    "PATH_TO_MODEL_DIR"
   ]
  },
  {
   "cell_type": "markdown",
   "metadata": {},
   "source": [
    "## 检查模型目录"
   ]
  },
  {
   "cell_type": "code",
   "execution_count": null,
   "metadata": {},
   "outputs": [],
   "source": [
    "# 读取 PATH_TO_MODEL_DIR 目录下所有目录及档案\n",
    "from os import listdir\n",
    "from os.path import isfile, join\n",
    "from os import path\n",
    "\n",
    "for f in listdir(PATH_TO_MODEL_DIR):\n",
    "    print(f)"
   ]
  },
  {
   "cell_type": "markdown",
   "metadata": {},
   "source": [
    "## 从下载的目录载入模型"
   ]
  },
  {
   "cell_type": "code",
   "execution_count": null,
   "metadata": {},
   "outputs": [],
   "source": [
    "# 不显示警告讯息\n",
    "import warnings\n",
    "warnings.filterwarnings('ignore')   # Suppress warnings"
   ]
  },
  {
   "cell_type": "code",
   "execution_count": null,
   "metadata": {},
   "outputs": [],
   "source": [
    "# 从下载的目录载入模型，耗时甚久\n",
    "import time\n",
    "from object_detection.utils import label_map_util\n",
    "from object_detection.utils import visualization_utils as viz_utils\n",
    "\n",
    "PATH_TO_SAVED_MODEL = PATH_TO_MODEL_DIR + \"/saved_model\"\n",
    "\n",
    "print('载入模型...', end='')\n",
    "start_time = time.time()\n",
    "\n",
    "# 载入模型\n",
    "detect_fn = tf.saved_model.load(PATH_TO_SAVED_MODEL)\n",
    "\n",
    "end_time = time.time()\n",
    "elapsed_time = end_time - start_time\n",
    "print(f'共花费 {elapsed_time} 秒.')"
   ]
  },
  {
   "cell_type": "markdown",
   "metadata": {},
   "source": [
    "## 建立 Label 的对照表"
   ]
  },
  {
   "cell_type": "code",
   "execution_count": null,
   "metadata": {},
   "outputs": [],
   "source": [
    "# 下载 labels file\n",
    "def download_labels(filename):\n",
    "    base_url = 'https://raw.githubusercontent.com/tensorflow/models'\n",
    "    base_url += '/master/research/object_detection/data/'\n",
    "    label_dir = tf.keras.utils.get_file(fname=filename,\n",
    "                                        origin=base_url + filename,\n",
    "                                        untar=False)\n",
    "    label_dir = pathlib.Path(label_dir)\n",
    "    return str(label_dir)\n",
    "\n",
    "LABEL_FILENAME = 'mscoco_label_map.pbtxt'\n",
    "PATH_TO_LABELS = download_labels(LABEL_FILENAME)\n",
    "PATH_TO_LABELS"
   ]
  },
  {
   "cell_type": "code",
   "execution_count": null,
   "metadata": {},
   "outputs": [],
   "source": [
    "# 建立 Label 的对照表 (代码与名称)\n",
    "category_index = label_map_util.create_category_index_from_labelmap(\n",
    "    PATH_TO_LABELS, use_display_name=True)"
   ]
  },
  {
   "cell_type": "markdown",
   "metadata": {},
   "source": [
    "## 选一张图片进行物件侦测"
   ]
  },
  {
   "cell_type": "code",
   "execution_count": null,
   "metadata": {
    "scrolled": true
   },
   "outputs": [],
   "source": [
    "# 任选一张图片进行物件侦测\n",
    "import numpy as np\n",
    "from PIL import Image\n",
    "\n",
    "# 开启一张图片\n",
    "image_np = np.array(Image.open('./images_Object_Detection/zebra.jpg'))\n",
    "\n",
    "# 转为 TensorFlow tensor 资料型态\n",
    "input_tensor = tf.convert_to_tensor(image_np)\n",
    "# 加一维，变为 (笔数, 宽, 高, 颜色)\n",
    "input_tensor = input_tensor[tf.newaxis, ...]\n",
    "\n",
    "# detections：物件资讯 内含 (候选框, 类别, 机率)\n",
    "detections = detect_fn(input_tensor)\n",
    "num_detections = int(detections.pop('num_detections'))\n",
    "print(f'物件个数：{num_detections}')\n",
    "detections = {key: value[0, :num_detections].numpy()\n",
    "               for key, value in detections.items()}\n",
    "\n",
    "detections['num_detections'] = num_detections\n",
    "# 转为整数\n",
    "detections['detection_classes'] = detections['detection_classes'].astype(np.int64)\n",
    "\n",
    "print(f'物件资讯 (候选框, 类别, 机率)：')\n",
    "for detection_boxes, detection_classes, detection_scores in \\\n",
    "    zip(detections['detection_boxes'], detections['detection_classes'], \n",
    "        detections['detection_scores']):\n",
    "    print(np.around(detection_boxes,4), detection_classes, \n",
    "          round(detection_scores*100, 2))"
   ]
  },
  {
   "cell_type": "markdown",
   "metadata": {},
   "source": [
    "## 筛选Bounding Box，并将图片的物件加框"
   ]
  },
  {
   "cell_type": "code",
   "execution_count": null,
   "metadata": {},
   "outputs": [],
   "source": [
    "import matplotlib.pyplot as plt\n",
    "\n",
    "image_np_with_detections = image_np.copy()\n",
    "# 加框\n",
    "viz_utils.visualize_boxes_and_labels_on_image_array(\n",
    "      image_np_with_detections,\n",
    "      detections['detection_boxes'],\n",
    "      detections['detection_classes'],\n",
    "      detections['detection_scores'],\n",
    "      category_index,\n",
    "      use_normalized_coordinates=True,\n",
    "      max_boxes_to_draw=200,\n",
    "      min_score_thresh=.30,\n",
    "      agnostic_mode=False)\n",
    "\n",
    "# 显示，无效\n",
    "plt.figure(figsize=(12,8))\n",
    "plt.imshow(image_np_with_detections, cmap='viridis')\n",
    "plt.show()"
   ]
  },
  {
   "cell_type": "markdown",
   "metadata": {},
   "source": [
    "## 显示处理后的图片"
   ]
  },
  {
   "cell_type": "code",
   "execution_count": null,
   "metadata": {},
   "outputs": [],
   "source": [
    "# 存档\n",
    "saved_file = './images_Object_Detection/zebra._detection1.png'\n",
    "plt.savefig(saved_file)\n",
    "\n",
    "# 显示\n",
    "from IPython.display import Image\n",
    "Image(saved_file)"
   ]
  },
  {
   "cell_type": "markdown",
   "metadata": {},
   "source": [
    "## 从下载的目录载入模型另一种方法，非常快速"
   ]
  },
  {
   "cell_type": "code",
   "execution_count": 1,
   "metadata": {},
   "outputs": [
    {
     "ename": "ModuleNotFoundError",
     "evalue": "No module named 'object_detection'",
     "output_type": "error",
     "traceback": [
      "\u001b[1;31m---------------------------------------------------------------------------\u001b[0m",
      "\u001b[1;31mModuleNotFoundError\u001b[0m                       Traceback (most recent call last)",
      "\u001b[1;32m<ipython-input-1-4fe2ddb2911e>\u001b[0m in \u001b[0;36m<module>\u001b[1;34m\u001b[0m\n\u001b[0;32m      1\u001b[0m \u001b[1;31m# 快速从下载的目录载入模型\u001b[0m\u001b[1;33m\u001b[0m\u001b[1;33m\u001b[0m\u001b[1;33m\u001b[0m\u001b[0m\n\u001b[0;32m      2\u001b[0m \u001b[1;32mimport\u001b[0m \u001b[0mtime\u001b[0m\u001b[1;33m\u001b[0m\u001b[1;33m\u001b[0m\u001b[0m\n\u001b[1;32m----> 3\u001b[1;33m \u001b[1;32mfrom\u001b[0m \u001b[0mobject_detection\u001b[0m\u001b[1;33m.\u001b[0m\u001b[0mutils\u001b[0m \u001b[1;32mimport\u001b[0m \u001b[0mlabel_map_util\u001b[0m\u001b[1;33m,\u001b[0m \u001b[0mconfig_util\u001b[0m\u001b[1;33m\u001b[0m\u001b[1;33m\u001b[0m\u001b[0m\n\u001b[0m\u001b[0;32m      4\u001b[0m \u001b[1;32mfrom\u001b[0m \u001b[0mobject_detection\u001b[0m\u001b[1;33m.\u001b[0m\u001b[0mutils\u001b[0m \u001b[1;32mimport\u001b[0m \u001b[0mvisualization_utils\u001b[0m \u001b[1;32mas\u001b[0m \u001b[0mviz_utils\u001b[0m\u001b[1;33m\u001b[0m\u001b[1;33m\u001b[0m\u001b[0m\n\u001b[0;32m      5\u001b[0m \u001b[1;32mfrom\u001b[0m \u001b[0mobject_detection\u001b[0m\u001b[1;33m.\u001b[0m\u001b[0mbuilders\u001b[0m \u001b[1;32mimport\u001b[0m \u001b[0mmodel_builder\u001b[0m\u001b[1;33m\u001b[0m\u001b[1;33m\u001b[0m\u001b[0m\n",
      "\u001b[1;31mModuleNotFoundError\u001b[0m: No module named 'object_detection'"
     ]
    }
   ],
   "source": [
    "# 快速从下载的目录载入模型\n",
    "import time\n",
    "from object_detection.utils import label_map_util, config_util\n",
    "from object_detection.utils import visualization_utils as viz_utils\n",
    "from object_detection.builders import model_builder\n",
    "\n",
    "# 组态档及模型档路径\n",
    "PATH_TO_CFG = PATH_TO_MODEL_DIR + \"/pipeline.config\"\n",
    "PATH_TO_CKPT = PATH_TO_MODEL_DIR + \"/checkpoint\"\n",
    "\n",
    "# 计时开始\n",
    "print('Loading model... ', end='')\n",
    "start_time = time.time()\n",
    "\n",
    "# 载入组态档，再建置模型\n",
    "configs = config_util.get_configs_from_pipeline_file(PATH_TO_CFG)\n",
    "model_config = configs['model']\n",
    "detection_model = model_builder.build(model_config=model_config, \n",
    "                                      is_training=False)\n",
    "\n",
    "# 还原模型\n",
    "ckpt = tf.compat.v2.train.Checkpoint(model=detection_model)\n",
    "ckpt.restore(os.path.join(PATH_TO_CKPT, 'ckpt-0')).expect_partial()\n",
    "\n",
    "# 计时完成\n",
    "end_time = time.time()\n",
    "elapsed_time = end_time - start_time\n",
    "print(f'共花费 {elapsed_time} 秒.')"
   ]
  },
  {
   "cell_type": "code",
   "execution_count": null,
   "metadata": {},
   "outputs": [],
   "source": [
    "# 任选一张图片进行物件侦测\n",
    "import numpy as np \n",
    "from PIL import Image\n",
    "\n",
    "@tf.function\n",
    "def detect_fn(image):\n",
    "    image, shapes = detection_model.preprocess(image)\n",
    "    prediction_dict = detection_model.predict(image, shapes)\n",
    "    detections = detection_model.postprocess(prediction_dict, shapes)\n",
    "\n",
    "    return detections\n",
    "\n",
    "# 读取图档\n",
    "image_np = np.array(Image.open('./images_Object_Detection/zebra.jpg'))\n",
    "input_tensor = tf.convert_to_tensor(image_np, dtype=tf.float32)\n",
    "input_tensor = input_tensor[tf.newaxis, ...]\n",
    "detections = detect_fn(input_tensor)\n",
    "num_detections = int(detections.pop('num_detections'))\n",
    "\n",
    "print(f'物件个数：{num_detections}')\n",
    "detections = {key: value[0, :num_detections].numpy()\n",
    "               for key, value in detections.items()}\n",
    "print(f'物件资讯 (候选框, 类别, 机率)：')\n",
    "for detection_boxes, detection_classes, detection_scores in \\\n",
    "    zip(detections['detection_boxes'], detections['detection_classes'], \n",
    "        detections['detection_scores']):\n",
    "    print(np.around(detection_boxes,4), int(detection_classes)+1, \n",
    "          round(detection_scores*100, 2))\n",
    "\n",
    "# 结果存入 detections 变数\n",
    "detections['num_detections'] = num_detections\n",
    "detections['detection_classes'] = detections['detection_classes'].astype(np.int64)"
   ]
  },
  {
   "cell_type": "markdown",
   "metadata": {},
   "source": [
    "## 候选框筛选，并将图片的物件加框"
   ]
  },
  {
   "cell_type": "code",
   "execution_count": null,
   "metadata": {},
   "outputs": [],
   "source": [
    "# 将物件框起来\n",
    "# min_score_thresh=.30 表机率(Confidence)至少要大于 30%\n",
    "image_np_with_detections = image_np.copy()\n",
    "\n",
    "viz_utils.visualize_boxes_and_labels_on_image_array(\n",
    "      image_np_with_detections,\n",
    "      detections['detection_boxes'],\n",
    "      detections['detection_classes']+1,\n",
    "      detections['detection_scores'],\n",
    "      category_index,\n",
    "      use_normalized_coordinates=True,\n",
    "      max_boxes_to_draw=200,\n",
    "      min_score_thresh=.30,\n",
    "      agnostic_mode=False)\n",
    "\n",
    "plt.figure(figsize=(12,8))\n",
    "plt.imshow(image_np_with_detections, cmap='viridis')\n",
    "plt.show()"
   ]
  },
  {
   "cell_type": "markdown",
   "metadata": {},
   "source": [
    "## 显示处理后的图片"
   ]
  },
  {
   "cell_type": "code",
   "execution_count": null,
   "metadata": {},
   "outputs": [],
   "source": [
    "# 存档\n",
    "saved_file = './images_Object_Detection/zebra._detection2.png'\n",
    "plt.savefig(saved_file)\n",
    "\n",
    "# 显示\n",
    "from IPython.display import Image\n",
    "Image(saved_file)"
   ]
  },
  {
   "cell_type": "code",
   "execution_count": null,
   "metadata": {},
   "outputs": [],
   "source": []
  }
 ],
 "metadata": {
  "kernelspec": {
   "display_name": "Python 3",
   "language": "python",
   "name": "python3"
  },
  "language_info": {
   "codemirror_mode": {
    "name": "ipython",
    "version": 3
   },
   "file_extension": ".py",
   "mimetype": "text/x-python",
   "name": "python",
   "nbconvert_exporter": "python",
   "pygments_lexer": "ipython3",
   "version": "3.8.5"
  }
 },
 "nbformat": 4,
 "nbformat_minor": 1
}
