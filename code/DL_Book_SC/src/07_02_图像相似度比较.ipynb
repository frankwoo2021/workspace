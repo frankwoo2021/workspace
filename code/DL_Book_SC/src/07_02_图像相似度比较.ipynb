{
 "cells": [
  {
   "cell_type": "markdown",
   "metadata": {},
   "source": [
    "# 图像相似度比较"
   ]
  },
  {
   "cell_type": "markdown",
   "metadata": {},
   "source": [
    "## 载入套件"
   ]
  },
  {
   "cell_type": "code",
   "execution_count": 1,
   "metadata": {},
   "outputs": [],
   "source": [
    "from tensorflow.keras.applications.vgg16 import VGG16\n",
    "from tensorflow.keras.preprocessing import image\n",
    "from tensorflow.keras.applications.vgg16 import preprocess_input\n",
    "import numpy as np"
   ]
  },
  {
   "cell_type": "markdown",
   "metadata": {},
   "source": [
    "## 载入VGG 16 模型"
   ]
  },
  {
   "cell_type": "code",
   "execution_count": 2,
   "metadata": {},
   "outputs": [
    {
     "name": "stdout",
     "output_type": "stream",
     "text": [
      "Downloading data from https://storage.googleapis.com/tensorflow/keras-applications/vgg16/vgg16_weights_tf_dim_ordering_tf_kernels_notop.h5\n",
      "58892288/58889256 [==============================] - 30s 1us/step\n",
      "Model: \"vgg16\"\n",
      "_________________________________________________________________\n",
      "Layer (type)                 Output Shape              Param #   \n",
      "=================================================================\n",
      "input_1 (InputLayer)         [(None, None, None, 3)]   0         \n",
      "_________________________________________________________________\n",
      "block1_conv1 (Conv2D)        (None, None, None, 64)    1792      \n",
      "_________________________________________________________________\n",
      "block1_conv2 (Conv2D)        (None, None, None, 64)    36928     \n",
      "_________________________________________________________________\n",
      "block1_pool (MaxPooling2D)   (None, None, None, 64)    0         \n",
      "_________________________________________________________________\n",
      "block2_conv1 (Conv2D)        (None, None, None, 128)   73856     \n",
      "_________________________________________________________________\n",
      "block2_conv2 (Conv2D)        (None, None, None, 128)   147584    \n",
      "_________________________________________________________________\n",
      "block2_pool (MaxPooling2D)   (None, None, None, 128)   0         \n",
      "_________________________________________________________________\n",
      "block3_conv1 (Conv2D)        (None, None, None, 256)   295168    \n",
      "_________________________________________________________________\n",
      "block3_conv2 (Conv2D)        (None, None, None, 256)   590080    \n",
      "_________________________________________________________________\n",
      "block3_conv3 (Conv2D)        (None, None, None, 256)   590080    \n",
      "_________________________________________________________________\n",
      "block3_pool (MaxPooling2D)   (None, None, None, 256)   0         \n",
      "_________________________________________________________________\n",
      "block4_conv1 (Conv2D)        (None, None, None, 512)   1180160   \n",
      "_________________________________________________________________\n",
      "block4_conv2 (Conv2D)        (None, None, None, 512)   2359808   \n",
      "_________________________________________________________________\n",
      "block4_conv3 (Conv2D)        (None, None, None, 512)   2359808   \n",
      "_________________________________________________________________\n",
      "block4_pool (MaxPooling2D)   (None, None, None, 512)   0         \n",
      "_________________________________________________________________\n",
      "block5_conv1 (Conv2D)        (None, None, None, 512)   2359808   \n",
      "_________________________________________________________________\n",
      "block5_conv2 (Conv2D)        (None, None, None, 512)   2359808   \n",
      "_________________________________________________________________\n",
      "block5_conv3 (Conv2D)        (None, None, None, 512)   2359808   \n",
      "_________________________________________________________________\n",
      "block5_pool (MaxPooling2D)   (None, None, None, 512)   0         \n",
      "=================================================================\n",
      "Total params: 14,714,688\n",
      "Trainable params: 14,714,688\n",
      "Non-trainable params: 0\n",
      "_________________________________________________________________\n"
     ]
    }
   ],
   "source": [
    "# 载入VGG 16 模型, 不含最上面的三层(辨识层)\n",
    "model = VGG16(weights='imagenet', include_top=False)\n",
    "model.summary()"
   ]
  },
  {
   "cell_type": "code",
   "execution_count": 3,
   "metadata": {},
   "outputs": [
    {
     "name": "stdout",
     "output_type": "stream",
     "text": [
      "[[[ 0.         0.         0.        ...  0.         0.         0.       ]\n",
      "  [ 0.         0.        42.547764  ...  0.         0.         0.       ]\n",
      "  [ 1.075339   0.        23.495638  ...  0.         0.         0.       ]\n",
      "  ...\n",
      "  [ 0.         0.         0.        ...  0.         0.         0.       ]\n",
      "  [ 0.         0.         0.        ...  0.         0.         0.       ]\n",
      "  [ 0.         0.         0.        ...  0.         0.         0.       ]]\n",
      "\n",
      " [[ 0.         0.        36.338856  ...  0.         0.         3.4028761]\n",
      "  [ 0.         0.        80.23629   ...  7.871895   0.         0.       ]\n",
      "  [ 0.         0.        48.75136   ...  0.         0.         0.       ]\n",
      "  ...\n",
      "  [ 0.         0.         0.        ...  4.581372   0.         0.       ]\n",
      "  [ 0.         0.         0.        ...  0.         0.         0.       ]\n",
      "  [ 0.         0.         0.        ...  0.         0.         0.       ]]\n",
      "\n",
      " [[ 0.         0.         9.853486  ...  0.         0.         2.4919674]\n",
      "  [ 0.         0.        25.24968   ... 42.276917   0.        15.79838  ]\n",
      "  [ 0.         0.         0.        ... 26.454216   2.2518566  0.       ]\n",
      "  ...\n",
      "  [ 0.         0.         0.        ...  4.5165353  0.         0.       ]\n",
      "  [ 0.         0.         0.        ...  0.         0.         0.       ]\n",
      "  [ 0.         0.         0.        ...  0.         0.         0.       ]]\n",
      "\n",
      " ...\n",
      "\n",
      " [[ 0.         0.         0.        ...  0.         0.         0.       ]\n",
      "  [ 0.         0.         0.        ...  0.         0.         0.       ]\n",
      "  [ 0.         0.        12.312052  ...  0.         0.         0.       ]\n",
      "  ...\n",
      "  [ 0.         0.        22.432764  ...  0.         0.         0.       ]\n",
      "  [ 0.         0.         0.        ...  0.         0.         0.       ]\n",
      "  [ 0.         0.         0.        ...  0.         0.         0.       ]]\n",
      "\n",
      " [[ 0.         0.         0.        ...  0.         0.         0.       ]\n",
      "  [ 0.         0.         0.        ...  0.         0.         0.       ]\n",
      "  [ 0.         0.         0.        ...  0.         0.         0.       ]\n",
      "  ...\n",
      "  [ 0.         0.        10.488863  ...  0.         0.         0.       ]\n",
      "  [ 0.         0.         0.        ...  0.         0.         0.       ]\n",
      "  [ 0.         0.         0.        ...  0.         0.         0.       ]]\n",
      "\n",
      " [[ 0.         0.         0.        ...  0.         0.         0.       ]\n",
      "  [ 0.         0.         0.        ...  0.         0.         0.       ]\n",
      "  [ 0.         0.         0.5006477 ...  0.         0.         0.       ]\n",
      "  ...\n",
      "  [ 0.         0.         0.        ...  0.         0.         0.       ]\n",
      "  [ 0.         0.         0.        ...  0.         0.         0.       ]\n",
      "  [ 0.         0.         0.        ...  0.         0.         0.       ]]]\n"
     ]
    }
   ],
   "source": [
    "# 任选一张图片，例如大象侧面照，取得图档的特征向量\n",
    "img_path = './images_test/elephant.jpg'\n",
    "\n",
    "# 载入图档，并缩放宽高为 (224, 224) \n",
    "img = image.load_img(img_path, target_size=(224, 224))\n",
    "\n",
    "# 加一维，变成 (1, 224, 224)\n",
    "x = image.img_to_array(img)\n",
    "x = np.expand_dims(x, axis=0)\n",
    "x = preprocess_input(x)\n",
    "\n",
    "# 取得图档的特征向量\n",
    "features = model.predict(x)\n",
    "print(features[0])"
   ]
  },
  {
   "cell_type": "code",
   "execution_count": 4,
   "metadata": {},
   "outputs": [
    {
     "name": "stdout",
     "output_type": "stream",
     "text": [
      "(1, 7, 7, 512)\n"
     ]
    }
   ],
   "source": [
    "print(features.shape)"
   ]
  },
  {
   "cell_type": "markdown",
   "metadata": {},
   "source": [
    "# 使用 cosine_similarity 比较特征向量"
   ]
  },
  {
   "cell_type": "markdown",
   "metadata": {},
   "source": [
    "### 步骤 1. 取得 images_test 目录下所有 .jpg 档案名称"
   ]
  },
  {
   "cell_type": "code",
   "execution_count": 5,
   "metadata": {},
   "outputs": [
    {
     "data": {
      "text/plain": [
       "array(['bird.jpg', 'bird2.jpg', 'daisy1.jpg', 'daisy2.jpg', 'deer.jpg',\n",
       "       'elephant.jpg', 'elephant2.jpg', 'lion1.jpg', 'lion2.jpg',\n",
       "       'panda1.jpg', 'panda2.jpg', 'panda3.jpg', 'rose2.jpg',\n",
       "       'tiger1.jpg', 'tiger2.jpg', 'tiger3.jpg'], dtype='<U13')"
      ]
     },
     "execution_count": 5,
     "metadata": {},
     "output_type": "execute_result"
    }
   ],
   "source": [
    "from os import listdir\n",
    "from os.path import isfile, join\n",
    "\n",
    "# 取得 images_test 目录下所有 .jpg 档案名称\n",
    "img_path = './images_test/'\n",
    "image_files = np.array([f for f in listdir(img_path) \n",
    "        if isfile(join(img_path, f)) and f[-3:] == 'jpg'])\n",
    "image_files"
   ]
  },
  {
   "cell_type": "markdown",
   "metadata": {},
   "source": [
    "### 步骤 2. 取得 images_test 目录下所有 .jpg 档案的像素"
   ]
  },
  {
   "cell_type": "code",
   "execution_count": 6,
   "metadata": {},
   "outputs": [],
   "source": [
    "import numpy as np\n",
    "\n",
    "# 合并所有图档的像素\n",
    "X = np.array([])\n",
    "for f in image_files:\n",
    "    image_file = join(img_path, f)\n",
    "    # 载入图档，并缩放宽高为 (224, 224) \n",
    "    img = image.load_img(image_file, target_size=(224, 224))\n",
    "    img2 = image.img_to_array(img)\n",
    "    img2 = np.expand_dims(img2, axis=0)\n",
    "    if len(X.shape) == 1:\n",
    "        X = img2\n",
    "    else:\n",
    "        X = np.concatenate((X, img2), axis=0)\n",
    "\n",
    "X = preprocess_input(X)"
   ]
  },
  {
   "cell_type": "markdown",
   "metadata": {},
   "source": [
    "### 步骤 3. 取得所有图档的特征向量"
   ]
  },
  {
   "cell_type": "code",
   "execution_count": 7,
   "metadata": {
    "scrolled": true
   },
   "outputs": [
    {
     "data": {
      "text/plain": [
       "((16, 7, 7, 512), (16, 224, 224, 3))"
      ]
     },
     "execution_count": 7,
     "metadata": {},
     "output_type": "execute_result"
    }
   ],
   "source": [
    "# 取得所有图档的特征向量\n",
    "features = model.predict(X)\n",
    "\n",
    "features.shape, X.shape"
   ]
  },
  {
   "cell_type": "markdown",
   "metadata": {},
   "source": [
    "### 步骤 4. 使用 cosine_similarity 函数比较特征向量"
   ]
  },
  {
   "cell_type": "code",
   "execution_count": 8,
   "metadata": {},
   "outputs": [
    {
     "name": "stdout",
     "output_type": "stream",
     "text": [
      "tiger2.jpg\n",
      "[0.350051   0.26541096 0.19276574 0.19042632 0.16894677 0.14176077\n",
      " 0.10579197 0.10556371 0.09763556 0.0929383  0.08532473 0.08095936\n",
      " 0.07598996 0.06710661 0.03114463]\n"
     ]
    },
    {
     "data": {
      "text/plain": [
       "array(['tiger1.jpg', 'tiger3.jpg', 'lion1.jpg', 'elephant.jpg',\n",
       "       'elephant2.jpg', 'lion2.jpg', 'panda2.jpg', 'panda3.jpg',\n",
       "       'bird.jpg', 'panda1.jpg', 'bird2.jpg', 'deer.jpg', 'rose2.jpg',\n",
       "       'daisy2.jpg', 'daisy1.jpg'], dtype='<U13')"
      ]
     },
     "execution_count": 8,
     "metadata": {},
     "output_type": "execute_result"
    }
   ],
   "source": [
    "# 使用 cosine_similarity 比较特征向量\n",
    "from sklearn.metrics.pairwise import cosine_similarity\n",
    "\n",
    "\n",
    "# 比较 Tiger2.jpg 与其他图档特征向量\n",
    "no=-2\n",
    "print(image_files[no])\n",
    "\n",
    "# 转为二维向量，类似扁平层(Flatten)\n",
    "features2 = features.reshape((features.shape[0], -1))\n",
    "\n",
    "# 排除 Tiger2.jpg 的其他图档特征向量\n",
    "other_features = np.concatenate((features2[:no], features2[no+1:]))\n",
    "\n",
    "# 使用 cosine_similarity 计算 Cosine 函数\n",
    "similar_list = cosine_similarity(features2[no:no+1], other_features, \n",
    "                                 dense_output=False)\n",
    "\n",
    "# 显示相似度，由大排到小\n",
    "print(np.sort(similar_list[0])[::-1])\n",
    "\n",
    "# 依相似度，由大排到小，显示档名\n",
    "image_files2 = np.delete(image_files, no)\n",
    "image_files2[np.argsort(similar_list[0])[::-1]]"
   ]
  },
  {
   "cell_type": "markdown",
   "metadata": {},
   "source": [
    "### 其他图档比较"
   ]
  },
  {
   "cell_type": "code",
   "execution_count": 9,
   "metadata": {},
   "outputs": [
    {
     "name": "stdout",
     "output_type": "stream",
     "text": [
      "bird.jpg\n",
      "[0.18169087 0.12461188 0.12236218 0.11822931 0.10887703 0.1053412\n",
      " 0.09763555 0.09459615 0.07993933 0.06803741 0.06442314 0.06261782\n",
      " 0.05864661 0.0449845  0.01628361]\n"
     ]
    },
    {
     "data": {
      "text/plain": [
       "array(['bird2.jpg', 'deer.jpg', 'panda3.jpg', 'lion2.jpg', 'panda1.jpg',\n",
       "       'rose2.jpg', 'tiger2.jpg', 'tiger1.jpg', 'elephant2.jpg',\n",
       "       'panda2.jpg', 'elephant.jpg', 'lion1.jpg', 'tiger3.jpg',\n",
       "       'daisy2.jpg', 'daisy1.jpg'], dtype='<U13')"
      ]
     },
     "execution_count": 9,
     "metadata": {},
     "output_type": "execute_result"
    }
   ],
   "source": [
    "# 比较对象：bird.jpg\n",
    "no=0\n",
    "print(image_files[no])\n",
    "\n",
    "\n",
    "# 使用 cosine_similarity 计算 Cosine 函数\n",
    "other_features = np.concatenate((features2[:no], features2[no+1:]))\n",
    "similar_list = cosine_similarity(features2[no:no+1], other_features, \n",
    "                                 dense_output=False)\n",
    "\n",
    "# 显示相似度，由大排到小\n",
    "print(np.sort(similar_list[0])[::-1])\n",
    "\n",
    "# 依相似度，由大排到小，显示档名\n",
    "image_files2 = np.delete(image_files, no)\n",
    "image_files2[np.argsort(similar_list[0])[::-1]]"
   ]
  },
  {
   "cell_type": "code",
   "execution_count": null,
   "metadata": {},
   "outputs": [],
   "source": []
  }
 ],
 "metadata": {
  "kernelspec": {
   "display_name": "Python 3",
   "language": "python",
   "name": "python3"
  },
  "language_info": {
   "codemirror_mode": {
    "name": "ipython",
    "version": 3
   },
   "file_extension": ".py",
   "mimetype": "text/x-python",
   "name": "python",
   "nbconvert_exporter": "python",
   "pygments_lexer": "ipython3",
   "version": "3.8.5"
  }
 },
 "nbformat": 4,
 "nbformat_minor": 4
}
