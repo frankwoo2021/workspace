{
 "cells": [
  {
   "cell_type": "markdown",
   "metadata": {},
   "source": [
    "# 范例3. 使用CNN进行物件侦测\n",
    "### 修改自 [Turning any CNN image classifier into an object detector with Keras, TensorFlow, and OpenCV - PyImageSearch](https://www.pyimagesearch.com/2020/06/22/turning-any-cnn-image-classifier-into-an-object-detector-with-keras-tensorflow-and-opencv/)"
   ]
  },
  {
   "cell_type": "code",
   "execution_count": 1,
   "metadata": {},
   "outputs": [],
   "source": [
    "# 载入套件，需额外安装 imutils 套件\n",
    "from tensorflow.keras.applications import ResNet50\n",
    "from tensorflow.keras.applications.resnet import preprocess_input\n",
    "from tensorflow.keras.preprocessing.image import img_to_array\n",
    "from tensorflow.keras.applications import imagenet_utils\n",
    "from imutils.object_detection import non_max_suppression\n",
    "import numpy as np\n",
    "import imutils\n",
    "import time\n",
    "import cv2"
   ]
  },
  {
   "cell_type": "code",
   "execution_count": 2,
   "metadata": {},
   "outputs": [],
   "source": [
    "# 参数设定\n",
    "image_path = './images_Object_Detection/bike.jpg'  # 要辨识的图档\n",
    "WIDTH = 600              # 图像缩放为 (600, 600)\n",
    "PYR_SCALE = 1.5          # 影像金字塔缩放比例\n",
    "WIN_STEP = 16            # 视窗滑动步数\n",
    "ROI_SIZE = (250, 250)    # 视窗大小\n",
    "INPUT_SIZE = (224, 224)  # CNN的输入尺寸"
   ]
  },
  {
   "cell_type": "code",
   "execution_count": 3,
   "metadata": {},
   "outputs": [],
   "source": [
    "# 载入 ResNet50 模型\n",
    "model = ResNet50(weights=\"imagenet\", include_top=True)"
   ]
  },
  {
   "cell_type": "code",
   "execution_count": 4,
   "metadata": {},
   "outputs": [],
   "source": [
    "# 读取要辨识的图片\n",
    "orig = cv2.imread(image_path)\n",
    "orig = imutils.resize(orig, width=WIDTH)\n",
    "(H, W) = orig.shape[:2]"
   ]
  },
  {
   "cell_type": "code",
   "execution_count": 5,
   "metadata": {},
   "outputs": [],
   "source": [
    "# 定义滑动视窗与影像金字塔函数\n",
    "\n",
    "# 滑动视窗        \n",
    "def sliding_window(image, step, ws):\n",
    "    for y in range(0, image.shape[0] - ws[1], step):     # 向下滑动 stepSize 格\n",
    "        for x in range(0, image.shape[1] - ws[0], step): # 向右滑动 stepSize 格\n",
    "            # 传回裁剪后的视窗\n",
    "            yield (x, y, image[y:y + ws[1], x:x + ws[0]])\n",
    "\n",
    "# 影像金字塔操作\n",
    "# image：原图，scale：每次缩小倍数，minSize：最小尺寸\n",
    "def image_pyramid(image, scale=1.5, minSize=(224, 224)):\n",
    "    # 第一次传回原图\n",
    "    yield image\n",
    "\n",
    "    # keep looping over the image pyramid\n",
    "    while True:\n",
    "        # 计算缩小后的尺寸\n",
    "        w = int(image.shape[1] / scale)\n",
    "        image = imutils.resize(image, width=w)\n",
    "\n",
    "        # 直到最小尺寸为止\n",
    "        if image.shape[0] < minSize[1] or image.shape[1] < minSize[0]:\n",
    "            break\n",
    "\n",
    "        # 传回缩小后的图像\n",
    "        yield image"
   ]
  },
  {
   "cell_type": "code",
   "execution_count": 6,
   "metadata": {},
   "outputs": [],
   "source": [
    "# 输出候选框\n",
    "rois = []    # 候选框\n",
    "locs = []    # 位置\n",
    "SHOW_BOX = False  # 是否显示要找的框\n",
    "\n",
    "# 产生影像金字塔\n",
    "pyramid = image_pyramid(orig, scale=PYR_SCALE, minSize=ROI_SIZE)\n",
    "# 逐一视窗辨识\n",
    "for image in pyramid:\n",
    "    # 框与原图的比例\n",
    "    scale = W / float(image.shape[1])\n",
    "\n",
    "    # 滑动视窗\n",
    "    for (x, y, roiOrig) in sliding_window(image, WIN_STEP, ROI_SIZE):\n",
    "        # 取得候选框\n",
    "        x = int(x * scale)\n",
    "        y = int(y * scale)\n",
    "        w = int(ROI_SIZE[0] * scale)\n",
    "        h = int(ROI_SIZE[1] * scale)\n",
    "\n",
    "        # 缩放图形以符合模型输入规格 \n",
    "        roi = cv2.resize(roiOrig, INPUT_SIZE)\n",
    "        roi = img_to_array(roi)\n",
    "        roi = preprocess_input(roi)\n",
    "\n",
    "        # 加入输出变数中\n",
    "        rois.append(roi)\n",
    "        locs.append((x, y, x + w, y + h))\n",
    "\n",
    "        # 是否显示要找的框\n",
    "        if SHOW_BOX:\n",
    "            clone = orig.copy()\n",
    "            cv2.rectangle(clone, (x, y), (x + w, y + h),\n",
    "                (0, 255, 0), 2)\n",
    "\n",
    "            # 显示正在找的框\n",
    "            cv2.imshow(\"Visualization\", clone)\n",
    "            cv2.imshow(\"ROI\", roiOrig)\n",
    "            cv2.waitKey(0)\n",
    "            \n",
    "cv2.destroyAllWindows()"
   ]
  },
  {
   "cell_type": "code",
   "execution_count": 7,
   "metadata": {
    "scrolled": true
   },
   "outputs": [],
   "source": [
    "# 预测\n",
    "MIN_CONFIDENCE = 0.9  # 辨识机率门槛值\n",
    "\n",
    "rois = np.array(rois, dtype=\"float32\")\n",
    "preds = model.predict(rois)\n",
    "preds = imagenet_utils.decode_predictions(preds, top=1)\n",
    "labels = {}\n",
    "\n",
    "# 检查预测结果，辨识机率须大于设定值\n",
    "for (i, p) in enumerate(preds):\n",
    "    # grab the prediction information for the current ROI\n",
    "    (imagenetID, label, prob) = p[0]\n",
    "\n",
    "    # 机率大于设定值，则放入候选名单\n",
    "    if prob >= MIN_CONFIDENCE:\n",
    "        # 放入候选名单\n",
    "        box = locs[i]\n",
    "        L = labels.get(label, [])\n",
    "        L.append((box, prob))\n",
    "        labels[label] = L\n",
    "\n",
    "# 扫描每一个类别\n",
    "for label in labels.keys():\n",
    "    # 复制原图\n",
    "    clone = orig.copy()\n",
    "\n",
    "    # 画框\n",
    "    for (box, prob) in labels[label]:\n",
    "        (startX, startY, endX, endY) = box\n",
    "        cv2.rectangle(clone, (startX, startY), (endX, endY),\n",
    "            (0, 255, 0), 2)\n",
    "\n",
    "    # 显示 NMS(non-maxima suppression) 前的框\n",
    "    cv2.imshow(\"Before NMS\", clone)\n",
    "    clone = orig.copy()\n",
    "\n",
    "    # NMS\n",
    "    boxes = np.array([p[0] for p in labels[label]])\n",
    "    proba = np.array([p[1] for p in labels[label]])\n",
    "    boxes = non_max_suppression(boxes, proba)\n",
    "\n",
    "    for (startX, startY, endX, endY) in boxes:\n",
    "        # 画框及类别\n",
    "        cv2.rectangle(clone, (startX, startY), (endX, endY), (0, 255, 0), 2)\n",
    "        y = startY - 10 if startY - 10 > 10 else startY + 10\n",
    "        cv2.putText(clone, label, (startX, y),\n",
    "            cv2.FONT_HERSHEY_SIMPLEX, 0.45, (0, 255, 0), 2)\n",
    "\n",
    "    # 显示\n",
    "    cv2.imshow(\"After NMS\", clone)\n",
    "    cv2.waitKey(0)\n",
    "            \n",
    "cv2.destroyAllWindows()    # 关闭所有视窗"
   ]
  },
  {
   "cell_type": "code",
   "execution_count": null,
   "metadata": {},
   "outputs": [],
   "source": []
  }
 ],
 "metadata": {
  "kernelspec": {
   "display_name": "Python 3",
   "language": "python",
   "name": "python3"
  },
  "language_info": {
   "codemirror_mode": {
    "name": "ipython",
    "version": 3
   },
   "file_extension": ".py",
   "mimetype": "text/x-python",
   "name": "python",
   "nbconvert_exporter": "python",
   "pygments_lexer": "ipython3",
   "version": "3.8.5"
  }
 },
 "nbformat": 4,
 "nbformat_minor": 2
}
