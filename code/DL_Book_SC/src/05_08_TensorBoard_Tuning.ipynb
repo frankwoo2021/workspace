{
 "cells": [
  {
   "cell_type": "markdown",
   "metadata": {},
   "source": [
    "# TensorBoard 效能调校"
   ]
  },
  {
   "cell_type": "code",
   "execution_count": 1,
   "metadata": {},
   "outputs": [],
   "source": [
    "import tensorflow as tf\n",
    "mnist = tf.keras.datasets.mnist\n",
    "\n",
    "\n",
    "# 汇入 MNIST 手写阿拉伯数字 训练资料\n",
    "(x_train, y_train),(x_test, y_test) = mnist.load_data()\n",
    "\n",
    "\n",
    "# 训练/测试资料的 X/y 维度\n",
    "x_train.shape, y_train.shape,x_test.shape, y_test.shape\n",
    "\n",
    "# 特征缩放，使用常态化(Normalization)，公式 = (x - min) / (max - min)\n",
    "x_train_norm, x_test_norm = x_train / 255.0, x_test / 255.0\n"
   ]
  },
  {
   "cell_type": "code",
   "execution_count": 2,
   "metadata": {},
   "outputs": [],
   "source": [
    "# 建立、训练、评估模型\n",
    "def train_test_model(hparams):\n",
    "    # 建立模型\n",
    "    model = tf.keras.models.Sequential([\n",
    "      tf.keras.layers.Flatten(input_shape=(28, 28)),\n",
    "      tf.keras.layers.Dense(128, activation='relu'),\n",
    "      tf.keras.layers.Dropout(0.2),\n",
    "      tf.keras.layers.Dense(10, activation='softmax')\n",
    "    ])\n",
    "    # 设定优化器(optimizer)、损失函数(loss)、效能衡量指标(metrics)的类别\n",
    "    model.compile(optimizer='adam',\n",
    "                  loss='sparse_categorical_crossentropy',\n",
    "                  metrics=['accuracy'])\n",
    "    # 训练\n",
    "    model.fit(x_train_norm, y_train, epochs=5, validation_split=0.2)\n",
    "    # 评估，打分数\n",
    "    _, accuracy = model.evaluate(x_test_norm, y_test, verbose=0)\n",
    "    return accuracy"
   ]
  },
  {
   "cell_type": "code",
   "execution_count": 3,
   "metadata": {},
   "outputs": [],
   "source": [
    "# 定义训练函数，包括依参数训练并写入 log\n",
    "def run(run_dir, hparams):\n",
    "    with tf.summary.create_file_writer(run_dir).as_default():\n",
    "        hp.hparams(hparams)    # record the values used in this trial\n",
    "        accuracy = train_test_model(hparams)\n",
    "        tf.summary.scalar('accuracy', accuracy, step=1)"
   ]
  },
  {
   "cell_type": "code",
   "execution_count": 4,
   "metadata": {},
   "outputs": [],
   "source": [
    "# 参数组合\n",
    "from tensorboard.plugins.hparams import api as hp\n",
    "\n",
    "HP_NUM_UNITS = hp.HParam('num_units', hp.Discrete([16, 32]))\n",
    "HP_DROPOUT = hp.HParam('dropout', hp.RealInterval(0.1, 0.2))\n",
    "HP_OPTIMIZER = hp.HParam('optimizer', hp.Discrete(['adam', 'sgd']))"
   ]
  },
  {
   "cell_type": "code",
   "execution_count": 5,
   "metadata": {},
   "outputs": [
    {
     "name": "stdout",
     "output_type": "stream",
     "text": [
      "--- Starting trial: run-0\n",
      "{'num_units': 16, 'dropout': 0.1, 'optimizer': 'adam'}\n",
      "Epoch 1/5\n",
      "1500/1500 [==============================] - 3s 2ms/step - loss: 0.5311 - accuracy: 0.8415 - val_loss: 0.1603 - val_accuracy: 0.9563\n",
      "Epoch 2/5\n",
      "1500/1500 [==============================] - 2s 1ms/step - loss: 0.1749 - accuracy: 0.9491 - val_loss: 0.1163 - val_accuracy: 0.9660\n",
      "Epoch 3/5\n",
      "1500/1500 [==============================] - 2s 1ms/step - loss: 0.1242 - accuracy: 0.9641 - val_loss: 0.1107 - val_accuracy: 0.9666\n",
      "Epoch 4/5\n",
      "1500/1500 [==============================] - 2s 1ms/step - loss: 0.0983 - accuracy: 0.9698 - val_loss: 0.0895 - val_accuracy: 0.9737\n",
      "Epoch 5/5\n",
      "1500/1500 [==============================] - 2s 1ms/step - loss: 0.0765 - accuracy: 0.9772 - val_loss: 0.0971 - val_accuracy: 0.9708\n",
      "--- Starting trial: run-1\n",
      "{'num_units': 16, 'dropout': 0.1, 'optimizer': 'sgd'}\n",
      "Epoch 1/5\n",
      "1500/1500 [==============================] - 3s 2ms/step - loss: 0.5310 - accuracy: 0.8462 - val_loss: 0.1550 - val_accuracy: 0.9554\n",
      "Epoch 2/5\n",
      "1500/1500 [==============================] - 2s 1ms/step - loss: 0.1682 - accuracy: 0.9512 - val_loss: 0.1176 - val_accuracy: 0.9650\n",
      "Epoch 3/5\n",
      "1500/1500 [==============================] - 2s 1ms/step - loss: 0.1204 - accuracy: 0.9639 - val_loss: 0.1017 - val_accuracy: 0.9700\n",
      "Epoch 4/5\n",
      "1500/1500 [==============================] - 2s 1ms/step - loss: 0.0898 - accuracy: 0.9736 - val_loss: 0.0920 - val_accuracy: 0.9714\n",
      "Epoch 5/5\n",
      "1500/1500 [==============================] - 2s 1ms/step - loss: 0.0802 - accuracy: 0.9742 - val_loss: 0.0863 - val_accuracy: 0.9735\n",
      "--- Starting trial: run-2\n",
      "{'num_units': 16, 'dropout': 0.2, 'optimizer': 'adam'}\n",
      "Epoch 1/5\n",
      "1500/1500 [==============================] - 2s 1ms/step - loss: 0.5354 - accuracy: 0.8444 - val_loss: 0.1550 - val_accuracy: 0.9555\n",
      "Epoch 2/5\n",
      "1500/1500 [==============================] - 2s 1ms/step - loss: 0.1689 - accuracy: 0.9502 - val_loss: 0.1107 - val_accuracy: 0.9678\n",
      "Epoch 3/5\n",
      "1500/1500 [==============================] - 2s 1ms/step - loss: 0.1172 - accuracy: 0.9649 - val_loss: 0.0939 - val_accuracy: 0.9710\n",
      "Epoch 4/5\n",
      "1500/1500 [==============================] - 2s 1ms/step - loss: 0.0927 - accuracy: 0.9726 - val_loss: 0.0890 - val_accuracy: 0.9716\n",
      "Epoch 5/5\n",
      "1500/1500 [==============================] - 2s 1ms/step - loss: 0.0788 - accuracy: 0.9759 - val_loss: 0.0868 - val_accuracy: 0.9736\n",
      "--- Starting trial: run-3\n",
      "{'num_units': 16, 'dropout': 0.2, 'optimizer': 'sgd'}\n",
      "Epoch 1/5\n",
      "1500/1500 [==============================] - 3s 2ms/step - loss: 0.5400 - accuracy: 0.8424 - val_loss: 0.1575 - val_accuracy: 0.9551\n",
      "Epoch 2/5\n",
      "1500/1500 [==============================] - 2s 1ms/step - loss: 0.1691 - accuracy: 0.9505 - val_loss: 0.1187 - val_accuracy: 0.9653\n",
      "Epoch 3/5\n",
      "1500/1500 [==============================] - 2s 2ms/step - loss: 0.1199 - accuracy: 0.9631 - val_loss: 0.0987 - val_accuracy: 0.9704\n",
      "Epoch 4/5\n",
      "1500/1500 [==============================] - 2s 1ms/step - loss: 0.0959 - accuracy: 0.9714 - val_loss: 0.0949 - val_accuracy: 0.9710\n",
      "Epoch 5/5\n",
      "1500/1500 [==============================] - 2s 1ms/step - loss: 0.0799 - accuracy: 0.9746 - val_loss: 0.0942 - val_accuracy: 0.9712\n",
      "--- Starting trial: run-4\n",
      "{'num_units': 32, 'dropout': 0.1, 'optimizer': 'adam'}\n",
      "Epoch 1/5\n",
      "1500/1500 [==============================] - 3s 2ms/step - loss: 0.5377 - accuracy: 0.8432 - val_loss: 0.1605 - val_accuracy: 0.9533\n",
      "Epoch 2/5\n",
      "1500/1500 [==============================] - 2s 1ms/step - loss: 0.1691 - accuracy: 0.9511 - val_loss: 0.1194 - val_accuracy: 0.9655\n",
      "Epoch 3/5\n",
      "1500/1500 [==============================] - 2s 1ms/step - loss: 0.1156 - accuracy: 0.9659 - val_loss: 0.1065 - val_accuracy: 0.9691\n",
      "Epoch 4/5\n",
      "1500/1500 [==============================] - 2s 1ms/step - loss: 0.0918 - accuracy: 0.9730 - val_loss: 0.0916 - val_accuracy: 0.9731\n",
      "Epoch 5/5\n",
      "1500/1500 [==============================] - 2s 1ms/step - loss: 0.0789 - accuracy: 0.9755 - val_loss: 0.0865 - val_accuracy: 0.9748\n",
      "--- Starting trial: run-5\n",
      "{'num_units': 32, 'dropout': 0.1, 'optimizer': 'sgd'}\n",
      "Epoch 1/5\n",
      "1500/1500 [==============================] - 3s 2ms/step - loss: 0.5531 - accuracy: 0.8377 - val_loss: 0.1664 - val_accuracy: 0.9538\n",
      "Epoch 2/5\n",
      "1500/1500 [==============================] - 2s 1ms/step - loss: 0.1743 - accuracy: 0.9501 - val_loss: 0.1147 - val_accuracy: 0.9669\n",
      "Epoch 3/5\n",
      "1500/1500 [==============================] - 2s 1ms/step - loss: 0.1243 - accuracy: 0.9646 - val_loss: 0.0985 - val_accuracy: 0.9707\n",
      "Epoch 4/5\n",
      "1500/1500 [==============================] - 2s 2ms/step - loss: 0.0980 - accuracy: 0.9707 - val_loss: 0.0959 - val_accuracy: 0.9724\n",
      "Epoch 5/5\n",
      "1500/1500 [==============================] - 2s 1ms/step - loss: 0.0823 - accuracy: 0.9740 - val_loss: 0.0901 - val_accuracy: 0.9744\n",
      "--- Starting trial: run-6\n",
      "{'num_units': 32, 'dropout': 0.2, 'optimizer': 'adam'}\n",
      "Epoch 1/5\n",
      "1500/1500 [==============================] - 3s 2ms/step - loss: 0.5323 - accuracy: 0.8447 - val_loss: 0.1639 - val_accuracy: 0.9532\n",
      "Epoch 2/5\n",
      "1500/1500 [==============================] - 2s 1ms/step - loss: 0.1687 - accuracy: 0.9514 - val_loss: 0.1165 - val_accuracy: 0.9654\n",
      "Epoch 3/5\n",
      "1500/1500 [==============================] - 2s 1ms/step - loss: 0.1208 - accuracy: 0.9633 - val_loss: 0.1028 - val_accuracy: 0.9696\n",
      "Epoch 4/5\n",
      "1500/1500 [==============================] - 2s 1ms/step - loss: 0.0920 - accuracy: 0.9714 - val_loss: 0.0901 - val_accuracy: 0.9719\n",
      "Epoch 5/5\n",
      "1500/1500 [==============================] - 2s 1ms/step - loss: 0.0786 - accuracy: 0.9759 - val_loss: 0.0933 - val_accuracy: 0.9728\n",
      "--- Starting trial: run-7\n",
      "{'num_units': 32, 'dropout': 0.2, 'optimizer': 'sgd'}\n",
      "Epoch 1/5\n",
      "1500/1500 [==============================] - 2s 1ms/step - loss: 0.5295 - accuracy: 0.8474 - val_loss: 0.1503 - val_accuracy: 0.9566\n",
      "Epoch 2/5\n",
      "1500/1500 [==============================] - 2s 2ms/step - loss: 0.1711 - accuracy: 0.9481 - val_loss: 0.1154 - val_accuracy: 0.9660\n",
      "Epoch 3/5\n",
      "1500/1500 [==============================] - 2s 1ms/step - loss: 0.1161 - accuracy: 0.9647 - val_loss: 0.0961 - val_accuracy: 0.9713\n",
      "Epoch 4/5\n",
      "1500/1500 [==============================] - 2s 1ms/step - loss: 0.0937 - accuracy: 0.9708 - val_loss: 0.0972 - val_accuracy: 0.9709\n",
      "Epoch 5/5\n",
      "1500/1500 [==============================] - 2s 1ms/step - loss: 0.0789 - accuracy: 0.9762 - val_loss: 0.0869 - val_accuracy: 0.9736\n"
     ]
    }
   ],
   "source": [
    "# 依每一参数组合执行训练\n",
    "session_num = 0\n",
    "\n",
    "for num_units in HP_NUM_UNITS.domain.values:\n",
    "    for dropout_rate in (HP_DROPOUT.domain.min_value, HP_DROPOUT.domain.max_value):\n",
    "        for optimizer in HP_OPTIMIZER.domain.values:\n",
    "            hparams = {\n",
    "                    HP_NUM_UNITS: num_units,\n",
    "                    HP_DROPOUT: dropout_rate,\n",
    "                    HP_OPTIMIZER: optimizer,\n",
    "            }\n",
    "            run_name = \"run-%d\" % session_num\n",
    "            print('--- Starting trial: %s' % run_name)\n",
    "            print({h.name: hparams[h] for h in hparams})\n",
    "            run('logs/hparam_tuning/' + run_name, hparams)\n",
    "            session_num += 1"
   ]
  },
  {
   "cell_type": "code",
   "execution_count": 6,
   "metadata": {},
   "outputs": [],
   "source": [
    "# 载入 TensorBoard notebook extension，即可在 jupyter notebook 启动 Tensorboard\n",
    "%load_ext tensorboard"
   ]
  },
  {
   "cell_type": "code",
   "execution_count": 7,
   "metadata": {},
   "outputs": [
    {
     "data": {
      "text/plain": [
       "ERROR: Timed out waiting for TensorBoard to start. It may still be running as pid 4720."
      ]
     },
     "metadata": {},
     "output_type": "display_data"
    }
   ],
   "source": [
    "# 启动 Tensorboard\n",
    "%tensorboard --logdir logs/hparam_tuning"
   ]
  },
  {
   "cell_type": "markdown",
   "metadata": {},
   "source": [
    "## 使用浏览器输入以下网址，即可观看训练资讯：\n",
    "## http://localhost:6006/"
   ]
  },
  {
   "cell_type": "code",
   "execution_count": 8,
   "metadata": {},
   "outputs": [
    {
     "name": "stdout",
     "output_type": "stream",
     "text": [
      "成功: 處理程序 \"tensorboard.exe\" (PID 4720) 已經終止了。\n"
     ]
    }
   ],
   "source": [
    "!taskkill /IM \"tensorboard.exe\" /F\n",
    "# or \n",
    "# !taskkill /F /PID 15784"
   ]
  },
  {
   "cell_type": "code",
   "execution_count": null,
   "metadata": {},
   "outputs": [],
   "source": []
  }
 ],
 "metadata": {
  "kernelspec": {
   "display_name": "Python 3",
   "language": "python",
   "name": "python3"
  },
  "language_info": {
   "codemirror_mode": {
    "name": "ipython",
    "version": 3
   },
   "file_extension": ".py",
   "mimetype": "text/x-python",
   "name": "python",
   "nbconvert_exporter": "python",
   "pygments_lexer": "ipython3",
   "version": "3.8.5"
  }
 },
 "nbformat": 4,
 "nbformat_minor": 4
}
