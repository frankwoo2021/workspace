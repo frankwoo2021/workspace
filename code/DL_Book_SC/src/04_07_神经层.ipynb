{
 "cells": [
  {
   "cell_type": "markdown",
   "metadata": {},
   "source": [
    "# 神经层"
   ]
  },
  {
   "cell_type": "markdown",
   "metadata": {},
   "source": [
    "## 建立模型结构"
   ]
  },
  {
   "cell_type": "code",
   "execution_count": 1,
   "metadata": {},
   "outputs": [
    {
     "name": "stdout",
     "output_type": "stream",
     "text": [
      "Model: \"sequential\"\n",
      "_________________________________________________________________\n",
      "Layer (type)                 Output Shape              Param #   \n",
      "=================================================================\n",
      "flatten (Flatten)            (None, 784)               0         \n",
      "_________________________________________________________________\n",
      "layer1 (Dense)               (None, 128)               100480    \n",
      "_________________________________________________________________\n",
      "dropout (Dropout)            (None, 128)               0         \n",
      "_________________________________________________________________\n",
      "layer2 (Dense)               (None, 10)                1290      \n",
      "=================================================================\n",
      "Total params: 101,770\n",
      "Trainable params: 101,770\n",
      "Non-trainable params: 0\n",
      "_________________________________________________________________\n"
     ]
    }
   ],
   "source": [
    "import tensorflow as tf\n",
    "from tensorflow.keras import layers\n",
    "\n",
    "# 建立模型\n",
    "model = tf.keras.models.Sequential([\n",
    "  tf.keras.layers.Flatten(input_shape=(28, 28)),\n",
    "  tf.keras.layers.Dense(128, activation='relu', name=\"layer1\"),\n",
    "  tf.keras.layers.Dropout(0.2),\n",
    "  tf.keras.layers.Dense(10, activation='softmax', name=\"layer2\")\n",
    "])\n",
    "\n",
    "# 设定优化器(optimizer)、损失函数(loss)、效能衡量指标(metrics)的类别\n",
    "model.compile(optimizer='adam',\n",
    "              loss='sparse_categorical_crossentropy',\n",
    "              metrics=['accuracy'])\n",
    "\n",
    "# 显示模型汇总资讯\n",
    "model.summary()"
   ]
  },
  {
   "cell_type": "markdown",
   "metadata": {},
   "source": [
    "## 第一层 Dense 参数个数计算"
   ]
  },
  {
   "cell_type": "code",
   "execution_count": 2,
   "metadata": {},
   "outputs": [
    {
     "data": {
      "text/plain": [
       "TensorShape([1, 128])"
      ]
     },
     "execution_count": 2,
     "metadata": {},
     "output_type": "execute_result"
    }
   ],
   "source": [
    "# 设定模型的 input/output\n",
    "feature_extractor = tf.keras.Model(\n",
    "    inputs=model.inputs,\n",
    "    outputs=model.get_layer(name=\"layer1\").output,\n",
    ")\n",
    "\n",
    "# 呼叫 feature_extractor 取得 output\n",
    "x = tf.ones((1, 28, 28))\n",
    "features = feature_extractor(x)\n",
    "features.shape"
   ]
  },
  {
   "cell_type": "code",
   "execution_count": 3,
   "metadata": {
    "scrolled": true
   },
   "outputs": [
    {
     "name": "stdout",
     "output_type": "stream",
     "text": [
      "参数(parameter)个数：100480\n"
     ]
    }
   ],
   "source": [
    "# 第一层 Dense 参数个数计算\n",
    "parameter_count = (28 * 28) * features.shape[1] + features.shape[1]\n",
    "print(f'参数(parameter)个数：{parameter_count}')"
   ]
  },
  {
   "cell_type": "markdown",
   "metadata": {},
   "source": [
    "## 第二层 Dense 参数个数计算"
   ]
  },
  {
   "cell_type": "code",
   "execution_count": 4,
   "metadata": {},
   "outputs": [
    {
     "name": "stdout",
     "output_type": "stream",
     "text": [
      "参数(parameter)个数：1290\n"
     ]
    }
   ],
   "source": [
    "# 设定模型的 input/output\n",
    "feature_extractor = tf.keras.Model(\n",
    "    inputs=model.inputs,\n",
    "    outputs=model.get_layer(name=\"layer2\").output,\n",
    ")\n",
    "\n",
    "# 呼叫 feature_extractor 取得 output\n",
    "x = tf.ones((1, 28, 28))\n",
    "features = feature_extractor(x)\n",
    "\n",
    "parameter_count = 128 * features.shape[1] + features.shape[1]\n",
    "print(f'参数(parameter)个数：{parameter_count}')"
   ]
  },
  {
   "cell_type": "code",
   "execution_count": null,
   "metadata": {},
   "outputs": [],
   "source": []
  }
 ],
 "metadata": {
  "kernelspec": {
   "display_name": "Python 3",
   "language": "python",
   "name": "python3"
  },
  "language_info": {
   "codemirror_mode": {
    "name": "ipython",
    "version": 3
   },
   "file_extension": ".py",
   "mimetype": "text/x-python",
   "name": "python",
   "nbconvert_exporter": "python",
   "pygments_lexer": "ipython3",
   "version": "3.8.5"
  }
 },
 "nbformat": 4,
 "nbformat_minor": 4
}
