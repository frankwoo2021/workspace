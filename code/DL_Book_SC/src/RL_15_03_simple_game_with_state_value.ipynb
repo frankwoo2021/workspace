{
 "cells": [
  {
   "cell_type": "markdown",
   "metadata": {},
   "source": [
    "## 以状态值函数大者为行动依据"
   ]
  },
  {
   "cell_type": "code",
   "execution_count": 25,
   "metadata": {},
   "outputs": [],
   "source": [
    "# 载入相关套件\n",
    "import numpy as np\n",
    "import random"
   ]
  },
  {
   "cell_type": "code",
   "execution_count": 26,
   "metadata": {},
   "outputs": [],
   "source": [
    "# 参数设定\n",
    "NODE_COUNT = 5      # 节点数\n",
    "NORMAL_REWARD = -0.2 # 每走一步扣分 0.2"
   ]
  },
  {
   "cell_type": "code",
   "execution_count": 27,
   "metadata": {},
   "outputs": [],
   "source": [
    "# 环境类别\n",
    "class Environment():\n",
    "    # 初始化\n",
    "    def __init__(self):\n",
    "        # 储存状态值函数，索引值[0]:不用，从1开始\n",
    "        self.state_value = np.full((NODE_COUNT+1), 0.0)\n",
    "        self.state_value[1]=-1\n",
    "        self.state_value[NODE_COUNT]=1\n",
    "\n",
    "        # 更新次数，索引值[0]:不用，从1开始\n",
    "        self.state_value_count = np.full((NODE_COUNT+1), 0)\n",
    "        self.state_value_count[1]=1\n",
    "        self.state_value_count[NODE_COUNT]=1\n",
    "        \n",
    "    # 初始化\n",
    "    def reset(self):\n",
    "        self.poistion = int((1+NODE_COUNT) / 2)  # 玩家一开始站中间位置\n",
    "        self.trajectory=[] # 行动轨迹\n",
    "\n",
    "    def get_states(self):\n",
    "        # 状态空间(State Space)，共有5个位置\n",
    "        return [i for i in range(1, 6)]\n",
    "\n",
    "    def get_actions(self):        \n",
    "        return [-1, 1] # 行动空间(Action Space)\n",
    "\n",
    "    def is_done(self): # 判断比赛回合是否结束\n",
    "        # 是否走到左右端点\n",
    "        if self.poistion == 1 or self.poistion == NODE_COUNT:\n",
    "            self.trajectory.append(self.poistion)   \n",
    "            return True\n",
    "        else:\n",
    "            return False\n",
    "    \n",
    "    # 步骤\n",
    "    def step(self, action):\n",
    "        # 是否回合已结束\n",
    "        if self.is_done():\n",
    "            # 不应该有机会执行到这里\n",
    "            raise Exception(\"Game is over\")\n",
    "            \n",
    "        self.trajectory.append(self.poistion)        \n",
    "        self.poistion += action\n",
    "        if self.poistion == 1:\n",
    "            reward = -1\n",
    "        elif self.poistion == NODE_COUNT:\n",
    "            reward = 1\n",
    "        else:    \n",
    "            reward = NORMAL_REWARD\n",
    "\n",
    "        return self.poistion, reward\n",
    "\n",
    "    def update_state_value(self, final_value):\n",
    "        # 倒推，更新状态值函数\n",
    "        for i in range(len(self.trajectory)-1, -1, -1):\n",
    "            final_value += NORMAL_REWARD\n",
    "            self.state_value[self.trajectory[i]] += final_value\n",
    "            self.state_value_count[self.trajectory[i]] += 1\n",
    "                \n",
    "    # 取得状态值函数期望值\n",
    "    def get_observation(self):\n",
    "        mean1 = np.full((NODE_COUNT+1), 0)\n",
    "        for i in range(self.state_value.shape[0]):\n",
    "            if self.state_value_count[i] <= 0.0:\n",
    "                mean1[i] = 0\n",
    "            else:\n",
    "                mean1[i] = self.state_value[i] / self.state_value_count[i]\n",
    "        return mean1"
   ]
  },
  {
   "cell_type": "code",
   "execution_count": 28,
   "metadata": {},
   "outputs": [],
   "source": [
    "# 代理人类别\n",
    "class Agent():\n",
    "    # 初始化\n",
    "    def __init__(self):\n",
    "        pass\n",
    "        \n",
    "    def action(self, env):\n",
    "        # 取得状态值函数期望值\n",
    "        state_value = env.get_observation()\n",
    "        \n",
    "        # 以左/右节点状态值函数大者为行动依据，如果两个状态值一样大，随机选择一个\n",
    "        if state_value[env.poistion-1] > state_value[env.poistion+1]:  \n",
    "            return -1            \n",
    "        if state_value[env.poistion-1] < state_value[env.poistion+1]:  \n",
    "            return 1            \n",
    "        else:  \n",
    "            return random.choice([-1, 1])            "
   ]
  },
  {
   "cell_type": "code",
   "execution_count": 29,
   "metadata": {},
   "outputs": [
    {
     "name": "stdout",
     "output_type": "stream",
     "text": [
      "trajectory [6, 5, 6, 5, 4, 3, 2, 3, 2, 3, 4, 3, 2, 3, 2, 3, 2, 3, 2, 3, 2, 3, 4, 5, 6, 5, 4, 3, 4, 5, 6, 7, 8, 7, 6, 7, 8, 9, 8, 7, 8, 7, 6, 7, 8, 7, 6, 7, 6, 5, 6, 7, 8, 7, 6, 5, 6, 7, 8, 7, 8, 9, 10, 11]\n",
      "trajectory [6, 7, 8, 9, 10, 11]\n",
      "trajectory [6, 7, 8, 9, 10, 11]\n",
      "trajectory [6, 7, 8, 9, 10, 11]\n",
      "trajectory [6, 7, 8, 9, 10, 11]\n",
      "trajectory [6, 7, 8, 9, 10, 11]\n",
      "trajectory [6, 7, 8, 9, 10, 11]\n",
      "trajectory [6, 7, 8, 9, 10, 11]\n",
      "trajectory [6, 7, 8, 9, 10, 11]\n",
      "trajectory [6, 7, 8, 9, 10, 11]\n",
      "累计报酬: [-11.4, 0.2, 0.2, 0.2, 0.2, 0.2, 0.2, 0.2, 0.2, 0.2]\n"
     ]
    }
   ],
   "source": [
    "# 建立实验，含环境、代理人物件\n",
    "env = Environment()\n",
    "agent = Agent()\n",
    "\n",
    "# 进行实验\n",
    "total_reward_list = []\n",
    "for i in range(10):\n",
    "    env.reset()  # 重置\n",
    "    total_reward=0  # 累计报酬\n",
    "    action_count = 0 \n",
    "    while not env.is_done():\n",
    "        # 采取行动\n",
    "        action = agent.action(env)\n",
    "        \n",
    "        # 更新下一步\n",
    "        state, reward = env.step(action)\n",
    "        #print(state, reward)\n",
    "        # 计算累计报酬\n",
    "        total_reward += reward\n",
    "        \n",
    "        action_count += 1\n",
    "        if action_count>=100: # 避免绕圈圈\n",
    "            break\n",
    "    print('trajectory', env.trajectory)\n",
    "    env.update_state_value(total_reward)\n",
    "    total_reward_list.append(round(total_reward, 2))\n",
    "    \n",
    "# 显示累计报酬\n",
    "print(f\"累计报酬: {total_reward_list}\")"
   ]
  },
  {
   "cell_type": "code",
   "execution_count": 30,
   "metadata": {
    "scrolled": false
   },
   "outputs": [
    {
     "data": {
      "text/plain": [
       "[<matplotlib.lines.Line2D at 0x1bafb6bbe50>]"
      ]
     },
     "execution_count": 30,
     "metadata": {},
     "output_type": "execute_result"
    },
    {
     "data": {
      "image/png": "[encoded data removed]",
      "text/plain": [
       "<Figure size 720x432 with 1 Axes>"
      ]
     },
     "metadata": {
      "needs_background": "light"
     },
     "output_type": "display_data"
    }
   ],
   "source": [
    "# 绘图\n",
    "import matplotlib.pyplot as plt\n",
    "\n",
    "plt.figure(figsize=(10,6))\n",
    "plt.plot(total_reward_list)"
   ]
  },
  {
   "cell_type": "code",
   "execution_count": null,
   "metadata": {},
   "outputs": [],
   "source": []
  }
 ],
 "metadata": {
  "kernelspec": {
   "display_name": "Python 3",
   "language": "python",
   "name": "python3"
  },
  "language_info": {
   "codemirror_mode": {
    "name": "ipython",
    "version": 3
   },
   "file_extension": ".py",
   "mimetype": "text/x-python",
   "name": "python",
   "nbconvert_exporter": "python",
   "pygments_lexer": "ipython3",
   "version": "3.8.3"
  }
 },
 "nbformat": 4,
 "nbformat_minor": 4
}
