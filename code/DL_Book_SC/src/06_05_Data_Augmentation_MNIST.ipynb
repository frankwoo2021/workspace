{
 "cells": [
  {
   "cell_type": "markdown",
   "metadata": {},
   "source": [
    "# MNIST 模型强化"
   ]
  },
  {
   "cell_type": "markdown",
   "metadata": {},
   "source": [
    "## 步骤1：载入 MNIST 手写阿拉伯数字资料"
   ]
  },
  {
   "cell_type": "code",
   "execution_count": 1,
   "metadata": {},
   "outputs": [],
   "source": [
    "import tensorflow as tf\n",
    "mnist = tf.keras.datasets.mnist\n",
    "\n",
    "# 载入 MNIST 手写阿拉伯数字资料\n",
    "(x_train, y_train),(x_test, y_test) = mnist.load_data()"
   ]
  },
  {
   "cell_type": "markdown",
   "metadata": {},
   "source": [
    "## 步骤2：改用 CNN 模型"
   ]
  },
  {
   "cell_type": "code",
   "execution_count": 2,
   "metadata": {},
   "outputs": [],
   "source": [
    "# 建立模型\n",
    "from tensorflow.keras import layers\n",
    "import numpy as np\n",
    "\n",
    "input_shape=(28, 28, 1)\n",
    "# 增加一维在最后面\n",
    "x_train = np.expand_dims(x_train, -1)\n",
    "x_test = np.expand_dims(x_test, -1)\n",
    "\n",
    "# CNN 模型\n",
    "model = tf.keras.Sequential(\n",
    "    [\n",
    "        tf.keras.Input(shape=input_shape),\n",
    "        layers.Conv2D(32, kernel_size=(3, 3), activation=\"relu\"),\n",
    "        layers.MaxPooling2D(pool_size=(2, 2)),\n",
    "        layers.Conv2D(64, kernel_size=(3, 3), activation=\"relu\"),\n",
    "        layers.MaxPooling2D(pool_size=(2, 2)),\n",
    "        layers.Flatten(),\n",
    "        layers.Dropout(0.5),\n",
    "        layers.Dense(10, activation=\"softmax\"),\n",
    "    ]\n",
    ")\n",
    "\n",
    "# 设定优化器(optimizer)、损失函数(loss)、效能衡量指标(metrics)的类别\n",
    "model.compile(optimizer='adam',\n",
    "              loss='sparse_categorical_crossentropy',\n",
    "              metrics=['accuracy'])"
   ]
  },
  {
   "cell_type": "markdown",
   "metadata": {},
   "source": [
    "## 步骤3：资料增补(Data Augmentation)"
   ]
  },
  {
   "cell_type": "code",
   "execution_count": 3,
   "metadata": {},
   "outputs": [
    {
     "name": "stdout",
     "output_type": "stream",
     "text": [
      "Epoch 1/5\n",
      "60/60 - 42s - loss: 1.4652 - accuracy: 0.5203 - val_loss: 0.6872 - val_accuracy: 0.8023\n",
      "Epoch 2/5\n",
      "60/60 - 30s - loss: 0.5888 - accuracy: 0.8162 - val_loss: 0.3435 - val_accuracy: 0.9026\n",
      "Epoch 3/5\n",
      "60/60 - 31s - loss: 0.3933 - accuracy: 0.8806 - val_loss: 0.2477 - val_accuracy: 0.9300\n",
      "Epoch 4/5\n",
      "60/60 - 36s - loss: 0.3136 - accuracy: 0.9033 - val_loss: 0.2013 - val_accuracy: 0.9409\n",
      "Epoch 5/5\n",
      "60/60 - 36s - loss: 0.2740 - accuracy: 0.9163 - val_loss: 0.1754 - val_accuracy: 0.9486\n"
     ]
    }
   ],
   "source": [
    "# 参数设定\n",
    "batch_size = 1000\n",
    "epochs = 5\n",
    "\n",
    "# 资料增补定义\n",
    "datagen = tf.keras.preprocessing.image.ImageDataGenerator(\n",
    "        rescale=1./255,         # 特征缩放\n",
    "        rotation_range=10,      # 旋转 10 度\n",
    "        zoom_range=0.1,         # 拉远/拉近 10%\n",
    "        width_shift_range=0.1,  # 宽度偏移  10%\n",
    "        height_shift_range=0.1) # 高度偏移  10%\n",
    "\n",
    "# 增补资料，进行模型训练\n",
    "datagen.fit(x_train)\n",
    "history = model.fit(datagen.flow(x_train, y_train, batch_size=batch_size), epochs=epochs,\n",
    "          validation_data=datagen.flow(x_test, y_test, batch_size=batch_size), verbose=2,\n",
    "          steps_per_epoch=x_train.shape[0]//batch_size)"
   ]
  },
  {
   "cell_type": "code",
   "execution_count": 4,
   "metadata": {},
   "outputs": [
    {
     "name": "stdout",
     "output_type": "stream",
     "text": [
      "loss: 15.9031\n",
      "accuracy: 0.9596\n"
     ]
    }
   ],
   "source": [
    "# 评分(Score Model)\n",
    "score=model.evaluate(x_test, y_test, verbose=0)\n",
    "\n",
    "for i, x in enumerate(score):\n",
    "    print(f'{model.metrics_names[i]}: {score[i]:.4f}')"
   ]
  },
  {
   "cell_type": "markdown",
   "metadata": {},
   "source": [
    "## 步骤4：测试自行绘制的数字"
   ]
  },
  {
   "cell_type": "code",
   "execution_count": 5,
   "metadata": {},
   "outputs": [
    {
     "name": "stdout",
     "output_type": "stream",
     "text": [
      "[9]\n"
     ]
    }
   ],
   "source": [
    "# 使用小画家，绘制 0~9，实际测试看看\n",
    "from skimage import io\n",
    "from skimage.transform import resize\n",
    "import numpy as np\n",
    "\n",
    "# 读取影像并转为单色\n",
    "uploaded_file = './myDigits/9.png'\n",
    "image1 = io.imread(uploaded_file, as_gray=True)\n",
    "\n",
    "# 缩为 (28, 28) 大小的影像\n",
    "image_resized = resize(image1, (28, 28), anti_aliasing=True)    \n",
    "X1 = image_resized.reshape(1,28, 28, 1) #/ 255\n",
    "\n",
    "# 反转颜色，颜色0为白色，与 RGB 色码不同，它的 0 为黑色\n",
    "X1 = np.abs(1-X1)\n",
    "\n",
    "# 预测\n",
    "predictions = np.argmax(model.predict(X1), axis=-1)\n",
    "print(predictions)"
   ]
  },
  {
   "cell_type": "code",
   "execution_count": null,
   "metadata": {},
   "outputs": [],
   "source": []
  }
 ],
 "metadata": {
  "kernelspec": {
   "display_name": "Python 3",
   "language": "python",
   "name": "python3"
  },
  "language_info": {
   "codemirror_mode": {
    "name": "ipython",
    "version": 3
   },
   "file_extension": ".py",
   "mimetype": "text/x-python",
   "name": "python",
   "nbconvert_exporter": "python",
   "pygments_lexer": "ipython3",
   "version": "3.8.5"
  }
 },
 "nbformat": 4,
 "nbformat_minor": 4
}
