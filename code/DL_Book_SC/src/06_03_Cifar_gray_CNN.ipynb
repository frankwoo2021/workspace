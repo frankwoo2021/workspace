{
 "cells": [
  {
   "cell_type": "markdown",
   "metadata": {},
   "source": [
    "# cifar10 辨识"
   ]
  },
  {
   "cell_type": "markdown",
   "metadata": {},
   "source": [
    "## 步骤1：载入 cifar10 资料"
   ]
  },
  {
   "cell_type": "code",
   "execution_count": 1,
   "metadata": {},
   "outputs": [
    {
     "name": "stdout",
     "output_type": "stream",
     "text": [
      "(50000, 32, 32, 3) (50000, 1) (10000, 32, 32, 3) (10000, 1)\n"
     ]
    }
   ],
   "source": [
    "import tensorflow as tf\n",
    "cifar10 = tf.keras.datasets.cifar10\n",
    "\n",
    "# 载入 cifar10 资料\n",
    "(x_train, y_train),(x_test, y_test) = cifar10.load_data()\n",
    "\n",
    "# 训练/测试资料的 X/y 维度\n",
    "print(x_train.shape, y_train.shape,x_test.shape, y_test.shape)"
   ]
  },
  {
   "cell_type": "markdown",
   "metadata": {},
   "source": [
    "## 转成单色"
   ]
  },
  {
   "cell_type": "code",
   "execution_count": 2,
   "metadata": {},
   "outputs": [
    {
     "name": "stdout",
     "output_type": "stream",
     "text": [
      "(50000, 32, 32, 1) (10000, 32, 32, 1)\n"
     ]
    }
   ],
   "source": [
    "# 转成单色：rgb_to_grayscale\n",
    "x_train = tf.image.rgb_to_grayscale(x_train)\n",
    "x_test = tf.image.rgb_to_grayscale(x_test)\n",
    "print(x_train.shape, x_test.shape)"
   ]
  },
  {
   "cell_type": "markdown",
   "metadata": {},
   "source": [
    "## 步骤2：资料清理，此步骤无需进行"
   ]
  },
  {
   "cell_type": "markdown",
   "metadata": {},
   "source": [
    "## 步骤3：进行特征工程，将特征缩放成(0, 1)之间"
   ]
  },
  {
   "cell_type": "code",
   "execution_count": 3,
   "metadata": {},
   "outputs": [],
   "source": [
    "# 特征缩放，使用常态化(Normalization)，公式 = (x - min) / (max - min)\n",
    "x_train_norm, x_test_norm = x_train / 255, x_test / 255"
   ]
  },
  {
   "cell_type": "code",
   "execution_count": 4,
   "metadata": {},
   "outputs": [
    {
     "data": {
      "text/plain": [
       "<tf.Tensor: shape=(32, 32, 1), dtype=float32, numpy=\n",
       "array([[[0.23921569],\n",
       "        [0.1764706 ],\n",
       "        [0.1882353 ],\n",
       "        ...,\n",
       "        [0.5372549 ],\n",
       "        [0.50980395],\n",
       "        [0.5058824 ]],\n",
       "\n",
       "       [[0.07058824],\n",
       "        [0.        ],\n",
       "        [0.03921569],\n",
       "        ...,\n",
       "        [0.36862746],\n",
       "        [0.3529412 ],\n",
       "        [0.36862746]],\n",
       "\n",
       "       [[0.09411765],\n",
       "        [0.03137255],\n",
       "        [0.12156863],\n",
       "        ...,\n",
       "        [0.3529412 ],\n",
       "        [0.35686275],\n",
       "        [0.3137255 ]],\n",
       "\n",
       "       ...,\n",
       "\n",
       "       [[0.6784314 ],\n",
       "        [0.6039216 ],\n",
       "        [0.6117647 ],\n",
       "        ...,\n",
       "        [0.5254902 ],\n",
       "        [0.13725491],\n",
       "        [0.14901961]],\n",
       "\n",
       "       [[0.57254905],\n",
       "        [0.5019608 ],\n",
       "        [0.56078434],\n",
       "        ...,\n",
       "        [0.59607846],\n",
       "        [0.27058825],\n",
       "        [0.23137255]],\n",
       "\n",
       "       [[0.5882353 ],\n",
       "        [0.53333336],\n",
       "        [0.5764706 ],\n",
       "        ...,\n",
       "        [0.7372549 ],\n",
       "        [0.4862745 ],\n",
       "        [0.3882353 ]]], dtype=float32)>"
      ]
     },
     "execution_count": 4,
     "metadata": {},
     "output_type": "execute_result"
    }
   ],
   "source": [
    "# 确认转换成功\n",
    "x_train_norm[0]"
   ]
  },
  {
   "cell_type": "markdown",
   "metadata": {},
   "source": [
    "## 步骤4：资料分割，此步骤无需进行，载入MNIST资料时，已经切割好了\n",
    "\n",
    "## 步骤5：建立模型结构\n",
    "\n",
    "## 步骤6：结合训练资料及模型，进行模型训练\n",
    "\n",
    "## 步骤7：评分(Score Model)"
   ]
  },
  {
   "cell_type": "code",
   "execution_count": 5,
   "metadata": {},
   "outputs": [
    {
     "name": "stdout",
     "output_type": "stream",
     "text": [
      "Epoch 1/10\n",
      "1250/1250 [==============================] - 4s 2ms/step - loss: 2.1997 - accuracy: 0.1846 - val_loss: 2.0389 - val_accuracy: 0.2649\n",
      "Epoch 2/10\n",
      "1250/1250 [==============================] - 2s 1ms/step - loss: 2.0566 - accuracy: 0.2457 - val_loss: 1.9794 - val_accuracy: 0.2933\n",
      "Epoch 3/10\n",
      "1250/1250 [==============================] - 2s 1ms/step - loss: 2.0148 - accuracy: 0.2685 - val_loss: 1.9372 - val_accuracy: 0.3068\n",
      "Epoch 4/10\n",
      "1250/1250 [==============================] - 2s 1ms/step - loss: 1.9957 - accuracy: 0.2731 - val_loss: 1.9169 - val_accuracy: 0.3187\n",
      "Epoch 5/10\n",
      "1250/1250 [==============================] - 2s 1ms/step - loss: 1.9694 - accuracy: 0.2865 - val_loss: 1.9163 - val_accuracy: 0.3055\n",
      "Epoch 6/10\n",
      "1250/1250 [==============================] - 2s 1ms/step - loss: 1.9532 - accuracy: 0.2963 - val_loss: 1.8882 - val_accuracy: 0.3302\n",
      "Epoch 7/10\n",
      "1250/1250 [==============================] - 2s 1ms/step - loss: 1.9468 - accuracy: 0.2960 - val_loss: 1.8758 - val_accuracy: 0.3346\n",
      "Epoch 8/10\n",
      "1250/1250 [==============================] - 2s 1ms/step - loss: 1.9271 - accuracy: 0.3080 - val_loss: 1.8716 - val_accuracy: 0.3343\n",
      "Epoch 9/10\n",
      "1250/1250 [==============================] - 2s 1ms/step - loss: 1.9302 - accuracy: 0.3024 - val_loss: 1.8658 - val_accuracy: 0.3360\n",
      "Epoch 10/10\n",
      "1250/1250 [==============================] - 2s 1ms/step - loss: 1.9200 - accuracy: 0.3066 - val_loss: 1.8989 - val_accuracy: 0.3185\n",
      "loss: 1.8987\n",
      "accuracy: 0.3165\n"
     ]
    }
   ],
   "source": [
    "# 建立模型\n",
    "model = tf.keras.models.Sequential([\n",
    "    tf.keras.layers.Flatten(input_shape=x_train.shape[1:3]),\n",
    "    tf.keras.layers.Dense(128, activation='relu'),\n",
    "    tf.keras.layers.Dropout(0.2),\n",
    "    tf.keras.layers.Dense(10, activation='softmax')\n",
    "])\n",
    "\n",
    "# 设定优化器(optimizer)、损失函数(loss)、效能衡量指标(metrics)的类别\n",
    "model.compile(optimizer='adam',\n",
    "              loss=tf.keras.losses.SparseCategoricalCrossentropy(from_logits=True),\n",
    "              metrics=['accuracy'])\n",
    "\n",
    "# 模型训练\n",
    "history = model.fit(x_train_norm, y_train, epochs=10, validation_split=0.2)\n",
    "\n",
    "# 评分(Score Model)\n",
    "score=model.evaluate(x_test_norm, y_test, verbose=0)\n",
    "\n",
    "for i, x in enumerate(score):\n",
    "    print(f'{model.metrics_names[i]}: {score[i]:.4f}')"
   ]
  },
  {
   "cell_type": "code",
   "execution_count": 6,
   "metadata": {},
   "outputs": [
    {
     "data": {
      "text/plain": [
       "<matplotlib.legend.Legend at 0x22bf1be2e80>"
      ]
     },
     "execution_count": 6,
     "metadata": {},
     "output_type": "execute_result"
    },
    {
     "data": {
      "image/png": "[encoded data removed]",
      "text/plain": [
       "<Figure size 432x288 with 1 Axes>"
      ]
     },
     "metadata": {
      "needs_background": "light"
     },
     "output_type": "display_data"
    }
   ],
   "source": [
    "import matplotlib.pyplot as plt\n",
    "\n",
    "plt.plot(history.history['accuracy'], label='accuracy')\n",
    "plt.plot(history.history['val_accuracy'], label = 'val_accuracy')\n",
    "plt.xlabel('Epoch')\n",
    "plt.ylabel('Accuracy')\n",
    "plt.legend(loc='lower right')"
   ]
  },
  {
   "cell_type": "code",
   "execution_count": 7,
   "metadata": {},
   "outputs": [
    {
     "name": "stdout",
     "output_type": "stream",
     "text": [
      "Model: \"sequential\"\n",
      "_________________________________________________________________\n",
      "Layer (type)                 Output Shape              Param #   \n",
      "=================================================================\n",
      "flatten (Flatten)            (None, 1024)              0         \n",
      "_________________________________________________________________\n",
      "dense (Dense)                (None, 128)               131200    \n",
      "_________________________________________________________________\n",
      "dropout (Dropout)            (None, 128)               0         \n",
      "_________________________________________________________________\n",
      "dense_1 (Dense)              (None, 10)                1290      \n",
      "=================================================================\n",
      "Total params: 132,490\n",
      "Trainable params: 132,490\n",
      "Non-trainable params: 0\n",
      "_________________________________________________________________\n"
     ]
    }
   ],
   "source": [
    "model.summary()"
   ]
  },
  {
   "cell_type": "code",
   "execution_count": null,
   "metadata": {},
   "outputs": [],
   "source": []
  }
 ],
 "metadata": {
  "kernelspec": {
   "display_name": "Python 3",
   "language": "python",
   "name": "python3"
  },
  "language_info": {
   "codemirror_mode": {
    "name": "ipython",
    "version": 3
   },
   "file_extension": ".py",
   "mimetype": "text/x-python",
   "name": "python",
   "nbconvert_exporter": "python",
   "pygments_lexer": "ipython3",
   "version": "3.8.5"
  }
 },
 "nbformat": 4,
 "nbformat_minor": 4
}
