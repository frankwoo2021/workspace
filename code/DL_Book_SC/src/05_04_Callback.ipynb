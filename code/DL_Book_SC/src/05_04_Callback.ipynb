{
 "cells": [
  {
   "cell_type": "markdown",
   "metadata": {},
   "source": [
    "# Callbacks"
   ]
  },
  {
   "cell_type": "markdown",
   "metadata": {},
   "source": [
    "## 模型"
   ]
  },
  {
   "cell_type": "code",
   "execution_count": 1,
   "metadata": {},
   "outputs": [],
   "source": [
    "import tensorflow as tf\n",
    "\n",
    "mnist = tf.keras.datasets.mnist\n",
    "\n",
    "# 载入 MNIST 手写阿拉伯数字资料\n",
    "(x_train, y_train),(x_test, y_test) = mnist.load_data()\n",
    "\n",
    "# 特征缩放，使用常态化(Normalization)，公式 = (x - min) / (max - min)\n",
    "x_train_norm, x_test_norm = x_train / 255.0, x_test / 255.0\n",
    "\n",
    "# 建立模型\n",
    "model = tf.keras.models.Sequential([\n",
    "    tf.keras.layers.Flatten(input_shape=(28, 28)),\n",
    "    tf.keras.layers.Dense(256, activation='relu'),\n",
    "    tf.keras.layers.Dropout(0.2),\n",
    "    tf.keras.layers.Dense(10, activation='softmax')\n",
    "])\n",
    "\n",
    "# 设定优化器(optimizer)、损失函数(loss)、效能衡量指标(metrics)的类别\n",
    "model.compile(optimizer='adam',\n",
    "              loss='sparse_categorical_crossentropy',\n",
    "              metrics=['accuracy'])\n"
   ]
  },
  {
   "cell_type": "markdown",
   "metadata": {},
   "source": [
    "## EarlyStopping callbacks"
   ]
  },
  {
   "cell_type": "code",
   "execution_count": 2,
   "metadata": {},
   "outputs": [],
   "source": [
    "# validation loss 三个执行周期没改善就停止训练\n",
    "my_callbacks = [\n",
    "    tf.keras.callbacks.EarlyStopping(patience=3, monitor = 'val_accuracy'),\n",
    "]"
   ]
  },
  {
   "cell_type": "code",
   "execution_count": 3,
   "metadata": {
    "scrolled": false
   },
   "outputs": [
    {
     "name": "stdout",
     "output_type": "stream",
     "text": [
      "Epoch 1/20\n",
      "1500/1500 [==============================] - 4s 2ms/step - loss: 0.4543 - accuracy: 0.8683 - val_loss: 0.1327 - val_accuracy: 0.9618\n",
      "Epoch 2/20\n",
      "1500/1500 [==============================] - 2s 2ms/step - loss: 0.1328 - accuracy: 0.9602 - val_loss: 0.0998 - val_accuracy: 0.9700\n",
      "Epoch 3/20\n",
      "1500/1500 [==============================] - 2s 2ms/step - loss: 0.0921 - accuracy: 0.9731 - val_loss: 0.0861 - val_accuracy: 0.9747\n",
      "Epoch 4/20\n",
      "1500/1500 [==============================] - 2s 2ms/step - loss: 0.0719 - accuracy: 0.9781 - val_loss: 0.0889 - val_accuracy: 0.9733\n",
      "Epoch 5/20\n",
      "1500/1500 [==============================] - 3s 2ms/step - loss: 0.0566 - accuracy: 0.9822 - val_loss: 0.0769 - val_accuracy: 0.9771\n",
      "Epoch 6/20\n",
      "1500/1500 [==============================] - 2s 2ms/step - loss: 0.0448 - accuracy: 0.9859 - val_loss: 0.0822 - val_accuracy: 0.9768\n",
      "Epoch 7/20\n",
      "1500/1500 [==============================] - 2s 2ms/step - loss: 0.0387 - accuracy: 0.9875 - val_loss: 0.0737 - val_accuracy: 0.9787\n",
      "Epoch 8/20\n",
      "1500/1500 [==============================] - 2s 2ms/step - loss: 0.0316 - accuracy: 0.9899 - val_loss: 0.0734 - val_accuracy: 0.9784\n",
      "Epoch 9/20\n",
      "1500/1500 [==============================] - 3s 2ms/step - loss: 0.0271 - accuracy: 0.9912 - val_loss: 0.0769 - val_accuracy: 0.9796\n",
      "Epoch 10/20\n",
      "1500/1500 [==============================] - 3s 2ms/step - loss: 0.0262 - accuracy: 0.9918 - val_loss: 0.0807 - val_accuracy: 0.9778\n",
      "Epoch 11/20\n",
      "1500/1500 [==============================] - 3s 2ms/step - loss: 0.0248 - accuracy: 0.9920 - val_loss: 0.0810 - val_accuracy: 0.9785\n",
      "Epoch 12/20\n",
      "1500/1500 [==============================] - 2s 2ms/step - loss: 0.0216 - accuracy: 0.9929 - val_loss: 0.0876 - val_accuracy: 0.9776\n"
     ]
    }
   ],
   "source": [
    "# 训练 20 次，但实际只训练 12次就停止了\n",
    "history = model.fit(x_train_norm, y_train, epochs=20, validation_split=0.2, \n",
    "                    callbacks=my_callbacks)"
   ]
  },
  {
   "cell_type": "code",
   "execution_count": 4,
   "metadata": {},
   "outputs": [
    {
     "data": {
      "text/plain": [
       "<matplotlib.legend.Legend at 0x2497c4b2b80>"
      ]
     },
     "execution_count": 4,
     "metadata": {},
     "output_type": "execute_result"
    },
    {
     "data": {
      "image/png": "[encoded data removed]",
      "text/plain": [
       "<Figure size 432x288 with 1 Axes>"
      ]
     },
     "metadata": {
      "needs_background": "light"
     },
     "output_type": "display_data"
    }
   ],
   "source": [
    "# 对训练过程的准确度绘图\n",
    "import matplotlib.pyplot as plt\n",
    "import numpy as np\n",
    "\n",
    "plt.plot(np.arange(1,len(history.history['accuracy'])+1), history.history['accuracy'], 'r', label='accuracy')\n",
    "plt.plot(np.arange(1,len(history.history['accuracy'])+1), history.history['val_accuracy'], 'g', label='val_accuracy')\n",
    "plt.legend()"
   ]
  },
  {
   "cell_type": "markdown",
   "metadata": {},
   "source": [
    "## 改为 val_loss"
   ]
  },
  {
   "cell_type": "code",
   "execution_count": 5,
   "metadata": {},
   "outputs": [],
   "source": [
    "# validation loss 三个执行周期没改善就停止训练\n",
    "my_callbacks = [\n",
    "    tf.keras.callbacks.EarlyStopping(patience=3, monitor = 'val_loss'),\n",
    "]"
   ]
  },
  {
   "cell_type": "code",
   "execution_count": 6,
   "metadata": {
    "scrolled": true
   },
   "outputs": [
    {
     "name": "stdout",
     "output_type": "stream",
     "text": [
      "Epoch 1/20\n",
      "1500/1500 [==============================] - 3s 2ms/step - loss: 0.0221 - accuracy: 0.9927 - val_loss: 0.0869 - val_accuracy: 0.9798\n",
      "Epoch 2/20\n",
      "1500/1500 [==============================] - 3s 2ms/step - loss: 0.0201 - accuracy: 0.9934 - val_loss: 0.0905 - val_accuracy: 0.9797\n",
      "Epoch 3/20\n",
      "1500/1500 [==============================] - 3s 2ms/step - loss: 0.0189 - accuracy: 0.9937 - val_loss: 0.0885 - val_accuracy: 0.9794\n",
      "Epoch 4/20\n",
      "1500/1500 [==============================] - 3s 2ms/step - loss: 0.0181 - accuracy: 0.9933 - val_loss: 0.0888 - val_accuracy: 0.9807\n"
     ]
    }
   ],
   "source": [
    "# 训练 20 次，但实际只训练 12次就停止了\n",
    "history = model.fit(x_train_norm, y_train, epochs=20, validation_split=0.2, \n",
    "                    callbacks=my_callbacks)"
   ]
  },
  {
   "cell_type": "code",
   "execution_count": 7,
   "metadata": {},
   "outputs": [
    {
     "data": {
      "text/plain": [
       "<matplotlib.legend.Legend at 0x2497ea2e940>"
      ]
     },
     "execution_count": 7,
     "metadata": {},
     "output_type": "execute_result"
    },
    {
     "data": {
      "image/png": "[encoded data removed]",
      "text/plain": [
       "<Figure size 432x288 with 1 Axes>"
      ]
     },
     "metadata": {
      "needs_background": "light"
     },
     "output_type": "display_data"
    }
   ],
   "source": [
    "# 对训练过程的准确度绘图\n",
    "import matplotlib.pyplot as plt\n",
    "import numpy as np\n",
    "\n",
    "plt.plot(np.arange(1,len(history.history['loss'])+1), history.history['loss'], 'r', label='loss')\n",
    "plt.plot(np.arange(1,len(history.history['loss'])+1), history.history['val_loss'], 'g', label='val_loss')\n",
    "plt.xticks(ticks=np.arange(1,len(history.history['loss'])+1))\n",
    "plt.legend()"
   ]
  },
  {
   "cell_type": "code",
   "execution_count": 8,
   "metadata": {},
   "outputs": [
    {
     "data": {
      "text/plain": [
       "[0.07681187987327576, 0.982200026512146]"
      ]
     },
     "execution_count": 8,
     "metadata": {},
     "output_type": "execute_result"
    }
   ],
   "source": [
    "# 评估，打分数\n",
    "score=model.evaluate(x_test_norm, y_test, verbose=0)\n",
    "score"
   ]
  },
  {
   "cell_type": "markdown",
   "metadata": {},
   "source": [
    "## ModelCheckpoint callback"
   ]
  },
  {
   "cell_type": "code",
   "execution_count": 9,
   "metadata": {
    "scrolled": true
   },
   "outputs": [
    {
     "name": "stdout",
     "output_type": "stream",
     "text": [
      "Epoch 1/3\n",
      "1500/1500 [==============================] - 3s 2ms/step - loss: 0.0174 - accuracy: 0.9942 - val_loss: 0.0938 - val_accuracy: 0.9813\n",
      "Epoch 2/3\n",
      "1500/1500 [==============================] - 3s 2ms/step - loss: 0.0166 - accuracy: 0.9942 - val_loss: 0.0999 - val_accuracy: 0.9791\n",
      "Epoch 3/3\n",
      "1500/1500 [==============================] - 3s 2ms/step - loss: 0.0150 - accuracy: 0.9949 - val_loss: 0.0908 - val_accuracy: 0.9818\n"
     ]
    },
    {
     "data": {
      "text/plain": [
       "<tensorflow.python.keras.callbacks.History at 0x2497e4f3a90>"
      ]
     },
     "execution_count": 9,
     "metadata": {},
     "output_type": "execute_result"
    }
   ],
   "source": [
    "# 定义 ModelCheckpoint callback\n",
    "checkpoint_filepath = 'model.{epoch:02d}.h5' # 存档名称，可用 f-string 变数\n",
    "model_checkpoint_callback = tf.keras.callbacks.ModelCheckpoint(\n",
    "    filepath=checkpoint_filepath, # 设定存档名称\n",
    "    save_weights_only=True,       # 只存权重\n",
    "    monitor='val_accuracy',       # 监看验证资料的准确率\n",
    "    mode='max',           # 设定save_best_only=True时，best是指 max or min\n",
    "    save_best_only=True)          # 只存最好的模型\n",
    "\n",
    "EPOCHS = 3  # 训练 3 次\n",
    "model.fit(x_train_norm, y_train, epochs=EPOCHS, validation_split=0.2, \n",
    "          callbacks=[model_checkpoint_callback])"
   ]
  },
  {
   "cell_type": "code",
   "execution_count": 10,
   "metadata": {
    "scrolled": false
   },
   "outputs": [
    {
     "name": "stdout",
     "output_type": "stream",
     "text": [
      "Epoch 1/3\n",
      "1500/1500 [==============================] - 3s 2ms/step - loss: 0.0149 - accuracy: 0.9949 - val_loss: 0.0886 - val_accuracy: 0.9810\n",
      "Epoch 2/3\n",
      "1500/1500 [==============================] - 3s 2ms/step - loss: 0.0152 - accuracy: 0.9950 - val_loss: 0.0926 - val_accuracy: 0.9810\n",
      "Epoch 3/3\n",
      "1500/1500 [==============================] - 3s 2ms/step - loss: 0.0133 - accuracy: 0.9952 - val_loss: 0.0995 - val_accuracy: 0.9806\n"
     ]
    },
    {
     "data": {
      "text/plain": [
       "<tensorflow.python.keras.callbacks.History at 0x2497e584eb0>"
      ]
     },
     "execution_count": 10,
     "metadata": {},
     "output_type": "execute_result"
    }
   ],
   "source": [
    "# 再训练 3 次，观察 accuracy，会接续上一次，继续改善 accuracy。\n",
    "model.fit(x_train_norm, y_train, epochs=EPOCHS, validation_split=0.2,  \n",
    "          callbacks=[model_checkpoint_callback])"
   ]
  },
  {
   "cell_type": "markdown",
   "metadata": {},
   "source": [
    "## TensorBoard callback"
   ]
  },
  {
   "cell_type": "code",
   "execution_count": 11,
   "metadata": {},
   "outputs": [
    {
     "name": "stdout",
     "output_type": "stream",
     "text": [
      "Epoch 1/5\n",
      "1500/1500 [==============================] - 4s 3ms/step - loss: 0.0129 - accuracy: 0.9957 - val_loss: 0.0972 - val_accuracy: 0.9793\n",
      "Epoch 2/5\n",
      "1500/1500 [==============================] - 3s 2ms/step - loss: 0.0124 - accuracy: 0.9954 - val_loss: 0.0926 - val_accuracy: 0.9812\n",
      "Epoch 3/5\n",
      "1500/1500 [==============================] - 3s 2ms/step - loss: 0.0122 - accuracy: 0.9958 - val_loss: 0.1097 - val_accuracy: 0.9797\n",
      "Epoch 4/5\n",
      "1500/1500 [==============================] - 3s 2ms/step - loss: 0.0134 - accuracy: 0.9954 - val_loss: 0.1065 - val_accuracy: 0.9794\n",
      "Epoch 5/5\n",
      "1500/1500 [==============================] - 3s 2ms/step - loss: 0.0130 - accuracy: 0.9956 - val_loss: 0.1058 - val_accuracy: 0.9796\n"
     ]
    }
   ],
   "source": [
    "# 定义 tensorboard callback\n",
    "tensorboard_callback = [tf.keras.callbacks.TensorBoard(log_dir='.\\\\logs', \n",
    "                       histogram_freq=1)]\n",
    "\n",
    "# 训练 5 次\n",
    "history = model.fit(x_train_norm, y_train, epochs=5, validation_split=0.2,\n",
    "                    callbacks=tensorboard_callback)"
   ]
  },
  {
   "cell_type": "code",
   "execution_count": 12,
   "metadata": {},
   "outputs": [
    {
     "data": {
      "text/plain": [
       "ERROR: Timed out waiting for TensorBoard to start. It may still be running as pid 14764."
      ]
     },
     "metadata": {},
     "output_type": "display_data"
    }
   ],
   "source": [
    "# 载入 TensorBoard notebook extension，即可在 jupyter notebook 启动 Tensorboard\n",
    "%load_ext tensorboard\n",
    "\n",
    "# 启动 Tensorboard\n",
    "%tensorboard --logdir ./logs"
   ]
  },
  {
   "cell_type": "code",
   "execution_count": 13,
   "metadata": {},
   "outputs": [
    {
     "ename": "NameError",
     "evalue": "name 'dataset' is not defined",
     "output_type": "error",
     "traceback": [
      "\u001b[1;31m---------------------------------------------------------------------------\u001b[0m",
      "\u001b[1;31mNameError\u001b[0m                                 Traceback (most recent call last)",
      "\u001b[1;32m<ipython-input-13-8d68b9754d70>\u001b[0m in \u001b[0;36m<module>\u001b[1;34m\u001b[0m\n\u001b[0;32m      5\u001b[0m     \u001b[0mtf\u001b[0m\u001b[1;33m.\u001b[0m\u001b[0mkeras\u001b[0m\u001b[1;33m.\u001b[0m\u001b[0mcallbacks\u001b[0m\u001b[1;33m.\u001b[0m\u001b[0mTensorBoard\u001b[0m\u001b[1;33m(\u001b[0m\u001b[0mlog_dir\u001b[0m\u001b[1;33m=\u001b[0m\u001b[1;34m'./logs'\u001b[0m\u001b[1;33m)\u001b[0m\u001b[1;33m,\u001b[0m\u001b[1;33m\u001b[0m\u001b[1;33m\u001b[0m\u001b[0m\n\u001b[0;32m      6\u001b[0m ]\n\u001b[1;32m----> 7\u001b[1;33m \u001b[0mmodel\u001b[0m\u001b[1;33m.\u001b[0m\u001b[0mfit\u001b[0m\u001b[1;33m(\u001b[0m\u001b[0mdataset\u001b[0m\u001b[1;33m,\u001b[0m \u001b[0mepochs\u001b[0m\u001b[1;33m=\u001b[0m\u001b[1;36m10\u001b[0m\u001b[1;33m,\u001b[0m \u001b[0mcallbacks\u001b[0m\u001b[1;33m=\u001b[0m\u001b[0mmy_callbacks\u001b[0m\u001b[1;33m)\u001b[0m\u001b[1;33m\u001b[0m\u001b[1;33m\u001b[0m\u001b[0m\n\u001b[0m",
      "\u001b[1;31mNameError\u001b[0m: name 'dataset' is not defined"
     ]
    }
   ],
   "source": [
    "# 可同时定义多个Callback事件\n",
    "my_callbacks = [\n",
    "    tf.keras.callbacks.EarlyStopping(patience=3),\n",
    "    tf.keras.callbacks.ModelCheckpoint(filepath='model.{epoch:02d}.h5'),\n",
    "    tf.keras.callbacks.TensorBoard(log_dir='./logs'),\n",
    "]\n",
    "model.fit(x_train_norm, y_train, epochs=10, callbacks=my_callbacks)"
   ]
  }
 ],
 "metadata": {
  "kernelspec": {
   "display_name": "Python 3",
   "language": "python",
   "name": "python3"
  },
  "language_info": {
   "codemirror_mode": {
    "name": "ipython",
    "version": 3
   },
   "file_extension": ".py",
   "mimetype": "text/x-python",
   "name": "python",
   "nbconvert_exporter": "python",
   "pygments_lexer": "ipython3",
   "version": "3.8.5"
  }
 },
 "nbformat": 4,
 "nbformat_minor": 4
}
