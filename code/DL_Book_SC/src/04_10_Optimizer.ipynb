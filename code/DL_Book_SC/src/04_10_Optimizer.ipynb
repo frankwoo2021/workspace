{
 "cells": [
  {
   "cell_type": "markdown",
   "metadata": {},
   "source": [
    "# 优化器(Optimizer)"
   ]
  },
  {
   "cell_type": "code",
   "execution_count": 1,
   "metadata": {},
   "outputs": [],
   "source": [
    "import tensorflow as tf\n",
    "from tensorflow.keras import optimizers\n",
    "import numpy as np\n",
    "import matplotlib.pyplot as plt"
   ]
  },
  {
   "cell_type": "markdown",
   "metadata": {},
   "source": [
    "## SGD语法"
   ]
  },
  {
   "cell_type": "code",
   "execution_count": 2,
   "metadata": {},
   "outputs": [
    {
     "data": {
      "text/plain": [
       "<tensorflow.python.keras.optimizer_v2.gradient_descent.SGD at 0x1dcfb8a3040>"
      ]
     },
     "execution_count": 2,
     "metadata": {},
     "output_type": "execute_result"
    }
   ],
   "source": [
    "# SGD\n",
    "tf.keras.optimizers.SGD(\n",
    "    learning_rate=0.01, momentum=0.0, nesterov=False, name=\"SGD\"\n",
    ")"
   ]
  },
  {
   "cell_type": "markdown",
   "metadata": {},
   "source": [
    "## 范例1. 随机梯度下降法 (Stochastic Gradient Descent, SGD) "
   ]
  },
  {
   "cell_type": "code",
   "execution_count": 3,
   "metadata": {},
   "outputs": [
    {
     "name": "stdout",
     "output_type": "stream",
     "text": [
      "优化的步骤:11, 变数:0.3138105869293213\n",
      "优化的步骤:21, 变数:0.10941898822784424\n",
      "优化的步骤:31, 变数:0.03815204277634621\n",
      "优化的步骤:41, 变数:0.013302796520292759\n",
      "优化的步骤:51, 变数:0.004638398066163063\n"
     ]
    }
   ],
   "source": [
    "# SGD\n",
    "opt = tf.keras.optimizers.SGD(learning_rate=0.1)\n",
    "\n",
    "# 任意变数\n",
    "var = tf.Variable(1.0)\n",
    "\n",
    "# 损失函数\n",
    "loss = lambda: (var ** 2)/2.0\n",
    "\n",
    "# step_count：优化的步骤\n",
    "for i in range(51):\n",
    "    step_count = opt.minimize(loss, [var]).numpy()\n",
    "    if i % 10 == 0 and i > 0:\n",
    "        print(f'优化的步骤:{step_count}, 变数:{var.numpy()}')"
   ]
  },
  {
   "cell_type": "markdown",
   "metadata": {},
   "source": [
    "## 范例2. 优化三次测试随机梯度下降法的动能"
   ]
  },
  {
   "cell_type": "code",
   "execution_count": 4,
   "metadata": {},
   "outputs": [
    {
     "name": "stdout",
     "output_type": "stream",
     "text": [
      "val0:1.0\n",
      "优化的步骤:1, val1:0.8999999761581421, 变化值:0.10000002384185791\n",
      "优化的步骤:2, val2:0.7199999690055847, 变化值:0.18000000715255737\n",
      "优化的步骤:3, val3:0.4860000014305115, 变化值:0.23399996757507324\n"
     ]
    }
   ],
   "source": [
    "opt = tf.keras.optimizers.SGD(learning_rate=0.1, momentum=0.9)\n",
    "var = tf.Variable(1.0)\n",
    "\n",
    "# 损失函数起始值\n",
    "val0 = var.value()\n",
    "print(f'val0:{val0}')\n",
    "# 损失函数\n",
    "loss = lambda: (var ** 2)/2.0\n",
    "\n",
    "# 优化第一次  \n",
    "step_count = opt.minimize(loss, [var]).numpy()\n",
    "val1 = var.value()\n",
    "print(f'优化的步骤:{step_count}, val1:{val1}, 变化值:{(val0 - val1).numpy()}')\n",
    "\n",
    "# 优化第二次  \n",
    "step_count = opt.minimize(loss, [var]).numpy()\n",
    "val2 = var.value()\n",
    "print(f'优化的步骤:{step_count}, val2:{val2}, 变化值:{(val1 - val2).numpy()}')\n",
    "\n",
    "# 优化第三次  \n",
    "step_count = opt.minimize(loss, [var]).numpy()\n",
    "val3 = var.value()\n",
    "print(f'优化的步骤:{step_count}, val3:{val3}, 变化值:{(val2 - val3).numpy()}')"
   ]
  },
  {
   "cell_type": "markdown",
   "metadata": {},
   "source": [
    "## Adam 语法"
   ]
  },
  {
   "cell_type": "code",
   "execution_count": 5,
   "metadata": {},
   "outputs": [
    {
     "data": {
      "text/plain": [
       "<tensorflow.python.keras.optimizer_v2.adam.Adam at 0x1dc938ad8e0>"
      ]
     },
     "execution_count": 5,
     "metadata": {},
     "output_type": "execute_result"
    }
   ],
   "source": [
    "# Adam\n",
    "tf.keras.optimizers.Adam(\n",
    "    learning_rate=0.001,\n",
    "    beta_1=0.9,\n",
    "    beta_2=0.999,\n",
    "    epsilon=1e-07,\n",
    "    amsgrad=False,\n",
    "    name=\"Adam\",\n",
    ")"
   ]
  },
  {
   "cell_type": "markdown",
   "metadata": {},
   "source": [
    "## 范例3. Adam 简单测试"
   ]
  },
  {
   "cell_type": "code",
   "execution_count": 6,
   "metadata": {},
   "outputs": [
    {
     "name": "stdout",
     "output_type": "stream",
     "text": [
      "优化的步骤:2, 变数:0.7015870809555054\n",
      "优化的步骤:4, 变数:0.5079653263092041\n",
      "优化的步骤:6, 变数:0.32342255115509033\n",
      "优化的步骤:8, 变数:0.15358668565750122\n",
      "优化的步骤:10, 变数:0.00513361394405365\n"
     ]
    }
   ],
   "source": [
    "# Adam\n",
    "opt = tf.keras.optimizers.Adam(learning_rate=0.1)\n",
    "\n",
    "# 任意变数\n",
    "var = tf.Variable(1.0)\n",
    "\n",
    "# 损失函数\n",
    "loss = lambda: (var ** 2)/2.0\n",
    "\n",
    "# step_count：优化的步骤\n",
    "for i in range(11):\n",
    "    step_count = opt.minimize(loss, [var]).numpy()\n",
    "    if i % 2 == 0 and i > 0:\n",
    "        print(f'优化的步骤:{step_count-1}, 变数:{var.numpy()}')"
   ]
  },
  {
   "cell_type": "code",
   "execution_count": null,
   "metadata": {},
   "outputs": [],
   "source": []
  }
 ],
 "metadata": {
  "kernelspec": {
   "display_name": "Python 3",
   "language": "python",
   "name": "python3"
  },
  "language_info": {
   "codemirror_mode": {
    "name": "ipython",
    "version": 3
   },
   "file_extension": ".py",
   "mimetype": "text/x-python",
   "name": "python",
   "nbconvert_exporter": "python",
   "pygments_lexer": "ipython3",
   "version": "3.8.5"
  }
 },
 "nbformat": 4,
 "nbformat_minor": 4
}
