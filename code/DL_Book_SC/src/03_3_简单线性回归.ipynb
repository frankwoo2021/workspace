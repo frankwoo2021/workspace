{
 "cells": [
  {
   "cell_type": "markdown",
   "metadata": {},
   "source": [
    "# 范例1. 使用自动微分估算简单线性回归的参数(w、b)\n",
    "## $ y = wx + b$"
   ]
  },
  {
   "cell_type": "code",
   "execution_count": 1,
   "metadata": {},
   "outputs": [],
   "source": [
    "# 载入套件\n",
    "import numpy as np \n",
    "import tensorflow as tf "
   ]
  },
  {
   "cell_type": "markdown",
   "metadata": {},
   "source": [
    "## 定义训练函数"
   ]
  },
  {
   "cell_type": "code",
   "execution_count": 2,
   "metadata": {},
   "outputs": [],
   "source": [
    "# 定义损失函数\n",
    "def loss(y, y_pred):\n",
    "    return tf.reduce_mean(tf.square(y - y_pred))"
   ]
  },
  {
   "cell_type": "code",
   "execution_count": 3,
   "metadata": {},
   "outputs": [],
   "source": [
    "# 定义预测值函数\n",
    "def predict(X):\n",
    "    return w * X + b    "
   ]
  },
  {
   "cell_type": "code",
   "execution_count": 4,
   "metadata": {},
   "outputs": [],
   "source": [
    "# 定义训练函数\n",
    "def train(X, y, epochs=40, lr=0.0001):\n",
    "    current_loss=0                                # 损失函数值\n",
    "    for epoch in range(epochs):                   # 执行训练周期\n",
    "        with tf.GradientTape() as t:              # 自动微分\n",
    "            t.watch(tf.constant(X))               # 宣告 TensorFlow 常数参与自动微分\n",
    "            current_loss = loss(y, predict(X))    # 计算损失函数值\n",
    "        \n",
    "        dw, db = t.gradient(current_loss, [w, b]) # 取得 w, b 个别的梯度\n",
    "\n",
    "        # 更新权重：新权重 = 原权重 — 学习率(learning_rate) * 梯度(gradient)\n",
    "        w.assign_sub(lr * dw) # w -= lr * dw\n",
    "        b.assign_sub(lr * db) # b -= lr * db\n",
    "\n",
    "        # 显示每一训练周期的损失函数\n",
    "        print(f'Epoch {epoch}: Loss: {current_loss.numpy()}') "
   ]
  },
  {
   "cell_type": "markdown",
   "metadata": {},
   "source": [
    "## 产生随机资料"
   ]
  },
  {
   "cell_type": "code",
   "execution_count": 5,
   "metadata": {},
   "outputs": [],
   "source": [
    "# 产生线性随机资料100笔，介于 0-50\n",
    "n = 100\n",
    "X = np.linspace(0, 50, n) \n",
    "y = np.linspace(0, 50, n) \n",
    "  \n",
    "# 资料加一点杂讯(noise)\n",
    "X += np.random.uniform(-10, 10, n) \n",
    "y += np.random.uniform(-10, 10, n) "
   ]
  },
  {
   "cell_type": "code",
   "execution_count": 6,
   "metadata": {},
   "outputs": [
    {
     "data": {
      "text/plain": [
       "array([ 2.39407314, -5.00590534,  1.73482828, -1.18315113, -7.69932121,\n",
       "        1.7237677 , -5.33653501, 10.9963007 , -3.97331795,  5.87252545,\n",
       "        2.47339408,  4.45685647,  2.74549174,  4.76755712,  1.47855095,\n",
       "       11.37299164,  8.93055215,  7.99236085,  1.68157249, 16.5093615 ,\n",
       "       19.68210814, 19.15746989,  7.81997355,  7.5131168 ,  8.42535659,\n",
       "        8.0818436 , 18.24294332,  8.95206111,  9.24411614, 12.3943889 ,\n",
       "        6.51106545, 24.15212604, 11.08595065, 20.25932115, 25.76717912,\n",
       "       19.21219205, 27.33674274, 27.28924808, 20.06840124, 16.63462951,\n",
       "       24.88384721, 28.62365283, 22.82200978, 14.67988211, 14.44665862,\n",
       "       20.1504519 , 19.66084398, 20.55131147, 28.39554927, 17.42528644,\n",
       "       31.35850323, 20.39865618, 26.58455805, 28.60545777, 26.44824826,\n",
       "       37.39113411, 33.5502526 , 25.5846261 , 28.43358272, 34.95632191,\n",
       "       32.68856501, 26.26140668, 37.84095579, 29.95811279, 35.74465415,\n",
       "       30.65100502, 28.617077  , 43.72671041, 36.71908044, 26.08567465,\n",
       "       40.30443984, 43.33055399, 26.5117094 , 42.69465014, 43.67039756,\n",
       "       30.81885941, 37.82901868, 45.73199465, 36.25869933, 33.23176252,\n",
       "       38.75335105, 41.43201386, 36.12564925, 41.81818091, 51.95846385,\n",
       "       47.5540077 , 38.21570364, 40.88709908, 47.6952869 , 36.23891924,\n",
       "       52.06930072, 47.39805205, 45.52118922, 48.56562764, 50.08359458,\n",
       "       52.24708975, 45.2075516 , 58.14524889, 46.31629453, 44.82989145])"
      ]
     },
     "execution_count": 6,
     "metadata": {},
     "output_type": "execute_result"
    }
   ],
   "source": [
    "X"
   ]
  },
  {
   "cell_type": "code",
   "execution_count": 7,
   "metadata": {
    "scrolled": true
   },
   "outputs": [
    {
     "data": {
      "text/plain": [
       "array([ 0.29780432, -2.03788278, -5.71206289,  3.78849764,  8.8057983 ,\n",
       "       11.72324187, -1.90603352, 11.02851198, -0.57861929,  3.65367212,\n",
       "       11.36939081, -3.50379899,  6.65614343, -1.227231  ,  1.78838602,\n",
       "       15.32575598, 11.36641493, -0.69333511, 16.8323414 ,  0.1535731 ,\n",
       "        9.79060672,  9.27091946,  9.55360217, 19.83599222, 16.17751098,\n",
       "       17.3308473 ,  4.83590737,  4.29802059, 21.10494367,  6.24413352,\n",
       "       21.3190531 , 11.73742896, 22.54771153, 17.91014005, 15.92516429,\n",
       "       14.95562589, 18.00288842, 13.70647051, 10.29981934, 12.28650382,\n",
       "       15.94214252, 26.06117789, 25.66560837, 23.68127766, 14.54718981,\n",
       "       17.60307806, 20.58219819, 16.01952369, 18.62209154, 32.91716089,\n",
       "       26.20176254, 31.77093598, 19.35983815, 30.47245701, 28.08724614,\n",
       "       20.0618215 , 21.99099638, 27.08737802, 31.10089333, 23.46632622,\n",
       "       25.53785003, 32.3614844 , 34.97271029, 40.88941282, 40.24705794,\n",
       "       41.1285527 , 35.88847905, 35.60114699, 44.11065761, 31.33481697,\n",
       "       30.67250297, 37.02249057, 33.79846009, 38.04102559, 29.72389206,\n",
       "       43.48998792, 40.18366367, 44.04455721, 49.38591659, 45.91180466,\n",
       "       37.07895951, 48.47935263, 42.45347143, 32.70487662, 41.01403103,\n",
       "       33.66560027, 37.20168117, 47.3253105 , 50.95872813, 52.28763946,\n",
       "       41.5913086 , 53.64907727, 43.12052555, 50.77169606, 43.07364166,\n",
       "       56.58484498, 38.48504398, 58.85269658, 53.65530681, 53.22959915])"
      ]
     },
     "execution_count": 7,
     "metadata": {},
     "output_type": "execute_result"
    }
   ],
   "source": [
    "y"
   ]
  },
  {
   "cell_type": "markdown",
   "metadata": {},
   "source": [
    "## 执行训练"
   ]
  },
  {
   "cell_type": "code",
   "execution_count": 8,
   "metadata": {
    "scrolled": false
   },
   "outputs": [
    {
     "name": "stdout",
     "output_type": "stream",
     "text": [
      "Epoch 0: Loss: 896.6968994140625\n",
      "Epoch 1: Loss: 629.826171875\n",
      "Epoch 2: Loss: 449.1460876464844\n",
      "Epoch 3: Loss: 326.8198547363281\n",
      "Epoch 4: Loss: 244.0009765625\n",
      "Epoch 5: Loss: 187.9298858642578\n",
      "Epoch 6: Loss: 149.96783447265625\n",
      "Epoch 7: Loss: 124.26622772216797\n",
      "Epoch 8: Loss: 106.86534118652344\n",
      "Epoch 9: Loss: 95.08428955078125\n",
      "Epoch 10: Loss: 87.10802459716797\n",
      "Epoch 11: Loss: 81.70777130126953\n",
      "Epoch 12: Loss: 78.05152130126953\n",
      "Epoch 13: Loss: 75.57601928710938\n",
      "Epoch 14: Loss: 73.89994049072266\n",
      "Epoch 15: Loss: 72.76507568359375\n",
      "Epoch 16: Loss: 71.99665832519531\n",
      "Epoch 17: Loss: 71.476318359375\n",
      "Epoch 18: Loss: 71.12393188476562\n",
      "Epoch 19: Loss: 70.88525390625\n",
      "Epoch 20: Loss: 70.72357177734375\n",
      "Epoch 21: Loss: 70.61402130126953\n",
      "Epoch 22: Loss: 70.53974151611328\n",
      "Epoch 23: Loss: 70.48937225341797\n",
      "Epoch 24: Loss: 70.4551773071289\n",
      "Epoch 25: Loss: 70.43192291259766\n",
      "Epoch 26: Loss: 70.41608428955078\n",
      "Epoch 27: Loss: 70.40528106689453\n",
      "Epoch 28: Loss: 70.39785766601562\n",
      "Epoch 29: Loss: 70.39274597167969\n",
      "Epoch 30: Loss: 70.3891830444336\n",
      "Epoch 31: Loss: 70.38668060302734\n",
      "Epoch 32: Loss: 70.38489532470703\n",
      "Epoch 33: Loss: 70.38359069824219\n",
      "Epoch 34: Loss: 70.38260650634766\n",
      "Epoch 35: Loss: 70.38185119628906\n",
      "Epoch 36: Loss: 70.3812484741211\n",
      "Epoch 37: Loss: 70.38074493408203\n",
      "Epoch 38: Loss: 70.38031005859375\n",
      "Epoch 39: Loss: 70.37992095947266\n",
      "w=0.9648029208183289, b=0.03414569050073624\n"
     ]
    }
   ],
   "source": [
    "# w、b 初始值均设为 0\n",
    "w = tf.Variable(0.0)\n",
    "b = tf.Variable(0.0)\n",
    "\n",
    "# 执行训练\n",
    "train(X, y)\n",
    "\n",
    "# w、b 的最佳解\n",
    "print(f'w={w.numpy()}, b={b.numpy()}')"
   ]
  },
  {
   "cell_type": "markdown",
   "metadata": {},
   "source": [
    "## 显示回归线"
   ]
  },
  {
   "cell_type": "code",
   "execution_count": 9,
   "metadata": {},
   "outputs": [
    {
     "data": {
      "text/plain": [
       "<matplotlib.legend.Legend at 0x188e2098ca0>"
      ]
     },
     "execution_count": 9,
     "metadata": {},
     "output_type": "execute_result"
    },
    {
     "data": {
      "image/png": "[encoded data removed]",
      "text/plain": [
       "<Figure size 432x288 with 1 Axes>"
      ]
     },
     "metadata": {
      "needs_background": "light"
     },
     "output_type": "display_data"
    }
   ],
   "source": [
    "import matplotlib.pyplot as plt \n",
    "\n",
    "plt.scatter(X, y, label='data')\n",
    "plt.plot(X, predict(X), 'r-', label='predicted')\n",
    "plt.legend()"
   ]
  },
  {
   "cell_type": "code",
   "execution_count": null,
   "metadata": {},
   "outputs": [],
   "source": []
  }
 ],
 "metadata": {
  "kernelspec": {
   "display_name": "Python 3",
   "language": "python",
   "name": "python3"
  },
  "language_info": {
   "codemirror_mode": {
    "name": "ipython",
    "version": 3
   },
   "file_extension": ".py",
   "mimetype": "text/x-python",
   "name": "python",
   "nbconvert_exporter": "python",
   "pygments_lexer": "ipython3",
   "version": "3.8.5"
  }
 },
 "nbformat": 4,
 "nbformat_minor": 4
}
