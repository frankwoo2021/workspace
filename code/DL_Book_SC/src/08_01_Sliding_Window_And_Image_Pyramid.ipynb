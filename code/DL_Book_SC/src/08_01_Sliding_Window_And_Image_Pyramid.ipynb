{
 "cells": [
  {
   "cell_type": "markdown",
   "metadata": {},
   "source": [
    "# 范例1. 对图片滑动视窗并作影像金字塔\n",
    "### 原程式来自Sliding Windows for Object Detection with Python and OpenCV (https://www.pyimagesearch.com/2015/03/23/sliding-windows-for-object-detection-with-python-and-opencv/)"
   ]
  },
  {
   "cell_type": "code",
   "execution_count": 1,
   "metadata": {},
   "outputs": [
    {
     "name": "stdout",
     "output_type": "stream",
     "text": [
      "Requirement already satisfied: opencv-python in c:\\users\\ariel\\anaconda3\\lib\\site-packages (4.5.3.56)\n",
      "Requirement already satisfied: numpy>=1.17.3 in c:\\users\\ariel\\anaconda3\\lib\\site-packages (from opencv-python) (1.19.2)\n",
      "Collecting imutils\n",
      "  Downloading imutils-0.5.4.tar.gz (17 kB)\n",
      "Building wheels for collected packages: imutils\n",
      "  Building wheel for imutils (setup.py): started\n",
      "  Building wheel for imutils (setup.py): finished with status 'done'\n",
      "  Created wheel for imutils: filename=imutils-0.5.4-py3-none-any.whl size=25862 sha256=9f57866070d0e7e5f5aab1bd6048744f883de3c2caaaf00280e4fd04ad8c6f42\n",
      "  Stored in directory: c:\\users\\ariel\\appdata\\local\\pip\\cache\\wheels\\59\\1b\\52\\0dea905f8278d5514dc4d0be5e251967f8681670cadd3dca89\n",
      "Successfully built imutils\n",
      "Installing collected packages: imutils\n",
      "Successfully installed imutils-0.5.4\n"
     ]
    }
   ],
   "source": [
    "# 需安装 OpenCV、imutils\n",
    "!pip install opencv-python\n",
    "!pip install imutils"
   ]
  },
  {
   "cell_type": "code",
   "execution_count": 2,
   "metadata": {},
   "outputs": [],
   "source": [
    "# 载入套件\n",
    "import cv2\n",
    "import time\n",
    "import imutils"
   ]
  },
  {
   "cell_type": "code",
   "execution_count": 3,
   "metadata": {},
   "outputs": [],
   "source": [
    "# 影像金字塔操作\n",
    "# image：原图，scale：每次缩小倍数，minSize：最小尺寸\n",
    "def pyramid(image, scale=1.5, minSize=(30, 30)):\n",
    "    # 第一次传回原图\n",
    "    yield image\n",
    "\n",
    "    while True:\n",
    "        # 计算缩小后的尺寸\n",
    "        w = int(image.shape[1] / scale)\n",
    "        # 缩小\n",
    "        image = imutils.resize(image, width=w)\n",
    "        # 直到最小尺寸为止\n",
    "        if image.shape[0] < minSize[1] or image.shape[1] < minSize[0]:\n",
    "            break\n",
    "        # 传回缩小后的图像\n",
    "        yield image"
   ]
  },
  {
   "cell_type": "code",
   "execution_count": 4,
   "metadata": {},
   "outputs": [],
   "source": [
    "# 滑动视窗        \n",
    "def sliding_window(image, stepSize, windowSize):    \n",
    "    for y in range(0, image.shape[0], stepSize):     # 向下滑动 stepSize 格\n",
    "        for x in range(0, image.shape[1], stepSize): # 向右滑动 stepSize 格\n",
    "            # 传回裁剪后的视窗\n",
    "            yield (x, y, image[y:y + windowSize[1], x:x + windowSize[0]])"
   ]
  },
  {
   "cell_type": "markdown",
   "metadata": {},
   "source": [
    "## 测试"
   ]
  },
  {
   "cell_type": "code",
   "execution_count": 5,
   "metadata": {},
   "outputs": [],
   "source": [
    "# 读取一个图档\n",
    "image = cv2.imread('./images_Object_Detection/lena.jpg')\n",
    "\n",
    "# 视窗尺寸\n",
    "(winW, winH) = (128, 128)\n",
    "\n",
    "# 取得影像金字塔各种尺寸\n",
    "for resized in pyramid(image, scale=1.5):\n",
    "    # 滑动视窗\n",
    "    for (x, y, window) in sliding_window(resized, stepSize=32, \n",
    "                                         windowSize=(winW, winH)):\n",
    "        # 视窗尺寸不合即放弃，滑动至边缘时，尺寸过小\n",
    "        if window.shape[0] != winH or window.shape[1] != winW:\n",
    "            continue\n",
    "        # 标示滑动的视窗\n",
    "        clone = resized.copy()\n",
    "        cv2.rectangle(clone, (x, y), (x + winW, y + winH), (0, 255, 0), 2)\n",
    "        cv2.imshow(\"Window\", clone)\n",
    "        cv2.waitKey(1)\n",
    "        # 暂停\n",
    "        time.sleep(0.025)\n",
    "\n",
    "# 结束时关闭视窗        \n",
    "cv2.destroyAllWindows()"
   ]
  },
  {
   "cell_type": "code",
   "execution_count": null,
   "metadata": {},
   "outputs": [],
   "source": []
  }
 ],
 "metadata": {
  "kernelspec": {
   "display_name": "Python 3",
   "language": "python",
   "name": "python3"
  },
  "language_info": {
   "codemirror_mode": {
    "name": "ipython",
    "version": 3
   },
   "file_extension": ".py",
   "mimetype": "text/x-python",
   "name": "python",
   "nbconvert_exporter": "python",
   "pygments_lexer": "ipython3",
   "version": "3.8.5"
  }
 },
 "nbformat": 4,
 "nbformat_minor": 4
}
