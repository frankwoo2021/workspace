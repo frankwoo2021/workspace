{
 "cells": [
  {
   "cell_type": "code",
   "execution_count": 13,
   "metadata": {},
   "outputs": [],
   "source": [
    "# 载入相关套件\n",
    "import gym\n",
    "from gym import envs"
   ]
  },
  {
   "cell_type": "markdown",
   "metadata": {},
   "source": [
    "## 随机行动"
   ]
  },
  {
   "cell_type": "code",
   "execution_count": null,
   "metadata": {},
   "outputs": [],
   "source": [
    "# 参数设定\n",
    "no = 50        # 比赛回合数"
   ]
  },
  {
   "cell_type": "code",
   "execution_count": 14,
   "metadata": {},
   "outputs": [],
   "source": [
    "# 载入 木棒台车(CartPole) 游戏\n",
    "env = gym.make(\"CartPole-v0\")\n",
    "\n",
    "# 重置\n",
    "observation = env.reset()\n",
    "all_rewards=[] # 每回合总报酬\n",
    "all_steps=[] # 每回合总步数\n",
    "total_rewards = 0\n",
    "total_steps=0\n",
    "\n",
    "while no > 0:   # 执行 50 比赛回合数\n",
    "    # 随机行动\n",
    "    action = env.action_space.sample() \n",
    "    total_steps+=1\n",
    "\n",
    "    # 触动下一步\n",
    "    observation, reward, done, info = env.step(action)\n",
    "    # 累计报酬\n",
    "    total_rewards += reward\n",
    "\n",
    "    # 比赛回合结束，重置\n",
    "    if done:\n",
    "        observation = env.reset()\n",
    "        all_rewards.append(total_rewards)\n",
    "        all_steps.append(total_steps)\n",
    "        total_rewards = 0\n",
    "        total_steps=0\n",
    "        no-=1\n",
    "\n",
    "env.close()"
   ]
  },
  {
   "cell_type": "code",
   "execution_count": 15,
   "metadata": {},
   "outputs": [
    {
     "name": "stdout",
     "output_type": "stream",
     "text": [
      "回合\t报酬\t结果\n",
      "0\t18.0\tLoss\n",
      "1\t55.0\tLoss\n",
      "2\t38.0\tLoss\n",
      "3\t11.0\tLoss\n",
      "4\t34.0\tLoss\n",
      "5\t51.0\tLoss\n",
      "6\t15.0\tLoss\n",
      "7\t20.0\tLoss\n",
      "8\t11.0\tLoss\n",
      "9\t32.0\tLoss\n",
      "10\t13.0\tLoss\n",
      "11\t22.0\tLoss\n",
      "12\t21.0\tLoss\n",
      "13\t15.0\tLoss\n",
      "14\t57.0\tLoss\n",
      "15\t11.0\tLoss\n",
      "16\t46.0\tLoss\n",
      "17\t16.0\tLoss\n",
      "18\t16.0\tLoss\n",
      "19\t10.0\tLoss\n",
      "20\t17.0\tLoss\n",
      "21\t13.0\tLoss\n",
      "22\t15.0\tLoss\n",
      "23\t19.0\tLoss\n",
      "24\t14.0\tLoss\n",
      "25\t32.0\tLoss\n",
      "26\t14.0\tLoss\n",
      "27\t10.0\tLoss\n",
      "28\t21.0\tLoss\n",
      "29\t15.0\tLoss\n",
      "30\t32.0\tLoss\n",
      "31\t21.0\tLoss\n",
      "32\t16.0\tLoss\n",
      "33\t13.0\tLoss\n",
      "34\t15.0\tLoss\n",
      "35\t14.0\tLoss\n",
      "36\t27.0\tLoss\n",
      "37\t21.0\tLoss\n",
      "38\t12.0\tLoss\n",
      "39\t34.0\tLoss\n",
      "40\t28.0\tLoss\n",
      "41\t28.0\tLoss\n",
      "42\t30.0\tLoss\n",
      "43\t27.0\tLoss\n",
      "44\t20.0\tLoss\n",
      "45\t11.0\tLoss\n",
      "46\t14.0\tLoss\n",
      "47\t36.0\tLoss\n",
      "48\t26.0\tLoss\n",
      "49\t38.0\tLoss\n"
     ]
    }
   ],
   "source": [
    "# 显示执行结果\n",
    "print('回合\\t报酬\\t结果')\n",
    "for i, (rewards, steps) in enumerate(zip(all_rewards, all_steps)):\n",
    "    result = 'Win' if steps >= 200 else 'Loss'\n",
    "    print(f'{i}\\t{rewards}\\t{result}')"
   ]
  },
  {
   "cell_type": "markdown",
   "metadata": {},
   "source": [
    "## 传统解法"
   ]
  },
  {
   "cell_type": "code",
   "execution_count": 16,
   "metadata": {},
   "outputs": [],
   "source": [
    "import math \n",
    "\n",
    "# 参数设定\n",
    "left, right = 0, 1  # 台车行进方向\n",
    "max_angle = 8       # 偏右8度以上，就往右前进，偏左也是同样处理"
   ]
  },
  {
   "cell_type": "code",
   "execution_count": 17,
   "metadata": {},
   "outputs": [],
   "source": [
    "class Agent:\n",
    "    # 初始化\n",
    "    def __init__(self):\n",
    "        self.direction = left\n",
    "        self.last_direction=right\n",
    "        \n",
    "    # 自订策略\n",
    "    def act(self, observation):\n",
    "        # 台车位置、台车速度、平衡杆角度、平衡杆速度\n",
    "        cart_position, cart_velocity, pole_angle, pole_velocity = observation\n",
    "        \n",
    "        '''\n",
    "        行动策略：\n",
    "        1. 设定每次行动采一左一右，尽量不离中心点。\n",
    "        2. 平衡杆角度偏右8度以上，就往右前进，直到角度偏右小于8度。\n",
    "        3. 反之，偏左也是同样处理。\n",
    "        '''\n",
    "        if pole_angle < math.radians(max_angle) and \\\n",
    "            pole_angle > math.radians(-max_angle):\n",
    "            self.direction = (self.last_direction + 1) % 2\n",
    "        elif pole_angle >= math.radians(max_angle):\n",
    "            self.direction = right\n",
    "        else:\n",
    "            self.direction = left\n",
    "\n",
    "        self.last_direction = self.direction\n",
    "        \n",
    "        return self.direction  "
   ]
  },
  {
   "cell_type": "code",
   "execution_count": 18,
   "metadata": {},
   "outputs": [],
   "source": [
    "no = 50        # 比赛回合数\n",
    "\n",
    "# 载入 木棒台车(CartPole) 游戏\n",
    "env = gym.make(\"CartPole-v0\")\n",
    "\n",
    "# 重置\n",
    "observation = env.reset()\n",
    "all_rewards=[] # 每回合总报酬\n",
    "all_steps=[] # 每回合总步数\n",
    "total_rewards = 0\n",
    "total_steps=0\n",
    "\n",
    "agent = Agent()\n",
    "while no > 0:   # 执行 50 比赛回合数\n",
    "    # 行动\n",
    "    action = agent.act(observation) #env.action_space.sample()\n",
    "    total_steps+=1\n",
    "\n",
    "    # 触动下一步\n",
    "    observation, reward, done, info = env.step(action)\n",
    "    # 累计报酬\n",
    "    total_rewards += reward\n",
    "\n",
    "    # 比赛回合结束，重置\n",
    "    if done:\n",
    "        observation = env.reset()\n",
    "        all_rewards.append(total_rewards)\n",
    "        total_rewards = 0\n",
    "        all_steps.append(total_steps)\n",
    "        total_steps = 0\n",
    "        no-=1\n",
    "\n",
    "env.close()"
   ]
  },
  {
   "cell_type": "code",
   "execution_count": 19,
   "metadata": {},
   "outputs": [
    {
     "name": "stdout",
     "output_type": "stream",
     "text": [
      "回合\t报酬\t结果\n",
      "0\t103.0\tLoss\n",
      "1\t86.0\tLoss\n",
      "2\t116.0\tLoss\n",
      "3\t125.0\tLoss\n",
      "4\t119.0\tLoss\n",
      "5\t117.0\tLoss\n",
      "6\t165.0\tLoss\n",
      "7\t55.0\tLoss\n",
      "8\t200.0\tWin\n",
      "9\t88.0\tLoss\n",
      "10\t99.0\tLoss\n",
      "11\t45.0\tLoss\n",
      "12\t90.0\tLoss\n",
      "13\t69.0\tLoss\n",
      "14\t75.0\tLoss\n",
      "15\t70.0\tLoss\n",
      "16\t48.0\tLoss\n",
      "17\t107.0\tLoss\n",
      "18\t98.0\tLoss\n",
      "19\t51.0\tLoss\n",
      "20\t51.0\tLoss\n",
      "21\t93.0\tLoss\n",
      "22\t122.0\tLoss\n",
      "23\t91.0\tLoss\n",
      "24\t100.0\tLoss\n",
      "25\t92.0\tLoss\n",
      "26\t121.0\tLoss\n",
      "27\t65.0\tLoss\n",
      "28\t128.0\tLoss\n",
      "29\t104.0\tLoss\n",
      "30\t77.0\tLoss\n",
      "31\t110.0\tLoss\n",
      "32\t71.0\tLoss\n",
      "33\t167.0\tLoss\n",
      "34\t108.0\tLoss\n",
      "35\t69.0\tLoss\n",
      "36\t46.0\tLoss\n",
      "37\t131.0\tLoss\n",
      "38\t105.0\tLoss\n",
      "39\t43.0\tLoss\n",
      "40\t121.0\tLoss\n",
      "41\t68.0\tLoss\n",
      "42\t81.0\tLoss\n",
      "43\t52.0\tLoss\n",
      "44\t52.0\tLoss\n",
      "45\t174.0\tLoss\n",
      "46\t42.0\tLoss\n",
      "47\t73.0\tLoss\n",
      "48\t95.0\tLoss\n",
      "49\t68.0\tLoss\n"
     ]
    }
   ],
   "source": [
    "# 显示执行结果\n",
    "print('回合\\t报酬\\t结果')\n",
    "for i, (rewards, steps) in enumerate(zip(all_rewards, all_steps)):\n",
    "    result = 'Win' if steps >= 200 else 'Loss'\n",
    "    print(f'{i}\\t{rewards}\\t{result}')"
   ]
  },
  {
   "cell_type": "code",
   "execution_count": null,
   "metadata": {},
   "outputs": [],
   "source": []
  },
  {
   "cell_type": "code",
   "execution_count": null,
   "metadata": {},
   "outputs": [],
   "source": []
  }
 ],
 "metadata": {
  "kernelspec": {
   "display_name": "Python 3",
   "language": "python",
   "name": "python3"
  },
  "language_info": {
   "codemirror_mode": {
    "name": "ipython",
    "version": 3
   },
   "file_extension": ".py",
   "mimetype": "text/x-python",
   "name": "python",
   "nbconvert_exporter": "python",
   "pygments_lexer": "ipython3",
   "version": "3.8.5"
  }
 },
 "nbformat": 4,
 "nbformat_minor": 2
}
