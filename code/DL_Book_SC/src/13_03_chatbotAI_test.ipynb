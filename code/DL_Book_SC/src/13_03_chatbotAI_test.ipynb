{
 "cells": [
  {
   "cell_type": "markdown",
   "metadata": {},
   "source": [
    "# chatbotAI 测试"
   ]
  },
  {
   "cell_type": "markdown",
   "metadata": {},
   "source": [
    "## 载入相关套件"
   ]
  },
  {
   "cell_type": "code",
   "execution_count": null,
   "metadata": {},
   "outputs": [
    {
     "name": "stdout",
     "output_type": "stream",
     "text": [
      "^C\n"
     ]
    }
   ],
   "source": [
    "!pip install chatbotAI"
   ]
  },
  {
   "cell_type": "code",
   "execution_count": 1,
   "metadata": {},
   "outputs": [],
   "source": [
    "# 载入相关套件\n",
    "from chatbot import demo"
   ]
  },
  {
   "cell_type": "markdown",
   "metadata": {},
   "source": [
    "## 功能展示"
   ]
  },
  {
   "cell_type": "code",
   "execution_count": 4,
   "metadata": {
    "scrolled": true
   },
   "outputs": [
    {
     "name": "stdout",
     "output_type": "stream",
     "text": [
      "Hi, how are you?\n",
      "> fine\n",
      "  Nice to know that you are fine. What else? \n",
      "> what is your name?\n",
      "My name is ChatBot\n",
      "> are you male?\n",
      "I may be male? -- what do you think?\n",
      "> how old are you?\n",
      "Perhaps you can answer your own question.\n",
      "> are you a kid?\n",
      "Perhaps you believe I am a kid.\n",
      "> should I get out tomorrow?\n",
      "Why do you ask that?\n",
      "> weather\n",
      "Let's change focus a bit... Tell me about your family.\n",
      "> I have one brother\n",
      "Now that you have one brother, what will you do next?\n",
      "> quit\n",
      "Thank you for talking with me.\n"
     ]
    }
   ],
   "source": [
    "# 功能展示\n",
    "demo()"
   ]
  },
  {
   "cell_type": "code",
   "execution_count": 2,
   "metadata": {},
   "outputs": [
    {
     "name": "stdout",
     "output_type": "stream",
     "text": [
      "Collecting wikipedia\n",
      "  Downloading wikipedia-1.4.0.tar.gz (27 kB)\n",
      "Requirement already satisfied: beautifulsoup4 in c:\\users\\ariel\\anaconda3\\lib\\site-packages (from wikipedia) (4.9.3)\n",
      "Requirement already satisfied: requests<3.0.0,>=2.0.0 in c:\\users\\ariel\\anaconda3\\lib\\site-packages (from wikipedia) (2.24.0)\n",
      "Requirement already satisfied: soupsieve>1.2; python_version >= \"3.0\" in c:\\users\\ariel\\anaconda3\\lib\\site-packages (from beautifulsoup4->wikipedia) (2.0.1)\n",
      "Requirement already satisfied: urllib3!=1.25.0,!=1.25.1,<1.26,>=1.21.1 in c:\\users\\ariel\\anaconda3\\lib\\site-packages (from requests<3.0.0,>=2.0.0->wikipedia) (1.25.11)\n",
      "Requirement already satisfied: certifi>=2017.4.17 in c:\\users\\ariel\\anaconda3\\lib\\site-packages (from requests<3.0.0,>=2.0.0->wikipedia) (2020.6.20)\n",
      "Requirement already satisfied: chardet<4,>=3.0.2 in c:\\users\\ariel\\anaconda3\\lib\\site-packages (from requests<3.0.0,>=2.0.0->wikipedia) (3.0.4)\n",
      "Requirement already satisfied: idna<3,>=2.5 in c:\\users\\ariel\\anaconda3\\lib\\site-packages (from requests<3.0.0,>=2.0.0->wikipedia) (2.10)\n",
      "Building wheels for collected packages: wikipedia\n",
      "  Building wheel for wikipedia (setup.py): started\n",
      "  Building wheel for wikipedia (setup.py): finished with status 'done'\n",
      "  Created wheel for wikipedia: filename=wikipedia-1.4.0-py3-none-any.whl size=11689 sha256=12ababaee29f788773c6488435470d05c05b9141c1df2fb243e7ede9d3e1e5b4\n",
      "  Stored in directory: c:\\users\\ariel\\appdata\\local\\pip\\cache\\wheels\\07\\93\\05\\72c05349177dca2e0ba31a33ba4f7907606f7ddef303517c6a\n",
      "Successfully built wikipedia\n",
      "Installing collected packages: wikipedia\n",
      "Successfully installed wikipedia-1.4.0\n"
     ]
    }
   ],
   "source": [
    "!pip install wikipedia"
   ]
  },
  {
   "cell_type": "code",
   "execution_count": 3,
   "metadata": {},
   "outputs": [],
   "source": [
    "# 载入相关套件\n",
    "from chatbot import Chat, register_call\n",
    "import wikipedia\n",
    "\n",
    "# 注册可接收的关键字及负责回应的模组\n",
    "@register_call(\"whoIs\")\n",
    "def who_is(session, query):\n",
    "    try:\n",
    "        # 回应\n",
    "        return wikipedia.summary(query)\n",
    "    # 例外处理\n",
    "    except Exception:\n",
    "        for new_query in wikipedia.search(query):\n",
    "            try:\n",
    "                return wikipedia.summary(new_query)\n",
    "            except Exception:\n",
    "                pass\n",
    "    return \"I don't know about \"+query"
   ]
  },
  {
   "cell_type": "code",
   "execution_count": 4,
   "metadata": {},
   "outputs": [],
   "source": [
    "import warnings\n",
    "\n",
    "warnings.filterwarnings('ignore')"
   ]
  },
  {
   "cell_type": "code",
   "execution_count": 10,
   "metadata": {},
   "outputs": [
    {
     "name": "stdout",
     "output_type": "stream",
     "text": [
      "Hi, how are you?\n",
      "> fine\n",
      "  Nice to know that you are fine. What else? \n",
      "> what is tensor\n",
      "In mathematics, a tensor is an algebraic object that describes a (multilinear) relationship between sets of algebraic objects related to a vector space. Objects that tensors may map between include vectors and scalars, and even other tensors. Tensors can take several different forms – for example: scalars and vectors (which are the simplest tensors), dual vectors, multilinear maps between vector spaces, and even some operations such as the dot product. Tensors are defined independent of any basis, although they are often referred to by their components in a basis related to a particular coordinate system.\n",
      "Tensors are important in physics because they provide a concise mathematical framework for formulating and solving physics problems in areas such as mechanics (stress, elasticity, fluid mechanics, moment of inertia, ...), electrodynamics (electromagnetic tensor, Maxwell tensor, permittivity, magnetic susceptibility, ...), or general relativity (stress–energy tensor, curvature tensor, ... ) and others. In applications, it is common to study situations in which a different tensor can occur at each point of an object; for example the stress within an object may vary from one location to another. This leads to the concept of a tensor field. In some areas, tensor fields are so ubiquitous that they are often simply called \"tensors\".\n",
      "Tensors were conceived in 1900 by Tullio Levi-Civita and Gregorio Ricci-Curbastro, who continued the earlier work of Bernhard Riemann and Elwin Bruno Christoffel and others, as part of the absolute differential calculus. The concept enabled an alternative formulation of the intrinsic differential geometry of a manifold in the form of the Riemann curvature tensor.\n",
      "> tell me about chatbot\n",
      "Kuki, formerly known as Mitsuku, is a chatbot created from Pandorabots AIML technology by Steve Worswick. It is a five-time winner of a Turing Test competition called the Loebner Prize (in 2013, 2016, 2017, 2018, and 2019), for which it holds a world record. Kuki is available to chat via an online portal, and on Facebook Messenger, Twitch group chat, Telegram and Kik Messenger, and was available on Skype, but was removed by its developer.\n",
      "\n",
      "\n",
      "> quit\n",
      "Thank you. Have a good day!\n"
     ]
    }
   ],
   "source": [
    "# 第一个问题\n",
    "first_question=\"Hi, how are you?\"\n",
    "\n",
    "# 使用的样板\n",
    "Chat(\"chatbot_data/Example.template\").converse(first_question)"
   ]
  },
  {
   "cell_type": "code",
   "execution_count": 8,
   "metadata": {},
   "outputs": [
    {
     "name": "stdout",
     "output_type": "stream",
     "text": [
      "你好吗?\n",
      "> 好\n",
      "Please tell me more.\n",
      "> who is 杨振宁?\n",
      "Yang Chen-Ning or Chen-Ning Yang (Chinese: 杨振宁; pinyin: Yáng Zhènníng; born 1 October 1922), also known as C. N. Yang or by the English name Frank Yang, is a Chinese theoretical physicist who made significant contributions to statistical mechanics, integrable systems, gauge theory, and both particle physics and condensed matter physics. He and Tsung-Dao Lee received the 1957 Nobel Prize in Physics for their work on parity nonconservation of weak interaction. The two proposed that one of the basic quantum-mechanics laws, the conservation of parity, is violated in the so-called weak nuclear reactions, those nuclear processes that result in the emission of beta or alpha particles. Yang is also well known for his collaboration with Robert Mills in developing non-abelian gauge theory, widely known as the Yang–Mills theory.\n",
      "\n",
      "\n",
      "> quit\n",
      "Good-bye.\n"
     ]
    }
   ],
   "source": [
    "first_question=\"你好吗?\"\n",
    "Chat(\"chatbot_data/Example.template\").converse(first_question)"
   ]
  },
  {
   "cell_type": "code",
   "execution_count": 7,
   "metadata": {},
   "outputs": [],
   "source": [
    "# 记忆(memory)模组定义\n",
    "@register_call(\"increment_count\")\n",
    "def memory_get_set_example(session, query):\n",
    "    # 一律转成小写\n",
    "    name=query.strip().lower()\n",
    "    # 取得记忆的次数\n",
    "    old_count = session.memory.get(name, '0')\n",
    "    new_count = int(old_count) + 1\n",
    "    # 设定记忆次数\n",
    "    session.memory[name]=str(new_count)\n",
    "    return f\"count  {new_count}\""
   ]
  },
  {
   "cell_type": "code",
   "execution_count": 8,
   "metadata": {},
   "outputs": [
    {
     "name": "stdout",
     "output_type": "stream",
     "text": [
      "\n",
      "Memory get and set example\n",
      "\n",
      "Usage:\n",
      "  increment <name>\n",
      "  show <name>\n",
      "  remember <name> is <value>\n",
      "  tell me about <name>\n",
      "\n",
      "example:\n",
      "  increment mango\n",
      "  show mango\n",
      "  remember sun is red hot star in our solar system\n",
      "  tell me about sun\n",
      "\n",
      "> increment mango\n",
      "count  1\n",
      "> increment mango\n",
      "count  2\n",
      "> show mango\n",
      "2\n",
      "> remember sun is red hot star in our solar system\n",
      "I will remember sun is red hot star in our solar system\n",
      "> tell me about sun\n",
      "sun is red hot star in our solar system\n",
      "> remember PLG 5/2 比赛结果 is 梦想家胜\n",
      "I will remember plg 5/2 比赛结果 is 梦想家胜\n",
      "> tell me about plg 5/2\n",
      "I don't know about plg 5/2\n",
      "> tell me about plg 5/2比赛结果\n",
      "I don't know about plg 5/2比赛结果\n",
      "> tell me about plg 5/2 比赛结果\n",
      "plg 5/2 比赛结果 is 梦想家胜\n",
      "> quit\n",
      "Thank you. Have a good day!\n"
     ]
    }
   ],
   "source": [
    "# 记忆(memory)测试\n",
    "chat = Chat(\"chatbot_data/get_set_memory_example.template\")\n",
    "chat.converse(\"\"\"\n",
    "Memory get and set example\n",
    "\n",
    "Usage:\n",
    "  increment <name>\n",
    "  show <name>\n",
    "  remember <name> is <value>\n",
    "  tell me about <name>\n",
    "\n",
    "example:\n",
    "  increment mango\n",
    "  show mango\n",
    "  remember sun is red hot star in our solar system\n",
    "  tell me about sun\n",
    "\"\"\")"
   ]
  },
  {
   "cell_type": "code",
   "execution_count": null,
   "metadata": {},
   "outputs": [],
   "source": []
  }
 ],
 "metadata": {
  "kernelspec": {
   "display_name": "Python 3",
   "language": "python",
   "name": "python3"
  },
  "language_info": {
   "codemirror_mode": {
    "name": "ipython",
    "version": 3
   },
   "file_extension": ".py",
   "mimetype": "text/x-python",
   "name": "python",
   "nbconvert_exporter": "python",
   "pygments_lexer": "ipython3",
   "version": "3.8.5"
  }
 },
 "nbformat": 4,
 "nbformat_minor": 4
}
